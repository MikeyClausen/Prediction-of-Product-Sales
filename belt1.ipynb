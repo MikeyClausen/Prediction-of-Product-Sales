{
  "nbformat": 4,
  "nbformat_minor": 0,
  "metadata": {
    "colab": {
      "provenance": [],
      "mount_file_id": "1xunNTYcqjoeXo_rk_ZsmQGhUbAoq6zbl",
      "authorship_tag": "ABX9TyOLFv40q/I7tsmGKbl6Rt6I",
      "include_colab_link": true
    },
    "kernelspec": {
      "name": "python3",
      "display_name": "Python 3"
    },
    "language_info": {
      "name": "python"
    }
  },
  "cells": [
    {
      "cell_type": "markdown",
      "metadata": {
        "id": "view-in-github",
        "colab_type": "text"
      },
      "source": [
        "<a href=\"https://colab.research.google.com/github/MikeyClausen/Prediction-of-Product-Sales/blob/other/belt1.ipynb\" target=\"_parent\"><img src=\"https://colab.research.google.com/assets/colab-badge.svg\" alt=\"Open In Colab\"/></a>"
      ]
    },
    {
      "cell_type": "markdown",
      "source": [
        "#Employee Attrition\n",
        "\n",
        "###Imports"
      ],
      "metadata": {
        "id": "ZIoYIlruy7ZQ"
      }
    },
    {
      "cell_type": "code",
      "execution_count": null,
      "metadata": {
        "id": "_vleHmziy257"
      },
      "outputs": [],
      "source": [
        "#Importing data, and modules.\n",
        "filename = '/content/drive/MyDrive/DOJO/IMPORTS/Mod_employee_attrition.xlsx'\n",
        "import pandas as pd\n",
        "import numpy as np\n",
        "import pandas as pd\n",
        "import numpy as np\n",
        "import matplotlib.pyplot as plt\n",
        "import seaborn as sns\n",
        "df = pd.read_excel(filename)"
      ]
    },
    {
      "cell_type": "markdown",
      "source": [
        "#Data Cleaning"
      ],
      "metadata": {
        "id": "badzYvG3z19P"
      }
    },
    {
      "cell_type": "code",
      "source": [
        "#Explore data, using diplay max columns, for easier anaylsis of column data.\n",
        "pd.set_option('display.max_columns', None)\n",
        "df.head(5)"
      ],
      "metadata": {
        "colab": {
          "base_uri": "https://localhost:8080/",
          "height": 357
        },
        "id": "vmugFFV_z5Rs",
        "outputId": "42e73d57-5036-4a39-e8b2-ad3e9efed7d0"
      },
      "execution_count": null,
      "outputs": [
        {
          "output_type": "execute_result",
          "data": {
            "text/plain": [
              "   Age Attrition     BusinessTravel              Department  DistanceFromHome  \\\n",
              "0   41       Yes      Travel_Rarely                   Sales                 1   \n",
              "1   49        No  Travel_Frequently  Research & Development                 8   \n",
              "2   37       Yes      Travel_Rarely  Research & Development                 2   \n",
              "3   33        No  Travel_Frequently  Research & Development                 3   \n",
              "4   27        No      Travel_Rarely  Research & Development                 2   \n",
              "\n",
              "   Education EducationField  EmployeeCount  EmployeeNumber  \\\n",
              "0          2  Life Sciences              1               1   \n",
              "1          1  Life Sciences              1               2   \n",
              "2          2          Other              1               4   \n",
              "3          4  Life Sciences              1               5   \n",
              "4          1        Medical              1               7   \n",
              "\n",
              "   EnvironmentSatisfaction  Gender HourlyRate  JobInvolvement  JobLevel  \\\n",
              "0                        2  Female         94               3         2   \n",
              "1                        3     NaN         61               2         2   \n",
              "2                        4     NaN         92               2         1   \n",
              "3                        4  Female         56               3         1   \n",
              "4                        1     NaN         40               3         1   \n",
              "\n",
              "                 JobRole  JobSatisfaction MaritalStatus  DailyRate  \\\n",
              "0        Sales Executive                4        Single        752   \n",
              "1     Research Scientist                2       Married        488   \n",
              "2  Laboratory Technician                3        Single        736   \n",
              "3     Research Scientist                3       Married        448   \n",
              "4  Laboratory Technician                2       Married        320   \n",
              "\n",
              "   WeeklyRate  YearlyRate  NumCompaniesWorked Over18 OverTime  \\\n",
              "0        3760      195520                   8      Y      Yes   \n",
              "1        2440      126880                   1      Y       No   \n",
              "2        3680      191360                   6      Y      Yes   \n",
              "3        2240      116480                   1      Y      Yes   \n",
              "4        1600       83200                   9      Y       No   \n",
              "\n",
              "   PercentSalaryHike  PerformanceRating  RelationshipSatisfaction  \\\n",
              "0                 11                  3                         1   \n",
              "1                 23                  4                         4   \n",
              "2                 15                  3                         2   \n",
              "3                 11                  3                         3   \n",
              "4                 12                  3                         4   \n",
              "\n",
              "   StandardHours  StockOptionLevel  TotalWorkingYears  TrainingTimesLastYear  \\\n",
              "0             80                 0                  8                      0   \n",
              "1             80                 1                 10                      3   \n",
              "2             80                 0                  7                      3   \n",
              "3             80                 0                  8                      3   \n",
              "4             80                 1                  6                      3   \n",
              "\n",
              "   WorkLifeBalance YearsAtCompany  YearsInCurrentRole  \\\n",
              "0                1              6                   4   \n",
              "1                3             10                   7   \n",
              "2                3              0                   0   \n",
              "3                3              8                   7   \n",
              "4                3              2                   2   \n",
              "\n",
              "   YearsSinceLastPromotion  YearsWithCurrManager  \n",
              "0                        0                     5  \n",
              "1                        1                     7  \n",
              "2                        0                     0  \n",
              "3                        3                     0  \n",
              "4                        2                     2  "
            ],
            "text/html": [
              "\n",
              "  <div id=\"df-a1dc21f9-a5cf-4039-8152-579220b7dfdb\">\n",
              "    <div class=\"colab-df-container\">\n",
              "      <div>\n",
              "<style scoped>\n",
              "    .dataframe tbody tr th:only-of-type {\n",
              "        vertical-align: middle;\n",
              "    }\n",
              "\n",
              "    .dataframe tbody tr th {\n",
              "        vertical-align: top;\n",
              "    }\n",
              "\n",
              "    .dataframe thead th {\n",
              "        text-align: right;\n",
              "    }\n",
              "</style>\n",
              "<table border=\"1\" class=\"dataframe\">\n",
              "  <thead>\n",
              "    <tr style=\"text-align: right;\">\n",
              "      <th></th>\n",
              "      <th>Age</th>\n",
              "      <th>Attrition</th>\n",
              "      <th>BusinessTravel</th>\n",
              "      <th>Department</th>\n",
              "      <th>DistanceFromHome</th>\n",
              "      <th>Education</th>\n",
              "      <th>EducationField</th>\n",
              "      <th>EmployeeCount</th>\n",
              "      <th>EmployeeNumber</th>\n",
              "      <th>EnvironmentSatisfaction</th>\n",
              "      <th>Gender</th>\n",
              "      <th>HourlyRate</th>\n",
              "      <th>JobInvolvement</th>\n",
              "      <th>JobLevel</th>\n",
              "      <th>JobRole</th>\n",
              "      <th>JobSatisfaction</th>\n",
              "      <th>MaritalStatus</th>\n",
              "      <th>DailyRate</th>\n",
              "      <th>WeeklyRate</th>\n",
              "      <th>YearlyRate</th>\n",
              "      <th>NumCompaniesWorked</th>\n",
              "      <th>Over18</th>\n",
              "      <th>OverTime</th>\n",
              "      <th>PercentSalaryHike</th>\n",
              "      <th>PerformanceRating</th>\n",
              "      <th>RelationshipSatisfaction</th>\n",
              "      <th>StandardHours</th>\n",
              "      <th>StockOptionLevel</th>\n",
              "      <th>TotalWorkingYears</th>\n",
              "      <th>TrainingTimesLastYear</th>\n",
              "      <th>WorkLifeBalance</th>\n",
              "      <th>YearsAtCompany</th>\n",
              "      <th>YearsInCurrentRole</th>\n",
              "      <th>YearsSinceLastPromotion</th>\n",
              "      <th>YearsWithCurrManager</th>\n",
              "    </tr>\n",
              "  </thead>\n",
              "  <tbody>\n",
              "    <tr>\n",
              "      <th>0</th>\n",
              "      <td>41</td>\n",
              "      <td>Yes</td>\n",
              "      <td>Travel_Rarely</td>\n",
              "      <td>Sales</td>\n",
              "      <td>1</td>\n",
              "      <td>2</td>\n",
              "      <td>Life Sciences</td>\n",
              "      <td>1</td>\n",
              "      <td>1</td>\n",
              "      <td>2</td>\n",
              "      <td>Female</td>\n",
              "      <td>94</td>\n",
              "      <td>3</td>\n",
              "      <td>2</td>\n",
              "      <td>Sales Executive</td>\n",
              "      <td>4</td>\n",
              "      <td>Single</td>\n",
              "      <td>752</td>\n",
              "      <td>3760</td>\n",
              "      <td>195520</td>\n",
              "      <td>8</td>\n",
              "      <td>Y</td>\n",
              "      <td>Yes</td>\n",
              "      <td>11</td>\n",
              "      <td>3</td>\n",
              "      <td>1</td>\n",
              "      <td>80</td>\n",
              "      <td>0</td>\n",
              "      <td>8</td>\n",
              "      <td>0</td>\n",
              "      <td>1</td>\n",
              "      <td>6</td>\n",
              "      <td>4</td>\n",
              "      <td>0</td>\n",
              "      <td>5</td>\n",
              "    </tr>\n",
              "    <tr>\n",
              "      <th>1</th>\n",
              "      <td>49</td>\n",
              "      <td>No</td>\n",
              "      <td>Travel_Frequently</td>\n",
              "      <td>Research &amp; Development</td>\n",
              "      <td>8</td>\n",
              "      <td>1</td>\n",
              "      <td>Life Sciences</td>\n",
              "      <td>1</td>\n",
              "      <td>2</td>\n",
              "      <td>3</td>\n",
              "      <td>NaN</td>\n",
              "      <td>61</td>\n",
              "      <td>2</td>\n",
              "      <td>2</td>\n",
              "      <td>Research Scientist</td>\n",
              "      <td>2</td>\n",
              "      <td>Married</td>\n",
              "      <td>488</td>\n",
              "      <td>2440</td>\n",
              "      <td>126880</td>\n",
              "      <td>1</td>\n",
              "      <td>Y</td>\n",
              "      <td>No</td>\n",
              "      <td>23</td>\n",
              "      <td>4</td>\n",
              "      <td>4</td>\n",
              "      <td>80</td>\n",
              "      <td>1</td>\n",
              "      <td>10</td>\n",
              "      <td>3</td>\n",
              "      <td>3</td>\n",
              "      <td>10</td>\n",
              "      <td>7</td>\n",
              "      <td>1</td>\n",
              "      <td>7</td>\n",
              "    </tr>\n",
              "    <tr>\n",
              "      <th>2</th>\n",
              "      <td>37</td>\n",
              "      <td>Yes</td>\n",
              "      <td>Travel_Rarely</td>\n",
              "      <td>Research &amp; Development</td>\n",
              "      <td>2</td>\n",
              "      <td>2</td>\n",
              "      <td>Other</td>\n",
              "      <td>1</td>\n",
              "      <td>4</td>\n",
              "      <td>4</td>\n",
              "      <td>NaN</td>\n",
              "      <td>92</td>\n",
              "      <td>2</td>\n",
              "      <td>1</td>\n",
              "      <td>Laboratory Technician</td>\n",
              "      <td>3</td>\n",
              "      <td>Single</td>\n",
              "      <td>736</td>\n",
              "      <td>3680</td>\n",
              "      <td>191360</td>\n",
              "      <td>6</td>\n",
              "      <td>Y</td>\n",
              "      <td>Yes</td>\n",
              "      <td>15</td>\n",
              "      <td>3</td>\n",
              "      <td>2</td>\n",
              "      <td>80</td>\n",
              "      <td>0</td>\n",
              "      <td>7</td>\n",
              "      <td>3</td>\n",
              "      <td>3</td>\n",
              "      <td>0</td>\n",
              "      <td>0</td>\n",
              "      <td>0</td>\n",
              "      <td>0</td>\n",
              "    </tr>\n",
              "    <tr>\n",
              "      <th>3</th>\n",
              "      <td>33</td>\n",
              "      <td>No</td>\n",
              "      <td>Travel_Frequently</td>\n",
              "      <td>Research &amp; Development</td>\n",
              "      <td>3</td>\n",
              "      <td>4</td>\n",
              "      <td>Life Sciences</td>\n",
              "      <td>1</td>\n",
              "      <td>5</td>\n",
              "      <td>4</td>\n",
              "      <td>Female</td>\n",
              "      <td>56</td>\n",
              "      <td>3</td>\n",
              "      <td>1</td>\n",
              "      <td>Research Scientist</td>\n",
              "      <td>3</td>\n",
              "      <td>Married</td>\n",
              "      <td>448</td>\n",
              "      <td>2240</td>\n",
              "      <td>116480</td>\n",
              "      <td>1</td>\n",
              "      <td>Y</td>\n",
              "      <td>Yes</td>\n",
              "      <td>11</td>\n",
              "      <td>3</td>\n",
              "      <td>3</td>\n",
              "      <td>80</td>\n",
              "      <td>0</td>\n",
              "      <td>8</td>\n",
              "      <td>3</td>\n",
              "      <td>3</td>\n",
              "      <td>8</td>\n",
              "      <td>7</td>\n",
              "      <td>3</td>\n",
              "      <td>0</td>\n",
              "    </tr>\n",
              "    <tr>\n",
              "      <th>4</th>\n",
              "      <td>27</td>\n",
              "      <td>No</td>\n",
              "      <td>Travel_Rarely</td>\n",
              "      <td>Research &amp; Development</td>\n",
              "      <td>2</td>\n",
              "      <td>1</td>\n",
              "      <td>Medical</td>\n",
              "      <td>1</td>\n",
              "      <td>7</td>\n",
              "      <td>1</td>\n",
              "      <td>NaN</td>\n",
              "      <td>40</td>\n",
              "      <td>3</td>\n",
              "      <td>1</td>\n",
              "      <td>Laboratory Technician</td>\n",
              "      <td>2</td>\n",
              "      <td>Married</td>\n",
              "      <td>320</td>\n",
              "      <td>1600</td>\n",
              "      <td>83200</td>\n",
              "      <td>9</td>\n",
              "      <td>Y</td>\n",
              "      <td>No</td>\n",
              "      <td>12</td>\n",
              "      <td>3</td>\n",
              "      <td>4</td>\n",
              "      <td>80</td>\n",
              "      <td>1</td>\n",
              "      <td>6</td>\n",
              "      <td>3</td>\n",
              "      <td>3</td>\n",
              "      <td>2</td>\n",
              "      <td>2</td>\n",
              "      <td>2</td>\n",
              "      <td>2</td>\n",
              "    </tr>\n",
              "  </tbody>\n",
              "</table>\n",
              "</div>\n",
              "      <button class=\"colab-df-convert\" onclick=\"convertToInteractive('df-a1dc21f9-a5cf-4039-8152-579220b7dfdb')\"\n",
              "              title=\"Convert this dataframe to an interactive table.\"\n",
              "              style=\"display:none;\">\n",
              "        \n",
              "  <svg xmlns=\"http://www.w3.org/2000/svg\" height=\"24px\"viewBox=\"0 0 24 24\"\n",
              "       width=\"24px\">\n",
              "    <path d=\"M0 0h24v24H0V0z\" fill=\"none\"/>\n",
              "    <path d=\"M18.56 5.44l.94 2.06.94-2.06 2.06-.94-2.06-.94-.94-2.06-.94 2.06-2.06.94zm-11 1L8.5 8.5l.94-2.06 2.06-.94-2.06-.94L8.5 2.5l-.94 2.06-2.06.94zm10 10l.94 2.06.94-2.06 2.06-.94-2.06-.94-.94-2.06-.94 2.06-2.06.94z\"/><path d=\"M17.41 7.96l-1.37-1.37c-.4-.4-.92-.59-1.43-.59-.52 0-1.04.2-1.43.59L10.3 9.45l-7.72 7.72c-.78.78-.78 2.05 0 2.83L4 21.41c.39.39.9.59 1.41.59.51 0 1.02-.2 1.41-.59l7.78-7.78 2.81-2.81c.8-.78.8-2.07 0-2.86zM5.41 20L4 18.59l7.72-7.72 1.47 1.35L5.41 20z\"/>\n",
              "  </svg>\n",
              "      </button>\n",
              "      \n",
              "  <style>\n",
              "    .colab-df-container {\n",
              "      display:flex;\n",
              "      flex-wrap:wrap;\n",
              "      gap: 12px;\n",
              "    }\n",
              "\n",
              "    .colab-df-convert {\n",
              "      background-color: #E8F0FE;\n",
              "      border: none;\n",
              "      border-radius: 50%;\n",
              "      cursor: pointer;\n",
              "      display: none;\n",
              "      fill: #1967D2;\n",
              "      height: 32px;\n",
              "      padding: 0 0 0 0;\n",
              "      width: 32px;\n",
              "    }\n",
              "\n",
              "    .colab-df-convert:hover {\n",
              "      background-color: #E2EBFA;\n",
              "      box-shadow: 0px 1px 2px rgba(60, 64, 67, 0.3), 0px 1px 3px 1px rgba(60, 64, 67, 0.15);\n",
              "      fill: #174EA6;\n",
              "    }\n",
              "\n",
              "    [theme=dark] .colab-df-convert {\n",
              "      background-color: #3B4455;\n",
              "      fill: #D2E3FC;\n",
              "    }\n",
              "\n",
              "    [theme=dark] .colab-df-convert:hover {\n",
              "      background-color: #434B5C;\n",
              "      box-shadow: 0px 1px 3px 1px rgba(0, 0, 0, 0.15);\n",
              "      filter: drop-shadow(0px 1px 2px rgba(0, 0, 0, 0.3));\n",
              "      fill: #FFFFFF;\n",
              "    }\n",
              "  </style>\n",
              "\n",
              "      <script>\n",
              "        const buttonEl =\n",
              "          document.querySelector('#df-a1dc21f9-a5cf-4039-8152-579220b7dfdb button.colab-df-convert');\n",
              "        buttonEl.style.display =\n",
              "          google.colab.kernel.accessAllowed ? 'block' : 'none';\n",
              "\n",
              "        async function convertToInteractive(key) {\n",
              "          const element = document.querySelector('#df-a1dc21f9-a5cf-4039-8152-579220b7dfdb');\n",
              "          const dataTable =\n",
              "            await google.colab.kernel.invokeFunction('convertToInteractive',\n",
              "                                                     [key], {});\n",
              "          if (!dataTable) return;\n",
              "\n",
              "          const docLinkHtml = 'Like what you see? Visit the ' +\n",
              "            '<a target=\"_blank\" href=https://colab.research.google.com/notebooks/data_table.ipynb>data table notebook</a>'\n",
              "            + ' to learn more about interactive tables.';\n",
              "          element.innerHTML = '';\n",
              "          dataTable['output_type'] = 'display_data';\n",
              "          await google.colab.output.renderOutput(dataTable, element);\n",
              "          const docLink = document.createElement('div');\n",
              "          docLink.innerHTML = docLinkHtml;\n",
              "          element.appendChild(docLink);\n",
              "        }\n",
              "      </script>\n",
              "    </div>\n",
              "  </div>\n",
              "  "
            ]
          },
          "metadata": {},
          "execution_count": 320
        }
      ]
    },
    {
      "cell_type": "markdown",
      "source": [
        "##Identify and address any duplicate values."
      ],
      "metadata": {
        "id": "bXu2qx6Z0rTI"
      }
    },
    {
      "cell_type": "code",
      "source": [
        "#Find duplicates\n",
        "df.duplicated().sum()"
      ],
      "metadata": {
        "colab": {
          "base_uri": "https://localhost:8080/"
        },
        "id": "p0UBK2gj0gDJ",
        "outputId": "68c37265-2a7f-4c89-ef60-80a7ee175d51"
      },
      "execution_count": null,
      "outputs": [
        {
          "output_type": "execute_result",
          "data": {
            "text/plain": [
              "5"
            ]
          },
          "metadata": {},
          "execution_count": 321
        }
      ]
    },
    {
      "cell_type": "code",
      "source": [
        "#Drop them since they are duplicated rows.\n",
        "df = df.drop_duplicates()"
      ],
      "metadata": {
        "id": "v0SMwQdL6MSa"
      },
      "execution_count": null,
      "outputs": []
    },
    {
      "cell_type": "code",
      "source": [
        "#Check they dropped successfully.\n",
        "df.duplicated().sum()"
      ],
      "metadata": {
        "colab": {
          "base_uri": "https://localhost:8080/"
        },
        "id": "dgS7oxL764wj",
        "outputId": "08fd39b6-083b-45af-e18d-8083d913a76b"
      },
      "execution_count": null,
      "outputs": [
        {
          "output_type": "execute_result",
          "data": {
            "text/plain": [
              "0"
            ]
          },
          "metadata": {},
          "execution_count": 323
        }
      ]
    },
    {
      "cell_type": "markdown",
      "source": [
        "##Identify and address missing values in dataset."
      ],
      "metadata": {
        "id": "e1zgsnk37J_t"
      }
    },
    {
      "cell_type": "code",
      "source": [
        "#Using isna to look for NaN entries, we see that Gender is missing many entries.\n",
        "df.isna().sum()"
      ],
      "metadata": {
        "colab": {
          "base_uri": "https://localhost:8080/"
        },
        "id": "rKJPjbWS7TMT",
        "outputId": "c823fcc2-b4e0-499b-b521-aaaf7533fa39"
      },
      "execution_count": null,
      "outputs": [
        {
          "output_type": "execute_result",
          "data": {
            "text/plain": [
              "Age                           0\n",
              "Attrition                     0\n",
              "BusinessTravel                0\n",
              "Department                    0\n",
              "DistanceFromHome              0\n",
              "Education                     0\n",
              "EducationField                0\n",
              "EmployeeCount                 0\n",
              "EmployeeNumber                0\n",
              "EnvironmentSatisfaction       0\n",
              "Gender                      882\n",
              "HourlyRate                    0\n",
              "JobInvolvement                0\n",
              "JobLevel                      0\n",
              "JobRole                       0\n",
              "JobSatisfaction               0\n",
              "MaritalStatus                 0\n",
              "DailyRate                     0\n",
              "WeeklyRate                    0\n",
              "YearlyRate                    0\n",
              "NumCompaniesWorked            0\n",
              "Over18                        0\n",
              "OverTime                      0\n",
              "PercentSalaryHike             0\n",
              "PerformanceRating             0\n",
              "RelationshipSatisfaction      0\n",
              "StandardHours                 0\n",
              "StockOptionLevel              0\n",
              "TotalWorkingYears             0\n",
              "TrainingTimesLastYear         0\n",
              "WorkLifeBalance               0\n",
              "YearsAtCompany                0\n",
              "YearsInCurrentRole            0\n",
              "YearsSinceLastPromotion       0\n",
              "YearsWithCurrManager          0\n",
              "dtype: int64"
            ]
          },
          "metadata": {},
          "execution_count": 324
        }
      ]
    },
    {
      "cell_type": "code",
      "source": [
        "#Shows that 590 of the enteries are Female.\n",
        "df['Gender'].value_counts()"
      ],
      "metadata": {
        "colab": {
          "base_uri": "https://localhost:8080/"
        },
        "id": "c4ScoX7a8-mS",
        "outputId": "a9b83f15-6365-48fe-e49e-2d8cfb6ac22b"
      },
      "execution_count": null,
      "outputs": [
        {
          "output_type": "execute_result",
          "data": {
            "text/plain": [
              "Female    588\n",
              "Name: Gender, dtype: int64"
            ]
          },
          "metadata": {},
          "execution_count": 325
        }
      ]
    },
    {
      "cell_type": "markdown",
      "source": [
        "###'Gender' Column\n",
        "####Strategy\n",
        "\n",
        "*   Replace missing values with the opposite gender, the ratio seems accurate.\n",
        "\n",
        "####Justification\n",
        "\n",
        "*   The missing data would be 'Male' 885 males, this would make up 59%~ of the employee force leaving 'Female at 41%~ of the employee force.\n",
        "\n",
        "\n",
        "\n",
        "\n"
      ],
      "metadata": {
        "id": "YB9k9_nR9Oeb"
      }
    },
    {
      "cell_type": "code",
      "source": [
        "#Use fillna to replace NaN entries. Check that new values took.\n",
        "df['Gender'].fillna('Male', inplace=True)\n",
        "df['Gender'].value_counts()"
      ],
      "metadata": {
        "colab": {
          "base_uri": "https://localhost:8080/"
        },
        "id": "rLkGWTPb91ce",
        "outputId": "dbb37a1c-5a14-4601-800c-93b43dd2910d"
      },
      "execution_count": null,
      "outputs": [
        {
          "output_type": "stream",
          "name": "stderr",
          "text": [
            "<ipython-input-326-7c9837225626>:2: SettingWithCopyWarning: \n",
            "A value is trying to be set on a copy of a slice from a DataFrame\n",
            "\n",
            "See the caveats in the documentation: https://pandas.pydata.org/pandas-docs/stable/user_guide/indexing.html#returning-a-view-versus-a-copy\n",
            "  df['Gender'].fillna('Male', inplace=True)\n"
          ]
        },
        {
          "output_type": "execute_result",
          "data": {
            "text/plain": [
              "Male      882\n",
              "Female    588\n",
              "Name: Gender, dtype: int64"
            ]
          },
          "metadata": {},
          "execution_count": 326
        }
      ]
    },
    {
      "cell_type": "code",
      "source": [
        "#Double Checking\n",
        "df.isna().sum()"
      ],
      "metadata": {
        "colab": {
          "base_uri": "https://localhost:8080/"
        },
        "id": "XdO7p17F-Xpu",
        "outputId": "76700e0c-b465-473b-96e8-02e7143959c9"
      },
      "execution_count": null,
      "outputs": [
        {
          "output_type": "execute_result",
          "data": {
            "text/plain": [
              "Age                         0\n",
              "Attrition                   0\n",
              "BusinessTravel              0\n",
              "Department                  0\n",
              "DistanceFromHome            0\n",
              "Education                   0\n",
              "EducationField              0\n",
              "EmployeeCount               0\n",
              "EmployeeNumber              0\n",
              "EnvironmentSatisfaction     0\n",
              "Gender                      0\n",
              "HourlyRate                  0\n",
              "JobInvolvement              0\n",
              "JobLevel                    0\n",
              "JobRole                     0\n",
              "JobSatisfaction             0\n",
              "MaritalStatus               0\n",
              "DailyRate                   0\n",
              "WeeklyRate                  0\n",
              "YearlyRate                  0\n",
              "NumCompaniesWorked          0\n",
              "Over18                      0\n",
              "OverTime                    0\n",
              "PercentSalaryHike           0\n",
              "PerformanceRating           0\n",
              "RelationshipSatisfaction    0\n",
              "StandardHours               0\n",
              "StockOptionLevel            0\n",
              "TotalWorkingYears           0\n",
              "TrainingTimesLastYear       0\n",
              "WorkLifeBalance             0\n",
              "YearsAtCompany              0\n",
              "YearsInCurrentRole          0\n",
              "YearsSinceLastPromotion     0\n",
              "YearsWithCurrManager        0\n",
              "dtype: int64"
            ]
          },
          "metadata": {},
          "execution_count": 327
        }
      ]
    },
    {
      "cell_type": "markdown",
      "source": [
        "##Ensure all columns match the data types listed in the data dictionary."
      ],
      "metadata": {
        "id": "gJ4Qn2JoDXUC"
      }
    },
    {
      "cell_type": "code",
      "source": [
        "#Use info to see data types and compare to provided Data Dictionary.\n",
        "df.info()\n",
        "#Incorrect Data types are:  Hourlyrate, YearsAtCompany\n",
        "#Not in data dictionary: EmployeeNumber, weeklyrate, yearlyrate"
      ],
      "metadata": {
        "colab": {
          "base_uri": "https://localhost:8080/"
        },
        "id": "bseUTQfmDgqZ",
        "outputId": "606e41ad-59a2-4d55-de3e-4d65baaa8d3b"
      },
      "execution_count": null,
      "outputs": [
        {
          "output_type": "stream",
          "name": "stdout",
          "text": [
            "<class 'pandas.core.frame.DataFrame'>\n",
            "Int64Index: 1470 entries, 0 to 1474\n",
            "Data columns (total 35 columns):\n",
            " #   Column                    Non-Null Count  Dtype \n",
            "---  ------                    --------------  ----- \n",
            " 0   Age                       1470 non-null   int64 \n",
            " 1   Attrition                 1470 non-null   object\n",
            " 2   BusinessTravel            1470 non-null   object\n",
            " 3   Department                1470 non-null   object\n",
            " 4   DistanceFromHome          1470 non-null   int64 \n",
            " 5   Education                 1470 non-null   int64 \n",
            " 6   EducationField            1470 non-null   object\n",
            " 7   EmployeeCount             1470 non-null   int64 \n",
            " 8   EmployeeNumber            1470 non-null   int64 \n",
            " 9   EnvironmentSatisfaction   1470 non-null   int64 \n",
            " 10  Gender                    1470 non-null   object\n",
            " 11  HourlyRate                1470 non-null   object\n",
            " 12  JobInvolvement            1470 non-null   int64 \n",
            " 13  JobLevel                  1470 non-null   int64 \n",
            " 14  JobRole                   1470 non-null   object\n",
            " 15  JobSatisfaction           1470 non-null   int64 \n",
            " 16  MaritalStatus             1470 non-null   object\n",
            " 17  DailyRate                 1470 non-null   int64 \n",
            " 18  WeeklyRate                1470 non-null   int64 \n",
            " 19  YearlyRate                1470 non-null   int64 \n",
            " 20  NumCompaniesWorked        1470 non-null   int64 \n",
            " 21  Over18                    1470 non-null   object\n",
            " 22  OverTime                  1470 non-null   object\n",
            " 23  PercentSalaryHike         1470 non-null   int64 \n",
            " 24  PerformanceRating         1470 non-null   int64 \n",
            " 25  RelationshipSatisfaction  1470 non-null   int64 \n",
            " 26  StandardHours             1470 non-null   int64 \n",
            " 27  StockOptionLevel          1470 non-null   int64 \n",
            " 28  TotalWorkingYears         1470 non-null   int64 \n",
            " 29  TrainingTimesLastYear     1470 non-null   int64 \n",
            " 30  WorkLifeBalance           1470 non-null   int64 \n",
            " 31  YearsAtCompany            1470 non-null   object\n",
            " 32  YearsInCurrentRole        1470 non-null   int64 \n",
            " 33  YearsSinceLastPromotion   1470 non-null   int64 \n",
            " 34  YearsWithCurrManager      1470 non-null   int64 \n",
            "dtypes: int64(24), object(11)\n",
            "memory usage: 413.4+ KB\n"
          ]
        }
      ]
    },
    {
      "cell_type": "code",
      "source": [
        "#Check HourlyRate for value inconsistences\n",
        "df['HourlyRate'].value_counts().tail()"
      ],
      "metadata": {
        "colab": {
          "base_uri": "https://localhost:8080/"
        },
        "id": "kdrWtwNtIl_c",
        "outputId": "8d562da8-2148-4a7e-b7cf-b1e24e79c006"
      },
      "execution_count": null,
      "outputs": [
        {
          "output_type": "execute_result",
          "data": {
            "text/plain": [
              "53     14\n",
              "68     14\n",
              "38     13\n",
              "34     12\n",
              "94_     1\n",
              "Name: HourlyRate, dtype: int64"
            ]
          },
          "metadata": {},
          "execution_count": 329
        }
      ]
    },
    {
      "cell_type": "code",
      "source": [
        "#Fixing value m arked as 94_\n",
        "df.replace('94_',94,inplace=True)"
      ],
      "metadata": {
        "id": "ePRS_6oIJQXb"
      },
      "execution_count": null,
      "outputs": []
    },
    {
      "cell_type": "code",
      "source": [
        "#Was it replaced.\n",
        "df['HourlyRate'].value_counts().tail()"
      ],
      "metadata": {
        "colab": {
          "base_uri": "https://localhost:8080/"
        },
        "id": "BrAWthiZJiH-",
        "outputId": "a3042194-7cca-42df-cca7-d122d946cecf"
      },
      "execution_count": null,
      "outputs": [
        {
          "output_type": "execute_result",
          "data": {
            "text/plain": [
              "31    15\n",
              "53    14\n",
              "68    14\n",
              "38    13\n",
              "34    12\n",
              "Name: HourlyRate, dtype: int64"
            ]
          },
          "metadata": {},
          "execution_count": 331
        }
      ]
    },
    {
      "cell_type": "code",
      "source": [
        "#Check that fixing 94_ fixed data type for hourly rate.\n",
        "df['HourlyRate'].info()"
      ],
      "metadata": {
        "colab": {
          "base_uri": "https://localhost:8080/"
        },
        "id": "Bru42aC8H4cY",
        "outputId": "476fdd5a-bc07-49b0-e8da-326fbaa5a702"
      },
      "execution_count": null,
      "outputs": [
        {
          "output_type": "stream",
          "name": "stdout",
          "text": [
            "<class 'pandas.core.series.Series'>\n",
            "Int64Index: 1470 entries, 0 to 1474\n",
            "Series name: HourlyRate\n",
            "Non-Null Count  Dtype\n",
            "--------------  -----\n",
            "1470 non-null   int64\n",
            "dtypes: int64(1)\n",
            "memory usage: 23.0 KB\n"
          ]
        }
      ]
    },
    {
      "cell_type": "code",
      "source": [
        "#Is this due to a value being called as an object (typo)\n",
        "df['YearsAtCompany'].value_counts().tail()"
      ],
      "metadata": {
        "colab": {
          "base_uri": "https://localhost:8080/"
        },
        "id": "d_iRNxL_N4XO",
        "outputId": "7a17d714-9abf-49a2-f273-f7ecaaa0c304"
      },
      "execution_count": null,
      "outputs": [
        {
          "output_type": "execute_result",
          "data": {
            "text/plain": [
              "37    1\n",
              "40    1\n",
              "5!    1\n",
              "34    1\n",
              "30    1\n",
              "Name: YearsAtCompany, dtype: int64"
            ]
          },
          "metadata": {},
          "execution_count": 333
        }
      ]
    },
    {
      "cell_type": "code",
      "source": [
        "#It was so we replace 5! with 5\n",
        "df.replace('5!',5,inplace=True)"
      ],
      "metadata": {
        "id": "XJkLsQ8_OcJ2"
      },
      "execution_count": null,
      "outputs": []
    },
    {
      "cell_type": "code",
      "source": [
        "#Check that it worked.\n",
        "df['YearsAtCompany'].value_counts().tail()"
      ],
      "metadata": {
        "colab": {
          "base_uri": "https://localhost:8080/"
        },
        "id": "A9kCFNigOEon",
        "outputId": "fc83c3cb-fe94-4df2-db99-bfa606ad65e3"
      },
      "execution_count": null,
      "outputs": [
        {
          "output_type": "execute_result",
          "data": {
            "text/plain": [
              "23    2\n",
              "37    1\n",
              "40    1\n",
              "34    1\n",
              "30    1\n",
              "Name: YearsAtCompany, dtype: int64"
            ]
          },
          "metadata": {},
          "execution_count": 335
        }
      ]
    },
    {
      "cell_type": "code",
      "source": [
        "#Did this fix YearsAtCompany's Data type.\n",
        "df['YearsAtCompany'].info()"
      ],
      "metadata": {
        "colab": {
          "base_uri": "https://localhost:8080/"
        },
        "id": "dfmHwKPjOhhD",
        "outputId": "73604865-7292-4bdf-995e-45476e7a6978"
      },
      "execution_count": null,
      "outputs": [
        {
          "output_type": "stream",
          "name": "stdout",
          "text": [
            "<class 'pandas.core.series.Series'>\n",
            "Int64Index: 1470 entries, 0 to 1474\n",
            "Series name: YearsAtCompany\n",
            "Non-Null Count  Dtype\n",
            "--------------  -----\n",
            "1470 non-null   int64\n",
            "dtypes: int64(1)\n",
            "memory usage: 23.0 KB\n"
          ]
        }
      ]
    },
    {
      "cell_type": "markdown",
      "source": [
        "#Identify and address any inappropriate or unusual data points"
      ],
      "metadata": {
        "id": "VyENaHhmPw3z"
      }
    },
    {
      "cell_type": "code",
      "source": [
        "#Creating a filter to give int values\n",
        "types = df.dtypes\n",
        "data_types = types[(types == \"int64\")]\n",
        "data_types\n",
        "print(data_types.index)"
      ],
      "metadata": {
        "id": "XXUij724Ppdu",
        "outputId": "6988f51b-b3bc-4163-f23f-8d8e71fc0eed",
        "colab": {
          "base_uri": "https://localhost:8080/"
        }
      },
      "execution_count": null,
      "outputs": [
        {
          "output_type": "stream",
          "name": "stdout",
          "text": [
            "Index(['Age', 'DistanceFromHome', 'Education', 'EmployeeCount',\n",
            "       'EmployeeNumber', 'EnvironmentSatisfaction', 'HourlyRate',\n",
            "       'JobInvolvement', 'JobLevel', 'JobSatisfaction', 'DailyRate',\n",
            "       'WeeklyRate', 'YearlyRate', 'NumCompaniesWorked', 'PercentSalaryHike',\n",
            "       'PerformanceRating', 'RelationshipSatisfaction', 'StandardHours',\n",
            "       'StockOptionLevel', 'TotalWorkingYears', 'TrainingTimesLastYear',\n",
            "       'WorkLifeBalance', 'YearsAtCompany', 'YearsInCurrentRole',\n",
            "       'YearsSinceLastPromotion', 'YearsWithCurrManager'],\n",
            "      dtype='object')\n"
          ]
        }
      ]
    },
    {
      "cell_type": "code",
      "source": [
        "#Create a method, to display unique values for assement.\n",
        "for column in data_types.index:\n",
        "    # Display the unique values from the column\n",
        "    print(column)\n",
        "    print(df[column].unique())\n",
        "    print('\\n')"
      ],
      "metadata": {
        "id": "8IiVFldoPFhj",
        "outputId": "acbc5ab3-1cfc-49d4-ebf1-04c4abe1974a",
        "colab": {
          "base_uri": "https://localhost:8080/"
        }
      },
      "execution_count": null,
      "outputs": [
        {
          "output_type": "stream",
          "name": "stdout",
          "text": [
            "Age\n",
            "[ 41  49  37  33  27  32  59  30  38  36  35  29  31  34  28  22  53  24\n",
            "  21  42  44  46  39  43  50  26  48  55  45  56  23  51  40  54 578  20\n",
            "  25  58  19  57  52  47  18  60]\n",
            "\n",
            "\n",
            "DistanceFromHome\n",
            "[ 1  8  2  3 24 23 27 16 15 26 19 21  5 11  9  7  6 10  4 25 12 18 29 22\n",
            " 14 20 28 17 13]\n",
            "\n",
            "\n",
            "Education\n",
            "[2 1 4 3 5]\n",
            "\n",
            "\n",
            "EmployeeCount\n",
            "[1]\n",
            "\n",
            "\n",
            "EmployeeNumber\n",
            "[   1    2    4 ... 2064 2065 2068]\n",
            "\n",
            "\n",
            "EnvironmentSatisfaction\n",
            "[2 3 4 1]\n",
            "\n",
            "\n",
            "HourlyRate\n",
            "[ 94  61  92  56  40  79  81  67  44  84  49  31  93  50  51  80  96  78\n",
            "  45  82  53  83  58  72  48  42  41  86  97  75  33  37  73  98  36  47\n",
            "  71  30  43  99  59  95  57  76  87  66  55  32  52  70  62  64  63  60\n",
            " 100  46  39  77  35  91  54  34  90  65  88  85  89  68  69  74  38]\n",
            "\n",
            "\n",
            "JobInvolvement\n",
            "[3 2 4 1]\n",
            "\n",
            "\n",
            "JobLevel\n",
            "[2 1 3 4 5]\n",
            "\n",
            "\n",
            "JobSatisfaction\n",
            "[4 2 3 1]\n",
            "\n",
            "\n",
            "DailyRate\n",
            "[752 488 736 448 320 632 648 536 352 672 392 248 744 400 408 640 768 624\n",
            " 360 656 424 664 464 576 384 336 328 688 776 600 264 296 584 784 288 376\n",
            " 568 240 344 792 472 760 456 608 696 528 440 256 416 560 496 512 504 480\n",
            " 800 368 312 616 280 728 432 272 720 520 704 680 712 544 552 592 304]\n",
            "\n",
            "\n",
            "WeeklyRate\n",
            "[3760 2440 3680 2240 1600 3160 3240 2680 1760 3360 1960 1240 3720 2000\n",
            " 2040 3200 3840 3120 1800 3280 2120 3320 2320 2880 1920 1680 1640 3440\n",
            " 3880 3000 1320 1480 2920 3920 1440 1880 2840 1200 1720 3960 2360 3800\n",
            " 2280 3040 3480 2640 2200 1280 2080 2800 2480 2560 2520 2400 4000 1840\n",
            " 1560 3080 1400 3640 2160 1360 3600 2600 3520 3400 3560 2720 2760 2960\n",
            " 1520]\n",
            "\n",
            "\n",
            "YearlyRate\n",
            "[195520 126880 191360 116480  83200 164320 168480 139360  91520 174720\n",
            " 101920  64480 193440 104000 106080 166400 199680 162240  93600 170560\n",
            " 110240 172640 120640 149760  99840  87360  85280 178880 201760 156000\n",
            "  68640  76960 151840 203840  74880  97760 147680  62400  89440 205920\n",
            " 122720 197600 118560 158080 180960 137280 114400  66560 108160 145600\n",
            " 128960 133120 131040 124800 208000  95680  81120 160160  72800 189280\n",
            " 112320  70720 187200 135200 183040 176800 185120 141440 143520 153920\n",
            "  79040]\n",
            "\n",
            "\n",
            "NumCompaniesWorked\n",
            "[8 1 6 9 0 4 5 2 7 3]\n",
            "\n",
            "\n",
            "PercentSalaryHike\n",
            "[11 23 15 12 13 20 22 21 17 14 16 18 19 24 25]\n",
            "\n",
            "\n",
            "PerformanceRating\n",
            "[3 4]\n",
            "\n",
            "\n",
            "RelationshipSatisfaction\n",
            "[1 4 2 3]\n",
            "\n",
            "\n",
            "StandardHours\n",
            "[80]\n",
            "\n",
            "\n",
            "StockOptionLevel\n",
            "[0 1 3 2]\n",
            "\n",
            "\n",
            "TotalWorkingYears\n",
            "[ 8 10  7  6 12  1 17  5  3 31 13  0 26 24 22  9 19  2 23 14 15  4 29 28\n",
            " 21 25 20 11 16 37 38 30 40 18 36 34 32 33 35 27]\n",
            "\n",
            "\n",
            "TrainingTimesLastYear\n",
            "[0 3 2 5 1 4 6]\n",
            "\n",
            "\n",
            "WorkLifeBalance\n",
            "[1 3 2 4]\n",
            "\n",
            "\n",
            "YearsAtCompany\n",
            "[ 6 10  0  8  2  7  1  9  5  4 25  3 12 14 22 15 27 21 17 11 13 37 16 20\n",
            " 40 24 33 19 36 18 29 31 32 34 26 30 23]\n",
            "\n",
            "\n",
            "YearsInCurrentRole\n",
            "[ 4  7  0  2  5  9  8  3  6 13  1 15 14 16 11 10 12 18 17]\n",
            "\n",
            "\n",
            "YearsSinceLastPromotion\n",
            "[ 0  1  3  2  7  4  8  6  5 15  9 13 12 10 11 14]\n",
            "\n",
            "\n",
            "YearsWithCurrManager\n",
            "[ 5  7  0  2  6  8  3 11 17  1  4 12  9 10 15 13 16 14]\n",
            "\n",
            "\n"
          ]
        }
      ]
    },
    {
      "cell_type": "markdown",
      "source": [
        "###'Age' Column\n",
        "####Strategy\n",
        "\n",
        "*   Replace 578, with 57.\n",
        "\n",
        "####Justification\n",
        "\n",
        "*   Most likely a typo, 1 year difference if it was supposed to be 58, this is more accurate than using mean()"
      ],
      "metadata": {
        "id": "AwupaDfbQa-G"
      }
    },
    {
      "cell_type": "code",
      "source": [
        "#Only odd value seems to be 578 in the Age column.\n",
        "df['Age'].replace(578,57,inplace=True)"
      ],
      "metadata": {
        "id": "wriiJmyqQD6G"
      },
      "execution_count": null,
      "outputs": []
    },
    {
      "cell_type": "code",
      "source": [
        "#Check it worked.\n",
        "df['Age'].unique()"
      ],
      "metadata": {
        "colab": {
          "base_uri": "https://localhost:8080/"
        },
        "id": "LbhtigBJQTMq",
        "outputId": "a20bf992-0814-462d-e2c4-94928eeb5f5b"
      },
      "execution_count": null,
      "outputs": [
        {
          "output_type": "execute_result",
          "data": {
            "text/plain": [
              "array([41, 49, 37, 33, 27, 32, 59, 30, 38, 36, 35, 29, 31, 34, 28, 22, 53,\n",
              "       24, 21, 42, 44, 46, 39, 43, 50, 26, 48, 55, 45, 56, 23, 51, 40, 54,\n",
              "       57, 20, 25, 58, 19, 52, 47, 18, 60])"
            ]
          },
          "metadata": {},
          "execution_count": 340
        }
      ]
    },
    {
      "cell_type": "code",
      "source": [
        "df['HourlyRate'].unique()"
      ],
      "metadata": {
        "colab": {
          "base_uri": "https://localhost:8080/"
        },
        "id": "xL4tRhlfZzoc",
        "outputId": "9a35d96e-08dc-4276-d936-c87eddd51539"
      },
      "execution_count": null,
      "outputs": [
        {
          "output_type": "execute_result",
          "data": {
            "text/plain": [
              "array([ 94,  61,  92,  56,  40,  79,  81,  67,  44,  84,  49,  31,  93,\n",
              "        50,  51,  80,  96,  78,  45,  82,  53,  83,  58,  72,  48,  42,\n",
              "        41,  86,  97,  75,  33,  37,  73,  98,  36,  47,  71,  30,  43,\n",
              "        99,  59,  95,  57,  76,  87,  66,  55,  32,  52,  70,  62,  64,\n",
              "        63,  60, 100,  46,  39,  77,  35,  91,  54,  34,  90,  65,  88,\n",
              "        85,  89,  68,  69,  74,  38])"
            ]
          },
          "metadata": {},
          "execution_count": 341
        }
      ]
    },
    {
      "cell_type": "markdown",
      "source": [
        "##Data Exploration.\n",
        "\n",
        "###Two univariate exploratory visualizations.\n"
      ],
      "metadata": {
        "id": "HpKvxBd0QugF"
      }
    },
    {
      "cell_type": "code",
      "source": [
        "#Correlate numeric data, for ease of use later.\n",
        "corr = df.corr(numeric_only=True);"
      ],
      "metadata": {
        "id": "JsfugAToUuoI"
      },
      "execution_count": null,
      "outputs": []
    },
    {
      "cell_type": "code",
      "source": [
        "#Looking for min/max HourlyRate to set xticks.\n",
        "df['HourlyRate'].describe()"
      ],
      "metadata": {
        "colab": {
          "base_uri": "https://localhost:8080/"
        },
        "id": "TBwIX21hXIVd",
        "outputId": "1eb92fa2-1460-44ce-dabc-230a233d2c82"
      },
      "execution_count": null,
      "outputs": [
        {
          "output_type": "execute_result",
          "data": {
            "text/plain": [
              "count    1470.000000\n",
              "mean       65.891156\n",
              "std        20.329428\n",
              "min        30.000000\n",
              "25%        48.000000\n",
              "50%        66.000000\n",
              "75%        83.750000\n",
              "max       100.000000\n",
              "Name: HourlyRate, dtype: float64"
            ]
          },
          "metadata": {},
          "execution_count": 343
        }
      ]
    },
    {
      "cell_type": "code",
      "source": [
        "#Simple Histogram to compare Male vs. Female Employee counts.\n",
        "sns.set(style='darkgrid')\n",
        "ax=sns.histplot(df['HourlyRate'], color='purple')\n",
        "ax.set_xticks([30,35,40,45,50,55,60,65,70,75,80,85,90,95,100])\n",
        "ax.set_xticklabels(ax.get_xticklabels(),rotation=45, horizontalalignment='right')\n",
        "ax.set_xlabel('Hourly Rate')\n",
        "ax.set_title('Hourly Rate');"
      ],
      "metadata": {
        "colab": {
          "base_uri": "https://localhost:8080/",
          "height": 496
        },
        "id": "RYZ6vJcXQumh",
        "outputId": "e6c1839a-ad35-41b6-925a-6a0012dd8613"
      },
      "execution_count": null,
      "outputs": [
        {
          "output_type": "display_data",
          "data": {
            "text/plain": [
              "<Figure size 640x480 with 1 Axes>"
            ],
            "image/png": "[encoded data removed]"
          },
          "metadata": {}
        }
      ]
    },
    {
      "cell_type": "markdown",
      "source": [
        "Histogram to show HourlyRate counts across employees is evenly distributed."
      ],
      "metadata": {
        "id": "fC1eRD-9f12M"
      }
    },
    {
      "cell_type": "code",
      "source": [
        "#Boxplot to show HourlyRate distrubition.\n",
        "sns.set(style='darkgrid')\n",
        "ax=sns.boxplot(x=df['HourlyRate'], color='purple');\n",
        "ax.set_xlabel('Hourly Rate')\n",
        "ax.set_title('Hourly Rate');"
      ],
      "metadata": {
        "colab": {
          "base_uri": "https://localhost:8080/",
          "height": 480
        },
        "id": "PNCGNf3JWkSV",
        "outputId": "a8465e08-50fd-4efa-c694-2cb86120060a"
      },
      "execution_count": null,
      "outputs": [
        {
          "output_type": "display_data",
          "data": {
            "text/plain": [
              "<Figure size 640x480 with 1 Axes>"
            ],
            "image/png": "[encoded data removed]"
          },
          "metadata": {}
        }
      ]
    },
    {
      "cell_type": "markdown",
      "source": [
        "###This boxplot shows that most of the hourly rates land between 50-80."
      ],
      "metadata": {
        "id": "x2KNdKhVfxRr"
      }
    },
    {
      "cell_type": "markdown",
      "source": [
        "##Two multivariate exploratory visualizations"
      ],
      "metadata": {
        "id": "JQc5MvqwXhhE"
      }
    },
    {
      "cell_type": "code",
      "source": [
        "#Barplot with Seaborn\n",
        "plt.figure(figsize=(15,10))\n",
        "sns.set(style='darkgrid')\n",
        "plt.tight_layout()\n",
        "sns.color_palette(\"flare\")\n",
        "ax=sns.barplot(data=df,x='Age',y='HourlyRate')\n",
        "ax.set_ylabel('Hourly Rate')\n",
        "ax.set_title('Hourly Rate vs Age');"
      ],
      "metadata": {
        "colab": {
          "base_uri": "https://localhost:8080/",
          "height": 881
        },
        "id": "cvU036MDZHFT",
        "outputId": "f90c506a-1122-406d-9cac-50a2a64409c4"
      },
      "execution_count": null,
      "outputs": [
        {
          "output_type": "display_data",
          "data": {
            "text/plain": [
              "<Figure size 1500x1000 with 1 Axes>"
            ],
            "image/png": "[encoded data removed]"
          },
          "metadata": {}
        }
      ]
    },
    {
      "cell_type": "markdown",
      "source": [
        "##This barplot shows that age, is minimally effecting peoples Hourlyrate, but in some cases it does, this is most likely due to those individuals being with the company for longer."
      ],
      "metadata": {
        "id": "vFknpS7KfOXa"
      }
    },
    {
      "cell_type": "code",
      "source": [
        "plt.figure(figsize=(15,10))\n",
        "sns.set(style='darkgrid')\n",
        "plt.tight_layout()\n",
        "ax=sns.barplot(data=df,x='YearsAtCompany',y='HourlyRate')\n",
        "ax.set_xlabel('Years At Company')\n",
        "ax.set_title('Hourly Rate vs Years at Company'); "
      ],
      "metadata": {
        "colab": {
          "base_uri": "https://localhost:8080/",
          "height": 881
        },
        "id": "dpg-D8y5f-q2",
        "outputId": "6a42c976-fd3b-49df-d8b0-3b6f7cd3074a"
      },
      "execution_count": null,
      "outputs": [
        {
          "output_type": "display_data",
          "data": {
            "text/plain": [
              "<Figure size 1500x1000 with 1 Axes>"
            ],
            "image/png": "[encoded data removed]"
          },
          "metadata": {}
        }
      ]
    },
    {
      "cell_type": "markdown",
      "source": [
        "###Barplot showing that Years at Company effects hourly rate less than initially thought."
      ],
      "metadata": {
        "id": "RYfbboOtgpEW"
      }
    },
    {
      "cell_type": "code",
      "source": [
        "plt.tight_layout()\n",
        "df_heatmap = df.pivot_table(index='Age', columns='YearsAtCompany', values='HourlyRate')\n",
        "ax=sns.heatmap(df_heatmap, cmap='mako',cbar_kws={'label': 'Hourly Rate'})\n",
        "ax.set_xlabel('Years At Company')\n",
        "ax.set_title('Age and Year at Company vs Hourly Rate');"
      ],
      "metadata": {
        "colab": {
          "base_uri": "https://localhost:8080/",
          "height": 480
        },
        "id": "j2fTHaP9ijqO",
        "outputId": "d57706bc-18ad-42e8-bb49-75e32901319b"
      },
      "execution_count": null,
      "outputs": [
        {
          "output_type": "display_data",
          "data": {
            "text/plain": [
              "<Figure size 640x480 with 2 Axes>"
            ],
            "image/png": "[encoded data removed]"
          },
          "metadata": {}
        }
      ]
    },
    {
      "cell_type": "markdown",
      "source": [
        "###This heatmap further dives into the how HourlyRate is effected by Years at the Company."
      ],
      "metadata": {
        "id": "YTjdPWcYivez"
      }
    },
    {
      "cell_type": "code",
      "source": [
        "plt.tight_layout()\n",
        "df_heatmap = df.pivot_table(index='Age', columns='JobSatisfaction', values='HourlyRate')\n",
        "ax=sns.heatmap(df_heatmap, cmap='mako',cbar_kws={'label': 'Hourly Rate'})\n",
        "ax.set_xlabel('Job Satisfaction Rating')\n",
        "ax.set_title('Age and Job Satisfaction vs Hourly Rate');"
      ],
      "metadata": {
        "colab": {
          "base_uri": "https://localhost:8080/",
          "height": 480
        },
        "id": "urWZpd8Xi8UN",
        "outputId": "fa8523c7-d90d-4127-c491-07e1efc6d0fd"
      },
      "execution_count": null,
      "outputs": [
        {
          "output_type": "display_data",
          "data": {
            "text/plain": [
              "<Figure size 640x480 with 2 Axes>"
            ],
            "image/png": "[encoded data removed]"
          },
          "metadata": {}
        }
      ]
    },
    {
      "cell_type": "markdown",
      "source": [
        "###Heatmap to show Hourly rate, against Job Satisfaction and Age."
      ],
      "metadata": {
        "id": "gBglPav4kUqS"
      }
    }
  ]
}