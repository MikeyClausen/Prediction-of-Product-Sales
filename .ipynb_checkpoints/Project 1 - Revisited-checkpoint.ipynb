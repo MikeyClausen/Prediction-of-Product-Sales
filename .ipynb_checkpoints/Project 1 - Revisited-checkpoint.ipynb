{
 "cells": [
  {
   "cell_type": "markdown",
   "id": "65bbc813",
   "metadata": {
    "id": "IsJXX97Xcq-J"
   },
   "source": [
    "# Outlet Store Sales Predictions\n",
    "## Import Data"
   ]
  },
  {
   "cell_type": "code",
   "execution_count": 1,
   "id": "3c21ea77",
   "metadata": {
    "id": "TR7z2HJ5ahPr"
   },
   "outputs": [],
   "source": [
    "#DF, Pandas, Numpy\n",
    "\n",
    "df_sales = 'C:/Users/Mikey.Windows/Documents/GitHub/Prediction-of-Product-Sales/Data/sales_predictions.xlsx'\n",
    "import pandas as pd\n",
    "import numpy as np\n",
    "df = pd.read_excel(df_sales)"
   ]
  },
  {
   "cell_type": "markdown",
   "id": "5760d2cf",
   "metadata": {
    "id": "_U9oZZ6vdCct"
   },
   "source": [
    "##Loading Data"
   ]
  },
  {
   "cell_type": "code",
   "execution_count": 2,
   "id": "0e58b492",
   "metadata": {
    "colab": {
     "base_uri": "https://localhost:8080/",
     "height": 357
    },
    "id": "uEqb5whZdEbI",
    "outputId": "eb063f34-771d-4dca-e987-bee1cbdf5c1b"
   },
   "outputs": [
    {
     "data": {
      "text/html": [
       "<div>\n",
       "<style scoped>\n",
       "    .dataframe tbody tr th:only-of-type {\n",
       "        vertical-align: middle;\n",
       "    }\n",
       "\n",
       "    .dataframe tbody tr th {\n",
       "        vertical-align: top;\n",
       "    }\n",
       "\n",
       "    .dataframe thead th {\n",
       "        text-align: right;\n",
       "    }\n",
       "</style>\n",
       "<table border=\"1\" class=\"dataframe\">\n",
       "  <thead>\n",
       "    <tr style=\"text-align: right;\">\n",
       "      <th></th>\n",
       "      <th>Item_Identifier</th>\n",
       "      <th>Item_Weight</th>\n",
       "      <th>Item_Fat_Content</th>\n",
       "      <th>Item_Visibility</th>\n",
       "      <th>Item_Type</th>\n",
       "      <th>Item_MRP</th>\n",
       "      <th>Outlet_Identifier</th>\n",
       "      <th>Outlet_Establishment_Year</th>\n",
       "      <th>Outlet_Size</th>\n",
       "      <th>Outlet_Location_Type</th>\n",
       "      <th>Outlet_Type</th>\n",
       "      <th>Item_Outlet_Sales</th>\n",
       "    </tr>\n",
       "  </thead>\n",
       "  <tbody>\n",
       "    <tr>\n",
       "      <th>0</th>\n",
       "      <td>FDA15</td>\n",
       "      <td>9.30</td>\n",
       "      <td>Low Fat</td>\n",
       "      <td>0.016047</td>\n",
       "      <td>Dairy</td>\n",
       "      <td>249.8092</td>\n",
       "      <td>OUT049</td>\n",
       "      <td>1999</td>\n",
       "      <td>Medium</td>\n",
       "      <td>Tier 1</td>\n",
       "      <td>Supermarket Type1</td>\n",
       "      <td>3735.1380</td>\n",
       "    </tr>\n",
       "    <tr>\n",
       "      <th>1</th>\n",
       "      <td>DRC01</td>\n",
       "      <td>5.92</td>\n",
       "      <td>Regular</td>\n",
       "      <td>0.019278</td>\n",
       "      <td>Soft Drinks</td>\n",
       "      <td>48.2692</td>\n",
       "      <td>OUT018</td>\n",
       "      <td>2009</td>\n",
       "      <td>Medium</td>\n",
       "      <td>Tier 3</td>\n",
       "      <td>Supermarket Type2</td>\n",
       "      <td>443.4228</td>\n",
       "    </tr>\n",
       "    <tr>\n",
       "      <th>2</th>\n",
       "      <td>FDN15</td>\n",
       "      <td>17.50</td>\n",
       "      <td>Low Fat</td>\n",
       "      <td>0.016760</td>\n",
       "      <td>Meat</td>\n",
       "      <td>141.6180</td>\n",
       "      <td>OUT049</td>\n",
       "      <td>1999</td>\n",
       "      <td>Medium</td>\n",
       "      <td>Tier 1</td>\n",
       "      <td>Supermarket Type1</td>\n",
       "      <td>2097.2700</td>\n",
       "    </tr>\n",
       "    <tr>\n",
       "      <th>3</th>\n",
       "      <td>FDX07</td>\n",
       "      <td>19.20</td>\n",
       "      <td>Regular</td>\n",
       "      <td>0.000000</td>\n",
       "      <td>Fruits and Vegetables</td>\n",
       "      <td>182.0950</td>\n",
       "      <td>OUT010</td>\n",
       "      <td>1998</td>\n",
       "      <td>NaN</td>\n",
       "      <td>Tier 3</td>\n",
       "      <td>Grocery Store</td>\n",
       "      <td>732.3800</td>\n",
       "    </tr>\n",
       "    <tr>\n",
       "      <th>4</th>\n",
       "      <td>NCD19</td>\n",
       "      <td>8.93</td>\n",
       "      <td>Low Fat</td>\n",
       "      <td>0.000000</td>\n",
       "      <td>Household</td>\n",
       "      <td>53.8614</td>\n",
       "      <td>OUT013</td>\n",
       "      <td>1987</td>\n",
       "      <td>High</td>\n",
       "      <td>Tier 3</td>\n",
       "      <td>Supermarket Type1</td>\n",
       "      <td>994.7052</td>\n",
       "    </tr>\n",
       "  </tbody>\n",
       "</table>\n",
       "</div>"
      ],
      "text/plain": [
       "  Item_Identifier  Item_Weight Item_Fat_Content  Item_Visibility  \\\n",
       "0           FDA15         9.30          Low Fat         0.016047   \n",
       "1           DRC01         5.92          Regular         0.019278   \n",
       "2           FDN15        17.50          Low Fat         0.016760   \n",
       "3           FDX07        19.20          Regular         0.000000   \n",
       "4           NCD19         8.93          Low Fat         0.000000   \n",
       "\n",
       "               Item_Type  Item_MRP Outlet_Identifier  \\\n",
       "0                  Dairy  249.8092            OUT049   \n",
       "1            Soft Drinks   48.2692            OUT018   \n",
       "2                   Meat  141.6180            OUT049   \n",
       "3  Fruits and Vegetables  182.0950            OUT010   \n",
       "4              Household   53.8614            OUT013   \n",
       "\n",
       "   Outlet_Establishment_Year Outlet_Size Outlet_Location_Type  \\\n",
       "0                       1999      Medium               Tier 1   \n",
       "1                       2009      Medium               Tier 3   \n",
       "2                       1999      Medium               Tier 1   \n",
       "3                       1998         NaN               Tier 3   \n",
       "4                       1987        High               Tier 3   \n",
       "\n",
       "         Outlet_Type  Item_Outlet_Sales  \n",
       "0  Supermarket Type1          3735.1380  \n",
       "1  Supermarket Type2           443.4228  \n",
       "2  Supermarket Type1          2097.2700  \n",
       "3      Grocery Store           732.3800  \n",
       "4  Supermarket Type1           994.7052  "
      ]
     },
     "execution_count": 2,
     "metadata": {},
     "output_type": "execute_result"
    }
   ],
   "source": [
    "#View Columns\n",
    "df.head()"
   ]
  },
  {
   "cell_type": "code",
   "execution_count": 3,
   "id": "f9e84a37",
   "metadata": {
    "colab": {
     "base_uri": "https://localhost:8080/"
    },
    "id": "Hc3gul9vdKD1",
    "outputId": "f616281b-e72d-4466-fccf-456810005d57"
   },
   "outputs": [
    {
     "name": "stdout",
     "output_type": "stream",
     "text": [
      "<class 'pandas.core.frame.DataFrame'>\n",
      "RangeIndex: 8523 entries, 0 to 8522\n",
      "Data columns (total 12 columns):\n",
      " #   Column                     Non-Null Count  Dtype  \n",
      "---  ------                     --------------  -----  \n",
      " 0   Item_Identifier            8523 non-null   object \n",
      " 1   Item_Weight                7060 non-null   float64\n",
      " 2   Item_Fat_Content           8523 non-null   object \n",
      " 3   Item_Visibility            8523 non-null   float64\n",
      " 4   Item_Type                  8523 non-null   object \n",
      " 5   Item_MRP                   8523 non-null   float64\n",
      " 6   Outlet_Identifier          8523 non-null   object \n",
      " 7   Outlet_Establishment_Year  8523 non-null   int64  \n",
      " 8   Outlet_Size                6113 non-null   object \n",
      " 9   Outlet_Location_Type       8523 non-null   object \n",
      " 10  Outlet_Type                8523 non-null   object \n",
      " 11  Item_Outlet_Sales          8523 non-null   float64\n",
      "dtypes: float64(4), int64(1), object(7)\n",
      "memory usage: 799.2+ KB\n"
     ]
    }
   ],
   "source": [
    "df.info()"
   ]
  },
  {
   "cell_type": "markdown",
   "id": "c74b2bd3",
   "metadata": {
    "id": "0u67unHjd5Om"
   },
   "source": [
    "# Data Cleaning"
   ]
  },
  {
   "cell_type": "markdown",
   "id": "c34ed3fe",
   "metadata": {
    "id": "rR4qYKjitFO1"
   },
   "source": [
    "## How many rows and columns?\n",
    "\n"
   ]
  },
  {
   "cell_type": "code",
   "execution_count": 4,
   "id": "1b98c39d",
   "metadata": {
    "colab": {
     "base_uri": "https://localhost:8080/",
     "height": 661
    },
    "id": "tmRaWBewf08m",
    "outputId": "95ea4e66-635c-4ce4-9c7f-0e2cdd9cc2e6"
   },
   "outputs": [
    {
     "data": {
      "text/html": [
       "<div>\n",
       "<style scoped>\n",
       "    .dataframe tbody tr th:only-of-type {\n",
       "        vertical-align: middle;\n",
       "    }\n",
       "\n",
       "    .dataframe tbody tr th {\n",
       "        vertical-align: top;\n",
       "    }\n",
       "\n",
       "    .dataframe thead th {\n",
       "        text-align: right;\n",
       "    }\n",
       "</style>\n",
       "<table border=\"1\" class=\"dataframe\">\n",
       "  <thead>\n",
       "    <tr style=\"text-align: right;\">\n",
       "      <th></th>\n",
       "      <th>Item_Identifier</th>\n",
       "      <th>Item_Weight</th>\n",
       "      <th>Item_Fat_Content</th>\n",
       "      <th>Item_Visibility</th>\n",
       "      <th>Item_Type</th>\n",
       "      <th>Item_MRP</th>\n",
       "      <th>Outlet_Identifier</th>\n",
       "      <th>Outlet_Establishment_Year</th>\n",
       "      <th>Outlet_Size</th>\n",
       "      <th>Outlet_Location_Type</th>\n",
       "      <th>Outlet_Type</th>\n",
       "      <th>Item_Outlet_Sales</th>\n",
       "    </tr>\n",
       "  </thead>\n",
       "  <tbody>\n",
       "    <tr>\n",
       "      <th>0</th>\n",
       "      <td>FDA15</td>\n",
       "      <td>9.300</td>\n",
       "      <td>Low Fat</td>\n",
       "      <td>0.016047</td>\n",
       "      <td>Dairy</td>\n",
       "      <td>249.8092</td>\n",
       "      <td>OUT049</td>\n",
       "      <td>1999</td>\n",
       "      <td>Medium</td>\n",
       "      <td>Tier 1</td>\n",
       "      <td>Supermarket Type1</td>\n",
       "      <td>3735.1380</td>\n",
       "    </tr>\n",
       "    <tr>\n",
       "      <th>1</th>\n",
       "      <td>DRC01</td>\n",
       "      <td>5.920</td>\n",
       "      <td>Regular</td>\n",
       "      <td>0.019278</td>\n",
       "      <td>Soft Drinks</td>\n",
       "      <td>48.2692</td>\n",
       "      <td>OUT018</td>\n",
       "      <td>2009</td>\n",
       "      <td>Medium</td>\n",
       "      <td>Tier 3</td>\n",
       "      <td>Supermarket Type2</td>\n",
       "      <td>443.4228</td>\n",
       "    </tr>\n",
       "    <tr>\n",
       "      <th>2</th>\n",
       "      <td>FDN15</td>\n",
       "      <td>17.500</td>\n",
       "      <td>Low Fat</td>\n",
       "      <td>0.016760</td>\n",
       "      <td>Meat</td>\n",
       "      <td>141.6180</td>\n",
       "      <td>OUT049</td>\n",
       "      <td>1999</td>\n",
       "      <td>Medium</td>\n",
       "      <td>Tier 1</td>\n",
       "      <td>Supermarket Type1</td>\n",
       "      <td>2097.2700</td>\n",
       "    </tr>\n",
       "    <tr>\n",
       "      <th>3</th>\n",
       "      <td>FDX07</td>\n",
       "      <td>19.200</td>\n",
       "      <td>Regular</td>\n",
       "      <td>0.000000</td>\n",
       "      <td>Fruits and Vegetables</td>\n",
       "      <td>182.0950</td>\n",
       "      <td>OUT010</td>\n",
       "      <td>1998</td>\n",
       "      <td>NaN</td>\n",
       "      <td>Tier 3</td>\n",
       "      <td>Grocery Store</td>\n",
       "      <td>732.3800</td>\n",
       "    </tr>\n",
       "    <tr>\n",
       "      <th>4</th>\n",
       "      <td>NCD19</td>\n",
       "      <td>8.930</td>\n",
       "      <td>Low Fat</td>\n",
       "      <td>0.000000</td>\n",
       "      <td>Household</td>\n",
       "      <td>53.8614</td>\n",
       "      <td>OUT013</td>\n",
       "      <td>1987</td>\n",
       "      <td>High</td>\n",
       "      <td>Tier 3</td>\n",
       "      <td>Supermarket Type1</td>\n",
       "      <td>994.7052</td>\n",
       "    </tr>\n",
       "    <tr>\n",
       "      <th>...</th>\n",
       "      <td>...</td>\n",
       "      <td>...</td>\n",
       "      <td>...</td>\n",
       "      <td>...</td>\n",
       "      <td>...</td>\n",
       "      <td>...</td>\n",
       "      <td>...</td>\n",
       "      <td>...</td>\n",
       "      <td>...</td>\n",
       "      <td>...</td>\n",
       "      <td>...</td>\n",
       "      <td>...</td>\n",
       "    </tr>\n",
       "    <tr>\n",
       "      <th>8518</th>\n",
       "      <td>FDF22</td>\n",
       "      <td>6.865</td>\n",
       "      <td>Low Fat</td>\n",
       "      <td>0.056783</td>\n",
       "      <td>Snack Foods</td>\n",
       "      <td>214.5218</td>\n",
       "      <td>OUT013</td>\n",
       "      <td>1987</td>\n",
       "      <td>High</td>\n",
       "      <td>Tier 3</td>\n",
       "      <td>Supermarket Type1</td>\n",
       "      <td>2778.3834</td>\n",
       "    </tr>\n",
       "    <tr>\n",
       "      <th>8519</th>\n",
       "      <td>FDS36</td>\n",
       "      <td>8.380</td>\n",
       "      <td>Regular</td>\n",
       "      <td>0.046982</td>\n",
       "      <td>Baking Goods</td>\n",
       "      <td>108.1570</td>\n",
       "      <td>OUT045</td>\n",
       "      <td>2002</td>\n",
       "      <td>NaN</td>\n",
       "      <td>Tier 2</td>\n",
       "      <td>Supermarket Type1</td>\n",
       "      <td>549.2850</td>\n",
       "    </tr>\n",
       "    <tr>\n",
       "      <th>8520</th>\n",
       "      <td>NCJ29</td>\n",
       "      <td>10.600</td>\n",
       "      <td>Low Fat</td>\n",
       "      <td>0.035186</td>\n",
       "      <td>Health and Hygiene</td>\n",
       "      <td>85.1224</td>\n",
       "      <td>OUT035</td>\n",
       "      <td>2004</td>\n",
       "      <td>Small</td>\n",
       "      <td>Tier 2</td>\n",
       "      <td>Supermarket Type1</td>\n",
       "      <td>1193.1136</td>\n",
       "    </tr>\n",
       "    <tr>\n",
       "      <th>8521</th>\n",
       "      <td>FDN46</td>\n",
       "      <td>7.210</td>\n",
       "      <td>Regular</td>\n",
       "      <td>0.145221</td>\n",
       "      <td>Snack Foods</td>\n",
       "      <td>103.1332</td>\n",
       "      <td>OUT018</td>\n",
       "      <td>2009</td>\n",
       "      <td>Medium</td>\n",
       "      <td>Tier 3</td>\n",
       "      <td>Supermarket Type2</td>\n",
       "      <td>1845.5976</td>\n",
       "    </tr>\n",
       "    <tr>\n",
       "      <th>8522</th>\n",
       "      <td>DRG01</td>\n",
       "      <td>14.800</td>\n",
       "      <td>Low Fat</td>\n",
       "      <td>0.044878</td>\n",
       "      <td>Soft Drinks</td>\n",
       "      <td>75.4670</td>\n",
       "      <td>OUT046</td>\n",
       "      <td>1997</td>\n",
       "      <td>Small</td>\n",
       "      <td>Tier 1</td>\n",
       "      <td>Supermarket Type1</td>\n",
       "      <td>765.6700</td>\n",
       "    </tr>\n",
       "  </tbody>\n",
       "</table>\n",
       "<p>8523 rows × 12 columns</p>\n",
       "</div>"
      ],
      "text/plain": [
       "     Item_Identifier  Item_Weight Item_Fat_Content  Item_Visibility  \\\n",
       "0              FDA15        9.300          Low Fat         0.016047   \n",
       "1              DRC01        5.920          Regular         0.019278   \n",
       "2              FDN15       17.500          Low Fat         0.016760   \n",
       "3              FDX07       19.200          Regular         0.000000   \n",
       "4              NCD19        8.930          Low Fat         0.000000   \n",
       "...              ...          ...              ...              ...   \n",
       "8518           FDF22        6.865          Low Fat         0.056783   \n",
       "8519           FDS36        8.380          Regular         0.046982   \n",
       "8520           NCJ29       10.600          Low Fat         0.035186   \n",
       "8521           FDN46        7.210          Regular         0.145221   \n",
       "8522           DRG01       14.800          Low Fat         0.044878   \n",
       "\n",
       "                  Item_Type  Item_MRP Outlet_Identifier  \\\n",
       "0                     Dairy  249.8092            OUT049   \n",
       "1               Soft Drinks   48.2692            OUT018   \n",
       "2                      Meat  141.6180            OUT049   \n",
       "3     Fruits and Vegetables  182.0950            OUT010   \n",
       "4                 Household   53.8614            OUT013   \n",
       "...                     ...       ...               ...   \n",
       "8518            Snack Foods  214.5218            OUT013   \n",
       "8519           Baking Goods  108.1570            OUT045   \n",
       "8520     Health and Hygiene   85.1224            OUT035   \n",
       "8521            Snack Foods  103.1332            OUT018   \n",
       "8522            Soft Drinks   75.4670            OUT046   \n",
       "\n",
       "      Outlet_Establishment_Year Outlet_Size Outlet_Location_Type  \\\n",
       "0                          1999      Medium               Tier 1   \n",
       "1                          2009      Medium               Tier 3   \n",
       "2                          1999      Medium               Tier 1   \n",
       "3                          1998         NaN               Tier 3   \n",
       "4                          1987        High               Tier 3   \n",
       "...                         ...         ...                  ...   \n",
       "8518                       1987        High               Tier 3   \n",
       "8519                       2002         NaN               Tier 2   \n",
       "8520                       2004       Small               Tier 2   \n",
       "8521                       2009      Medium               Tier 3   \n",
       "8522                       1997       Small               Tier 1   \n",
       "\n",
       "            Outlet_Type  Item_Outlet_Sales  \n",
       "0     Supermarket Type1          3735.1380  \n",
       "1     Supermarket Type2           443.4228  \n",
       "2     Supermarket Type1          2097.2700  \n",
       "3         Grocery Store           732.3800  \n",
       "4     Supermarket Type1           994.7052  \n",
       "...                 ...                ...  \n",
       "8518  Supermarket Type1          2778.3834  \n",
       "8519  Supermarket Type1           549.2850  \n",
       "8520  Supermarket Type1          1193.1136  \n",
       "8521  Supermarket Type2          1845.5976  \n",
       "8522  Supermarket Type1           765.6700  \n",
       "\n",
       "[8523 rows x 12 columns]"
      ]
     },
     "execution_count": 4,
     "metadata": {},
     "output_type": "execute_result"
    }
   ],
   "source": [
    "#Display info for Rows and Columns\n",
    "df"
   ]
  },
  {
   "cell_type": "markdown",
   "id": "8f3db059",
   "metadata": {
    "id": "Lbby6zRDtMcT"
   },
   "source": [
    "## What are the datatypes of each variable?\n",
    "\n"
   ]
  },
  {
   "cell_type": "code",
   "execution_count": 5,
   "id": "c9af4eac",
   "metadata": {
    "colab": {
     "base_uri": "https://localhost:8080/"
    },
    "id": "3UTn7b38tMlY",
    "outputId": "fe6391f9-422c-4159-b92e-d4c7bbbcc335"
   },
   "outputs": [
    {
     "data": {
      "text/plain": [
       "Item_Identifier               object\n",
       "Item_Weight                  float64\n",
       "Item_Fat_Content              object\n",
       "Item_Visibility              float64\n",
       "Item_Type                     object\n",
       "Item_MRP                     float64\n",
       "Outlet_Identifier             object\n",
       "Outlet_Establishment_Year      int64\n",
       "Outlet_Size                   object\n",
       "Outlet_Location_Type          object\n",
       "Outlet_Type                   object\n",
       "Item_Outlet_Sales            float64\n",
       "dtype: object"
      ]
     },
     "execution_count": 5,
     "metadata": {},
     "output_type": "execute_result"
    }
   ],
   "source": [
    "#Data types\n",
    "df.dtypes"
   ]
  },
  {
   "cell_type": "markdown",
   "id": "72271994",
   "metadata": {
    "id": "2uAt0unatXlw"
   },
   "source": [
    "## Are there duplicates? If so, drop any duplicates."
   ]
  },
  {
   "cell_type": "code",
   "execution_count": 6,
   "id": "d27f79b0",
   "metadata": {
    "colab": {
     "base_uri": "https://localhost:8080/"
    },
    "id": "2MbnDahdtXpi",
    "outputId": "d4c639e2-3ba2-4fc2-96c7-fe85eeae5c29"
   },
   "outputs": [
    {
     "data": {
      "text/plain": [
       "0"
      ]
     },
     "execution_count": 6,
     "metadata": {},
     "output_type": "execute_result"
    }
   ],
   "source": [
    "# Any Duplicates?\n",
    "df.duplicated().sum()"
   ]
  },
  {
   "cell_type": "markdown",
   "id": "d8c55e6c",
   "metadata": {
    "id": "ZMBAeN57tmRM"
   },
   "source": [
    "## Identify missing values."
   ]
  },
  {
   "cell_type": "code",
   "execution_count": 7,
   "id": "df5c7658",
   "metadata": {
    "colab": {
     "base_uri": "https://localhost:8080/"
    },
    "id": "1P2RuFUqtmV7",
    "outputId": "97b63f14-7b7d-429c-8a04-2efa9152d8fb"
   },
   "outputs": [
    {
     "data": {
      "text/plain": [
       "Item_Identifier                 0\n",
       "Item_Weight                  1463\n",
       "Item_Fat_Content                0\n",
       "Item_Visibility                 0\n",
       "Item_Type                       0\n",
       "Item_MRP                        0\n",
       "Outlet_Identifier               0\n",
       "Outlet_Establishment_Year       0\n",
       "Outlet_Size                  2410\n",
       "Outlet_Location_Type            0\n",
       "Outlet_Type                     0\n",
       "Item_Outlet_Sales               0\n",
       "dtype: int64"
      ]
     },
     "execution_count": 7,
     "metadata": {},
     "output_type": "execute_result"
    }
   ],
   "source": [
    "#Missing values list.\n",
    "df.isna().sum()"
   ]
  },
  {
   "cell_type": "code",
   "execution_count": 8,
   "id": "256e6fa5",
   "metadata": {
    "colab": {
     "base_uri": "https://localhost:8080/"
    },
    "id": "7MnMrXmim28I",
    "outputId": "7e211482-2ede-46bb-a275-f58c4b74e417"
   },
   "outputs": [
    {
     "data": {
      "text/plain": [
       "(8523, 12)"
      ]
     },
     "execution_count": 8,
     "metadata": {},
     "output_type": "execute_result"
    }
   ],
   "source": [
    "df.shape"
   ]
  },
  {
   "cell_type": "markdown",
   "id": "ae64872f",
   "metadata": {
    "id": "lh8UYZSduN4K"
   },
   "source": [
    "## Decide on how to address the missing values.\n",
    "## **Item_Weight Missing Values**\n",
    "### Justification\n",
    "#### We will use mean to impute the following data. It should closely represnt accurate info here."
   ]
  },
  {
   "cell_type": "code",
   "execution_count": 9,
   "id": "01fe464a",
   "metadata": {
    "id": "9YCNNEOo0ps6"
   },
   "outputs": [],
   "source": [
    "#Now we will replace any blank fields with our mean.\n",
    "df['Item_Weight'].fillna(df['Item_Weight'].mean(), inplace=True)"
   ]
  },
  {
   "cell_type": "markdown",
   "id": "5b570b2e",
   "metadata": {
    "id": "YeQTrmvCyTz3"
   },
   "source": [
    "## **Outlet_Size Missing Values**\n",
    "### Justification\n",
    "#### We will use mode here to impute data. This will average over the data and fill info as needed. Based on Outlet_Size\n",
    "\n"
   ]
  },
  {
   "cell_type": "code",
   "execution_count": 10,
   "id": "4b66c58e",
   "metadata": {
    "id": "ZJ9kGdpczku-"
   },
   "outputs": [],
   "source": [
    "#Use mode because categorical data.\n",
    "df[\"Outlet_Size\"].fillna(df[\"Outlet_Size\"].mode()[0],inplace=True)\n",
    "df['Outlet_Size'].replace('High','Large',inplace=True)"
   ]
  },
  {
   "cell_type": "markdown",
   "id": "4b1e16f1",
   "metadata": {
    "id": "lcszkS7gpKud"
   },
   "source": [
    "# Confirm that there are no missing values after addressing them."
   ]
  },
  {
   "cell_type": "code",
   "execution_count": 11,
   "id": "1445fdae",
   "metadata": {
    "colab": {
     "base_uri": "https://localhost:8080/"
    },
    "id": "L28gWYgI2A5S",
    "outputId": "6e59b20f-54fd-4042-c56f-d1e172435e1c"
   },
   "outputs": [
    {
     "data": {
      "text/plain": [
       "Item_Identifier              0\n",
       "Item_Weight                  0\n",
       "Item_Fat_Content             0\n",
       "Item_Visibility              0\n",
       "Item_Type                    0\n",
       "Item_MRP                     0\n",
       "Outlet_Identifier            0\n",
       "Outlet_Establishment_Year    0\n",
       "Outlet_Size                  0\n",
       "Outlet_Location_Type         0\n",
       "Outlet_Type                  0\n",
       "Item_Outlet_Sales            0\n",
       "dtype: int64"
      ]
     },
     "execution_count": 11,
     "metadata": {},
     "output_type": "execute_result"
    }
   ],
   "source": [
    "#Checking missing values are replaced.\n",
    "df.isna().sum()"
   ]
  },
  {
   "cell_type": "markdown",
   "id": "ce72add6",
   "metadata": {
    "id": "dYO3hKdYo4Op"
   },
   "source": [
    "# Find and fix any inconsistent categories of data"
   ]
  },
  {
   "cell_type": "code",
   "execution_count": 12,
   "id": "7f9e4001",
   "metadata": {
    "colab": {
     "base_uri": "https://localhost:8080/"
    },
    "id": "I5aRqXfhsDIw",
    "outputId": "eb8d6296-7b20-4ee5-c46d-10fdb5568d84"
   },
   "outputs": [
    {
     "data": {
      "text/plain": [
       "Low Fat    5089\n",
       "Regular    2889\n",
       "LF          316\n",
       "reg         117\n",
       "low fat     112\n",
       "Name: Item_Fat_Content, dtype: int64"
      ]
     },
     "execution_count": 12,
     "metadata": {},
     "output_type": "execute_result"
    }
   ],
   "source": [
    "#Use .value_counts() to find issues.\n",
    "df['Item_Fat_Content'].value_counts()"
   ]
  },
  {
   "cell_type": "code",
   "execution_count": 13,
   "id": "78940b24",
   "metadata": {
    "id": "LT0OUWnQo4Tn"
   },
   "outputs": [],
   "source": [
    "#Use replace to fix typos and clean up data\n",
    "df['Item_Fat_Content'] = df['Item_Fat_Content'].replace('LF', 'Low Fat')\n",
    "df['Item_Fat_Content'] = df['Item_Fat_Content'].replace('low fat', 'Low Fat')\n",
    "df['Item_Fat_Content'] = df['Item_Fat_Content'].replace('reg', 'Regular')"
   ]
  },
  {
   "cell_type": "code",
   "execution_count": 14,
   "id": "c2ab37e5",
   "metadata": {
    "colab": {
     "base_uri": "https://localhost:8080/"
    },
    "id": "T_4ibHlrrNqz",
    "outputId": "bca08df4-71ea-4eb4-cf42-d0c61197084d"
   },
   "outputs": [
    {
     "data": {
      "text/plain": [
       "Low Fat    5517\n",
       "Regular    3006\n",
       "Name: Item_Fat_Content, dtype: int64"
      ]
     },
     "execution_count": 14,
     "metadata": {},
     "output_type": "execute_result"
    }
   ],
   "source": [
    "#Check if changes made.\n",
    "df['Item_Fat_Content'].value_counts()"
   ]
  },
  {
   "cell_type": "markdown",
   "id": "8bd61275",
   "metadata": {
    "id": "zOK8a9F0xAEs"
   },
   "source": [
    "For any numerical columns, obtain the summary statistics of each"
   ]
  },
  {
   "cell_type": "code",
   "execution_count": 15,
   "id": "4336075f",
   "metadata": {
    "colab": {
     "base_uri": "https://localhost:8080/",
     "height": 300
    },
    "id": "IQV7-tu3xDGw",
    "outputId": "6d2012d6-bb2e-4acf-ec90-5737fdea8987"
   },
   "outputs": [
    {
     "data": {
      "text/html": [
       "<div>\n",
       "<style scoped>\n",
       "    .dataframe tbody tr th:only-of-type {\n",
       "        vertical-align: middle;\n",
       "    }\n",
       "\n",
       "    .dataframe tbody tr th {\n",
       "        vertical-align: top;\n",
       "    }\n",
       "\n",
       "    .dataframe thead th {\n",
       "        text-align: right;\n",
       "    }\n",
       "</style>\n",
       "<table border=\"1\" class=\"dataframe\">\n",
       "  <thead>\n",
       "    <tr style=\"text-align: right;\">\n",
       "      <th></th>\n",
       "      <th>Item_Weight</th>\n",
       "      <th>Item_Visibility</th>\n",
       "      <th>Item_MRP</th>\n",
       "      <th>Outlet_Establishment_Year</th>\n",
       "      <th>Item_Outlet_Sales</th>\n",
       "    </tr>\n",
       "  </thead>\n",
       "  <tbody>\n",
       "    <tr>\n",
       "      <th>count</th>\n",
       "      <td>8523.000000</td>\n",
       "      <td>8523.000000</td>\n",
       "      <td>8523.000000</td>\n",
       "      <td>8523.000000</td>\n",
       "      <td>8523.000000</td>\n",
       "    </tr>\n",
       "    <tr>\n",
       "      <th>mean</th>\n",
       "      <td>12.857645</td>\n",
       "      <td>0.066132</td>\n",
       "      <td>140.992782</td>\n",
       "      <td>1997.831867</td>\n",
       "      <td>2181.288914</td>\n",
       "    </tr>\n",
       "    <tr>\n",
       "      <th>std</th>\n",
       "      <td>4.226124</td>\n",
       "      <td>0.051598</td>\n",
       "      <td>62.275067</td>\n",
       "      <td>8.371760</td>\n",
       "      <td>1706.499616</td>\n",
       "    </tr>\n",
       "    <tr>\n",
       "      <th>min</th>\n",
       "      <td>4.555000</td>\n",
       "      <td>0.000000</td>\n",
       "      <td>31.290000</td>\n",
       "      <td>1985.000000</td>\n",
       "      <td>33.290000</td>\n",
       "    </tr>\n",
       "    <tr>\n",
       "      <th>25%</th>\n",
       "      <td>9.310000</td>\n",
       "      <td>0.026989</td>\n",
       "      <td>93.826500</td>\n",
       "      <td>1987.000000</td>\n",
       "      <td>834.247400</td>\n",
       "    </tr>\n",
       "    <tr>\n",
       "      <th>50%</th>\n",
       "      <td>12.857645</td>\n",
       "      <td>0.053931</td>\n",
       "      <td>143.012800</td>\n",
       "      <td>1999.000000</td>\n",
       "      <td>1794.331000</td>\n",
       "    </tr>\n",
       "    <tr>\n",
       "      <th>75%</th>\n",
       "      <td>16.000000</td>\n",
       "      <td>0.094585</td>\n",
       "      <td>185.643700</td>\n",
       "      <td>2004.000000</td>\n",
       "      <td>3101.296400</td>\n",
       "    </tr>\n",
       "    <tr>\n",
       "      <th>max</th>\n",
       "      <td>21.350000</td>\n",
       "      <td>0.328391</td>\n",
       "      <td>266.888400</td>\n",
       "      <td>2009.000000</td>\n",
       "      <td>13086.964800</td>\n",
       "    </tr>\n",
       "  </tbody>\n",
       "</table>\n",
       "</div>"
      ],
      "text/plain": [
       "       Item_Weight  Item_Visibility     Item_MRP  Outlet_Establishment_Year  \\\n",
       "count  8523.000000      8523.000000  8523.000000                8523.000000   \n",
       "mean     12.857645         0.066132   140.992782                1997.831867   \n",
       "std       4.226124         0.051598    62.275067                   8.371760   \n",
       "min       4.555000         0.000000    31.290000                1985.000000   \n",
       "25%       9.310000         0.026989    93.826500                1987.000000   \n",
       "50%      12.857645         0.053931   143.012800                1999.000000   \n",
       "75%      16.000000         0.094585   185.643700                2004.000000   \n",
       "max      21.350000         0.328391   266.888400                2009.000000   \n",
       "\n",
       "       Item_Outlet_Sales  \n",
       "count        8523.000000  \n",
       "mean         2181.288914  \n",
       "std          1706.499616  \n",
       "min            33.290000  \n",
       "25%           834.247400  \n",
       "50%          1794.331000  \n",
       "75%          3101.296400  \n",
       "max         13086.964800  "
      ]
     },
     "execution_count": 15,
     "metadata": {},
     "output_type": "execute_result"
    }
   ],
   "source": [
    "#Use df.describe()\n",
    "df.describe()"
   ]
  },
  {
   "cell_type": "markdown",
   "id": "701c2aaa",
   "metadata": {
    "id": "zWnPcyEiH5AR"
   },
   "source": [
    "\n",
    "##### Histogram to view the distributions of various features in your dataset.\n",
    "##### Boxplot to view statistical summaries of various features in your dataset.\n",
    "##### Heatmap of the correlation between features."
   ]
  },
  {
   "cell_type": "code",
   "execution_count": 16,
   "id": "835ccb54",
   "metadata": {
    "id": "EewrlCphIGNt"
   },
   "outputs": [],
   "source": [
    "#Imports\n",
    "import matplotlib.pyplot as plt\n",
    "import seaborn as sns"
   ]
  },
  {
   "cell_type": "code",
   "execution_count": 17,
   "id": "48e90a7a",
   "metadata": {
    "colab": {
     "base_uri": "https://localhost:8080/",
     "height": 357
    },
    "id": "PSB_YQE7IUgP",
    "outputId": "66c0ee99-945d-4ed1-e941-37a0b6f5be1b"
   },
   "outputs": [
    {
     "data": {
      "text/html": [
       "<div>\n",
       "<style scoped>\n",
       "    .dataframe tbody tr th:only-of-type {\n",
       "        vertical-align: middle;\n",
       "    }\n",
       "\n",
       "    .dataframe tbody tr th {\n",
       "        vertical-align: top;\n",
       "    }\n",
       "\n",
       "    .dataframe thead th {\n",
       "        text-align: right;\n",
       "    }\n",
       "</style>\n",
       "<table border=\"1\" class=\"dataframe\">\n",
       "  <thead>\n",
       "    <tr style=\"text-align: right;\">\n",
       "      <th></th>\n",
       "      <th>Item_Identifier</th>\n",
       "      <th>Item_Weight</th>\n",
       "      <th>Item_Fat_Content</th>\n",
       "      <th>Item_Visibility</th>\n",
       "      <th>Item_Type</th>\n",
       "      <th>Item_MRP</th>\n",
       "      <th>Outlet_Identifier</th>\n",
       "      <th>Outlet_Establishment_Year</th>\n",
       "      <th>Outlet_Size</th>\n",
       "      <th>Outlet_Location_Type</th>\n",
       "      <th>Outlet_Type</th>\n",
       "      <th>Item_Outlet_Sales</th>\n",
       "    </tr>\n",
       "  </thead>\n",
       "  <tbody>\n",
       "    <tr>\n",
       "      <th>0</th>\n",
       "      <td>FDA15</td>\n",
       "      <td>9.30</td>\n",
       "      <td>Low Fat</td>\n",
       "      <td>0.016047</td>\n",
       "      <td>Dairy</td>\n",
       "      <td>249.8092</td>\n",
       "      <td>OUT049</td>\n",
       "      <td>1999</td>\n",
       "      <td>Medium</td>\n",
       "      <td>Tier 1</td>\n",
       "      <td>Supermarket Type1</td>\n",
       "      <td>3735.1380</td>\n",
       "    </tr>\n",
       "    <tr>\n",
       "      <th>1</th>\n",
       "      <td>DRC01</td>\n",
       "      <td>5.92</td>\n",
       "      <td>Regular</td>\n",
       "      <td>0.019278</td>\n",
       "      <td>Soft Drinks</td>\n",
       "      <td>48.2692</td>\n",
       "      <td>OUT018</td>\n",
       "      <td>2009</td>\n",
       "      <td>Medium</td>\n",
       "      <td>Tier 3</td>\n",
       "      <td>Supermarket Type2</td>\n",
       "      <td>443.4228</td>\n",
       "    </tr>\n",
       "    <tr>\n",
       "      <th>2</th>\n",
       "      <td>FDN15</td>\n",
       "      <td>17.50</td>\n",
       "      <td>Low Fat</td>\n",
       "      <td>0.016760</td>\n",
       "      <td>Meat</td>\n",
       "      <td>141.6180</td>\n",
       "      <td>OUT049</td>\n",
       "      <td>1999</td>\n",
       "      <td>Medium</td>\n",
       "      <td>Tier 1</td>\n",
       "      <td>Supermarket Type1</td>\n",
       "      <td>2097.2700</td>\n",
       "    </tr>\n",
       "    <tr>\n",
       "      <th>3</th>\n",
       "      <td>FDX07</td>\n",
       "      <td>19.20</td>\n",
       "      <td>Regular</td>\n",
       "      <td>0.000000</td>\n",
       "      <td>Fruits and Vegetables</td>\n",
       "      <td>182.0950</td>\n",
       "      <td>OUT010</td>\n",
       "      <td>1998</td>\n",
       "      <td>Medium</td>\n",
       "      <td>Tier 3</td>\n",
       "      <td>Grocery Store</td>\n",
       "      <td>732.3800</td>\n",
       "    </tr>\n",
       "    <tr>\n",
       "      <th>4</th>\n",
       "      <td>NCD19</td>\n",
       "      <td>8.93</td>\n",
       "      <td>Low Fat</td>\n",
       "      <td>0.000000</td>\n",
       "      <td>Household</td>\n",
       "      <td>53.8614</td>\n",
       "      <td>OUT013</td>\n",
       "      <td>1987</td>\n",
       "      <td>Large</td>\n",
       "      <td>Tier 3</td>\n",
       "      <td>Supermarket Type1</td>\n",
       "      <td>994.7052</td>\n",
       "    </tr>\n",
       "  </tbody>\n",
       "</table>\n",
       "</div>"
      ],
      "text/plain": [
       "  Item_Identifier  Item_Weight Item_Fat_Content  Item_Visibility  \\\n",
       "0           FDA15         9.30          Low Fat         0.016047   \n",
       "1           DRC01         5.92          Regular         0.019278   \n",
       "2           FDN15        17.50          Low Fat         0.016760   \n",
       "3           FDX07        19.20          Regular         0.000000   \n",
       "4           NCD19         8.93          Low Fat         0.000000   \n",
       "\n",
       "               Item_Type  Item_MRP Outlet_Identifier  \\\n",
       "0                  Dairy  249.8092            OUT049   \n",
       "1            Soft Drinks   48.2692            OUT018   \n",
       "2                   Meat  141.6180            OUT049   \n",
       "3  Fruits and Vegetables  182.0950            OUT010   \n",
       "4              Household   53.8614            OUT013   \n",
       "\n",
       "   Outlet_Establishment_Year Outlet_Size Outlet_Location_Type  \\\n",
       "0                       1999      Medium               Tier 1   \n",
       "1                       2009      Medium               Tier 3   \n",
       "2                       1999      Medium               Tier 1   \n",
       "3                       1998      Medium               Tier 3   \n",
       "4                       1987       Large               Tier 3   \n",
       "\n",
       "         Outlet_Type  Item_Outlet_Sales  \n",
       "0  Supermarket Type1          3735.1380  \n",
       "1  Supermarket Type2           443.4228  \n",
       "2  Supermarket Type1          2097.2700  \n",
       "3      Grocery Store           732.3800  \n",
       "4  Supermarket Type1           994.7052  "
      ]
     },
     "execution_count": 17,
     "metadata": {},
     "output_type": "execute_result"
    }
   ],
   "source": [
    "#Display data for ease of access.\n",
    "df.head(5)"
   ]
  },
  {
   "cell_type": "code",
   "execution_count": 18,
   "id": "6cfbc302",
   "metadata": {
    "colab": {
     "base_uri": "https://localhost:8080/",
     "height": 593
    },
    "id": "-_1hPP_LIOjz",
    "outputId": "5b2e834e-540d-4c83-fffb-8fc981f423cc"
   },
   "outputs": [
    {
     "data": {
      "image/png": "[encoded data removed]",
      "text/plain": [
       "<Figure size 640x480 with 1 Axes>"
      ]
     },
     "metadata": {},
     "output_type": "display_data"
    }
   ],
   "source": [
    "#Histogram 1.\n",
    "sns.set(style='darkgrid')\n",
    "ax=sns.histplot(df['Item_Type'])\n",
    "ax.set_xticks([0,1,2,3,4,5,6,7,8,9,10,11,12,13,14,15,16,17])\n",
    "ax.set_xticklabels(ax.get_xticklabels(),rotation=45, horizontalalignment='right')\n",
    "ax.set_title('Item by Type Count');"
   ]
  },
  {
   "cell_type": "code",
   "execution_count": 19,
   "id": "f516e99f",
   "metadata": {
    "colab": {
     "base_uri": "https://localhost:8080/",
     "height": 517
    },
    "id": "5PIiMB-rzLF2",
    "outputId": "63216403-1608-43c7-9990-5ef08c670c40"
   },
   "outputs": [
    {
     "data": {
      "image/png": "[encoded data removed]",
      "text/plain": [
       "<Figure size 640x480 with 1 Axes>"
      ]
     },
     "metadata": {},
     "output_type": "display_data"
    }
   ],
   "source": [
    "#Histogram 2.\n",
    "sns.set(style='darkgrid')\n",
    "ax=sns.histplot(df['Item_Fat_Content'])\n",
    "ax.set_xticks([0,1])\n",
    "ax.set_xticklabels(ax.get_xticklabels(),rotation=45, horizontalalignment='right')\n",
    "ax.set_title('Count by Fat Content');"
   ]
  },
  {
   "cell_type": "code",
   "execution_count": 20,
   "id": "2777bfab",
   "metadata": {
    "colab": {
     "base_uri": "https://localhost:8080/",
     "height": 582
    },
    "id": "D3PBjLNFzR9-",
    "outputId": "33d0384b-7867-4861-cce5-4943a15e1961"
   },
   "outputs": [
    {
     "data": {
      "image/png": "[encoded data removed]",
      "text/plain": [
       "<Figure size 640x480 with 1 Axes>"
      ]
     },
     "metadata": {},
     "output_type": "display_data"
    }
   ],
   "source": [
    "#Histogram 3.\n",
    "sns.set(style='darkgrid')\n",
    "ax=sns.histplot(df['Outlet_Type'])\n",
    "ax.set_xticks([0,1,2,3])\n",
    "ax.set_xticklabels(ax.get_xticklabels(),rotation=45, horizontalalignment='right')\n",
    "ax.set_title('Outlet Type Count');"
   ]
  },
  {
   "cell_type": "code",
   "execution_count": 21,
   "id": "770db8f9",
   "metadata": {
    "colab": {
     "base_uri": "https://localhost:8080/",
     "height": 500
    },
    "id": "FcnDCPrzewHp",
    "outputId": "a0b7ea70-20b8-4fff-a178-a80fe904f540"
   },
   "outputs": [
    {
     "data": {
      "image/png": "[encoded data removed]",
      "text/plain": [
       "<Figure size 640x480 with 1 Axes>"
      ]
     },
     "metadata": {},
     "output_type": "display_data"
    }
   ],
   "source": [
    "#Boxplot 1.\n",
    "sns.set(style='darkgrid')\n",
    "plt.tight_layout()\n",
    "ax=sns.boxplot(data=df, y=df['Item_Type'],x=df['Item_Visibility'])\n",
    "ax.set_xticks([0.0,0.05,0.1,0.15,0.2,0.25,0.3,0.35])\n",
    "ax.set_xticklabels(ax.get_xticklabels(),rotation=45, horizontalalignment='right')\n",
    "ax.set_title('Item Type by Visibility');"
   ]
  },
  {
   "cell_type": "code",
   "execution_count": 22,
   "id": "8eea8e8f",
   "metadata": {
    "colab": {
     "base_uri": "https://localhost:8080/",
     "height": 488
    },
    "id": "OI0mpwI9yzH7",
    "outputId": "f9fcf40a-39e3-45f3-d9af-fc225f3ae7ae"
   },
   "outputs": [
    {
     "data": {
      "image/png": "[encoded data removed]",
      "text/plain": [
       "<Figure size 640x480 with 1 Axes>"
      ]
     },
     "metadata": {},
     "output_type": "display_data"
    }
   ],
   "source": [
    "#Boxplot 2.\n",
    "sns.set(style='darkgrid')\n",
    "plt.tight_layout()\n",
    "ax=sns.boxplot(data=df, y=df['Item_Type'],x=df['Item_Outlet_Sales'])\n",
    "ax.set_xticks([0,2000,4000,6000,8000,10000,12000])\n",
    "ax.set_xticklabels(ax.get_xticklabels(),rotation=45, horizontalalignment='right');"
   ]
  },
  {
   "cell_type": "code",
   "execution_count": 23,
   "id": "5bbf4fb1",
   "metadata": {
    "colab": {
     "base_uri": "https://localhost:8080/",
     "height": 474
    },
    "id": "PT0OMYOgy-T7",
    "outputId": "bce2d54f-5bfb-461d-90de-b6e50feb615c"
   },
   "outputs": [
    {
     "data": {
      "image/png": "[encoded data removed]",
      "text/plain": [
       "<Figure size 640x480 with 1 Axes>"
      ]
     },
     "metadata": {},
     "output_type": "display_data"
    }
   ],
   "source": [
    "#Boxplot 3.\n",
    "sns.set(style='darkgrid')\n",
    "ax=sns.boxplot(data=df, y=df['Item_Type'],x=df['Item_MRP'])\n",
    "ax.set_xticks([50,100,150,200,250])\n",
    "ax.set_xticklabels(ax.get_xticklabels(),rotation=45, horizontalalignment='right');"
   ]
  },
  {
   "cell_type": "code",
   "execution_count": 24,
   "id": "2679d064",
   "metadata": {
    "colab": {
     "base_uri": "https://localhost:8080/",
     "height": 305
    },
    "id": "uHxDFdiZ0c3_",
    "outputId": "63887e7d-9661-425e-c508-e0c86235afe5"
   },
   "outputs": [
    {
     "name": "stderr",
     "output_type": "stream",
     "text": [
      "C:\\Users\\Mikey.Windows\\AppData\\Local\\Temp\\ipykernel_12236\\405463462.py:2: FutureWarning: The default value of numeric_only in DataFrame.corr is deprecated. In a future version, it will default to False. Select only valid columns or specify the value of numeric_only to silence this warning.\n",
      "  corr=df.corr();\n"
     ]
    },
    {
     "data": {
      "text/html": [
       "<div>\n",
       "<style scoped>\n",
       "    .dataframe tbody tr th:only-of-type {\n",
       "        vertical-align: middle;\n",
       "    }\n",
       "\n",
       "    .dataframe tbody tr th {\n",
       "        vertical-align: top;\n",
       "    }\n",
       "\n",
       "    .dataframe thead th {\n",
       "        text-align: right;\n",
       "    }\n",
       "</style>\n",
       "<table border=\"1\" class=\"dataframe\">\n",
       "  <thead>\n",
       "    <tr style=\"text-align: right;\">\n",
       "      <th></th>\n",
       "      <th>Item_Weight</th>\n",
       "      <th>Item_Visibility</th>\n",
       "      <th>Item_MRP</th>\n",
       "      <th>Outlet_Establishment_Year</th>\n",
       "      <th>Item_Outlet_Sales</th>\n",
       "    </tr>\n",
       "  </thead>\n",
       "  <tbody>\n",
       "    <tr>\n",
       "      <th>Item_Weight</th>\n",
       "      <td>1.000000</td>\n",
       "      <td>-0.012049</td>\n",
       "      <td>0.024756</td>\n",
       "      <td>-0.008301</td>\n",
       "      <td>0.011550</td>\n",
       "    </tr>\n",
       "    <tr>\n",
       "      <th>Item_Visibility</th>\n",
       "      <td>-0.012049</td>\n",
       "      <td>1.000000</td>\n",
       "      <td>-0.001315</td>\n",
       "      <td>-0.074834</td>\n",
       "      <td>-0.128625</td>\n",
       "    </tr>\n",
       "    <tr>\n",
       "      <th>Item_MRP</th>\n",
       "      <td>0.024756</td>\n",
       "      <td>-0.001315</td>\n",
       "      <td>1.000000</td>\n",
       "      <td>0.005020</td>\n",
       "      <td>0.567574</td>\n",
       "    </tr>\n",
       "    <tr>\n",
       "      <th>Outlet_Establishment_Year</th>\n",
       "      <td>-0.008301</td>\n",
       "      <td>-0.074834</td>\n",
       "      <td>0.005020</td>\n",
       "      <td>1.000000</td>\n",
       "      <td>-0.049135</td>\n",
       "    </tr>\n",
       "    <tr>\n",
       "      <th>Item_Outlet_Sales</th>\n",
       "      <td>0.011550</td>\n",
       "      <td>-0.128625</td>\n",
       "      <td>0.567574</td>\n",
       "      <td>-0.049135</td>\n",
       "      <td>1.000000</td>\n",
       "    </tr>\n",
       "  </tbody>\n",
       "</table>\n",
       "</div>"
      ],
      "text/plain": [
       "                           Item_Weight  Item_Visibility  Item_MRP  \\\n",
       "Item_Weight                   1.000000        -0.012049  0.024756   \n",
       "Item_Visibility              -0.012049         1.000000 -0.001315   \n",
       "Item_MRP                      0.024756        -0.001315  1.000000   \n",
       "Outlet_Establishment_Year    -0.008301        -0.074834  0.005020   \n",
       "Item_Outlet_Sales             0.011550        -0.128625  0.567574   \n",
       "\n",
       "                           Outlet_Establishment_Year  Item_Outlet_Sales  \n",
       "Item_Weight                                -0.008301           0.011550  \n",
       "Item_Visibility                            -0.074834          -0.128625  \n",
       "Item_MRP                                    0.005020           0.567574  \n",
       "Outlet_Establishment_Year                   1.000000          -0.049135  \n",
       "Item_Outlet_Sales                          -0.049135           1.000000  "
      ]
     },
     "execution_count": 24,
     "metadata": {},
     "output_type": "execute_result"
    }
   ],
   "source": [
    "#Correlate\n",
    "corr=df.corr();\n",
    "corr"
   ]
  },
  {
   "cell_type": "code",
   "execution_count": 25,
   "id": "058029ad",
   "metadata": {
    "colab": {
     "base_uri": "https://localhost:8080/",
     "height": 623
    },
    "id": "hU2wsmVm0vG5",
    "outputId": "38f9e1a4-2a2d-4f6a-c2f3-5b9ff08c8e13"
   },
   "outputs": [
    {
     "data": {
      "image/png": "[encoded data removed]",
      "text/plain": [
       "<Figure size 640x480 with 2 Axes>"
      ]
     },
     "metadata": {},
     "output_type": "display_data"
    }
   ],
   "source": [
    "#Define fig and ax objects\n",
    "plt.tight_layout()\n",
    "#Creating our heatmap with some args to display in an easy to read manner.\n",
    "mask=np.triu(np.ones_like(corr))\n",
    "ax=sns.heatmap(corr,cmap='mako',annot=True,fmt = '.1f',mask=mask);"
   ]
  },
  {
   "cell_type": "code",
   "execution_count": 26,
   "id": "8907a3ea",
   "metadata": {
    "colab": {
     "base_uri": "https://localhost:8080/"
    },
    "id": "Mwk8DxiARQRe",
    "outputId": "2103f01c-62ef-46b2-a9dc-da0d0e0cf74e"
   },
   "outputs": [
    {
     "data": {
      "text/plain": [
       "Fruits and Vegetables    1232\n",
       "Snack Foods              1200\n",
       "Household                 910\n",
       "Frozen Foods              856\n",
       "Dairy                     682\n",
       "Canned                    649\n",
       "Baking Goods              648\n",
       "Health and Hygiene        520\n",
       "Soft Drinks               445\n",
       "Meat                      425\n",
       "Breads                    251\n",
       "Hard Drinks               214\n",
       "Others                    169\n",
       "Starchy Foods             148\n",
       "Breakfast                 110\n",
       "Seafood                    64\n",
       "Name: Item_Type, dtype: int64"
      ]
     },
     "execution_count": 26,
     "metadata": {},
     "output_type": "execute_result"
    }
   ],
   "source": [
    "df['Item_Type'].value_counts()"
   ]
  },
  {
   "cell_type": "markdown",
   "id": "15fc39ea",
   "metadata": {
    "id": "OtfwaS4wfhM6"
   },
   "source": [
    "# Possible Questions to Answer:\n",
    "\n",
    "1.   What outlet type sells the most?\n",
    "2.   What item type has the highest sales?\n",
    "\n"
   ]
  },
  {
   "cell_type": "markdown",
   "id": "4e9e4656",
   "metadata": {
    "id": "Qd5qxZVy_Ykd"
   },
   "source": [
    "## This visualization shows that Supermarket Type3 has the highest mean of sales."
   ]
  },
  {
   "cell_type": "code",
   "execution_count": 27,
   "id": "3eaeb1a1",
   "metadata": {
    "colab": {
     "base_uri": "https://localhost:8080/",
     "height": 175
    },
    "id": "fP87zNBMmtoM",
    "outputId": "79e2706b-1da7-49a7-a625-9740ef0b983d"
   },
   "outputs": [
    {
     "data": {
      "text/html": [
       "<div>\n",
       "<style scoped>\n",
       "    .dataframe tbody tr th:only-of-type {\n",
       "        vertical-align: middle;\n",
       "    }\n",
       "\n",
       "    .dataframe tbody tr th {\n",
       "        vertical-align: top;\n",
       "    }\n",
       "\n",
       "    .dataframe thead th {\n",
       "        text-align: right;\n",
       "    }\n",
       "</style>\n",
       "<table border=\"1\" class=\"dataframe\">\n",
       "  <thead>\n",
       "    <tr style=\"text-align: right;\">\n",
       "      <th></th>\n",
       "      <th>Outlet_Type</th>\n",
       "      <th>Mean Sales</th>\n",
       "    </tr>\n",
       "  </thead>\n",
       "  <tbody>\n",
       "    <tr>\n",
       "      <th>0</th>\n",
       "      <td>Grocery Store</td>\n",
       "      <td>339.828500</td>\n",
       "    </tr>\n",
       "    <tr>\n",
       "      <th>1</th>\n",
       "      <td>Supermarket Type1</td>\n",
       "      <td>2316.181148</td>\n",
       "    </tr>\n",
       "    <tr>\n",
       "      <th>2</th>\n",
       "      <td>Supermarket Type2</td>\n",
       "      <td>1995.498739</td>\n",
       "    </tr>\n",
       "    <tr>\n",
       "      <th>3</th>\n",
       "      <td>Supermarket Type3</td>\n",
       "      <td>3694.038558</td>\n",
       "    </tr>\n",
       "  </tbody>\n",
       "</table>\n",
       "</div>"
      ],
      "text/plain": [
       "         Outlet_Type   Mean Sales\n",
       "0      Grocery Store   339.828500\n",
       "1  Supermarket Type1  2316.181148\n",
       "2  Supermarket Type2  1995.498739\n",
       "3  Supermarket Type3  3694.038558"
      ]
     },
     "execution_count": 27,
     "metadata": {},
     "output_type": "execute_result"
    }
   ],
   "source": [
    "#Groupby and calculate mean of Sales.\n",
    "salesbytype=df.groupby('Outlet_Type')['Item_Outlet_Sales'].mean().reset_index(name='Mean Sales')\n",
    "salesbytype.head()"
   ]
  },
  {
   "cell_type": "code",
   "execution_count": 28,
   "id": "849c8823",
   "metadata": {
    "colab": {
     "base_uri": "https://localhost:8080/",
     "height": 428
    },
    "id": "uIq23WAjneB3",
    "outputId": "131dafd5-08ab-4313-95db-6e69ff7ac799"
   },
   "outputs": [
    {
     "data": {
      "image/png": "[encoded data removed]",
      "text/plain": [
       "<Figure size 1000x500 with 1 Axes>"
      ]
     },
     "metadata": {},
     "output_type": "display_data"
    }
   ],
   "source": [
    "#Simple Barplot\n",
    "plt.figure(figsize = (10,5))\n",
    "plt.bar(salesbytype['Outlet_Type'],salesbytype['Mean Sales'])\n",
    "plt.xlabel('Outlet Type')\n",
    "plt.ylabel('Mean of Sales')\n",
    "plt.title('Outlet types and their Mean of Sales')\n",
    "plt.tight_layout()"
   ]
  },
  {
   "cell_type": "markdown",
   "id": "11497f1b",
   "metadata": {
    "id": "OnJMxAkE_AEL"
   },
   "source": [
    "## Below shows us that Starchy foods have the highest average sales."
   ]
  },
  {
   "cell_type": "code",
   "execution_count": 29,
   "id": "92ee3acf",
   "metadata": {
    "id": "V5mAvlOU7D3m"
   },
   "outputs": [],
   "source": [
    "#Using mean of sales, to determine the highest average sales. The filter below will help with this.\n",
    "itemtyp=df.groupby('Item_Type')['Item_Outlet_Sales'].mean().reset_index(name='Mean_Sales')\n",
    "itemtyp.head()\n",
    "orderpl2 = itemtyp.sort_values(by='Mean_Sales',ascending=False).Item_Type.values"
   ]
  },
  {
   "cell_type": "code",
   "execution_count": 30,
   "id": "64454800",
   "metadata": {
    "colab": {
     "base_uri": "https://localhost:8080/",
     "height": 593
    },
    "id": "DOkN9nYk7khY",
    "outputId": "0dcdea54-3d4d-49f8-ed09-fded6a426e71"
   },
   "outputs": [
    {
     "data": {
      "image/png": "[encoded data removed]",
      "text/plain": [
       "<Figure size 640x480 with 1 Axes>"
      ]
     },
     "metadata": {},
     "output_type": "display_data"
    }
   ],
   "source": [
    "#Another Barplot.\n",
    "orderpl2 = itemtyp.sort_values(by='Mean_Sales',ascending=False).Item_Type.values\n",
    "ax=sns.barplot(x='Item_Type',y='Mean_Sales',data=itemtyp,order=orderpl2)\n",
    "ax.set_xlabel('Item Type')\n",
    "ax.set_ylabel('Mean Sales')\n",
    "ax.set_title('Mean of Sales Compared to Item Types')\n",
    "ax.set_xticklabels(ax.get_xticklabels(),rotation=45,horizontalalignment='right');"
   ]
  },
  {
   "cell_type": "markdown",
   "id": "5ce8d87f",
   "metadata": {
    "id": "DrxRzfsBnu_d"
   },
   "source": [
    "# Pre-Processing for machine learning."
   ]
  },
  {
   "cell_type": "markdown",
   "id": "914f8c77",
   "metadata": {},
   "source": [
    "#### The following codes are from LP"
   ]
  },
  {
   "cell_type": "code",
   "execution_count": 31,
   "id": "7c297818",
   "metadata": {},
   "outputs": [],
   "source": [
    "def evaluate_regression(model, X_train,y_train, X_test, y_test): \n",
    "    \"\"\"Evaluates a scikit learn regression model using r-squared and RMSE\"\"\"\n",
    "    \n",
    "    ## Training Data\n",
    "    y_pred_train = model.predict(X_train)\n",
    "    r2_train = metrics.r2_score(y_train, y_pred_train)\n",
    "    rmse_train = metrics.mean_squared_error(y_train, y_pred_train, \n",
    "                                            squared=False)\n",
    "    \n",
    "    print(f\"Training Data:\\tR^2= {r2_train:.2f}\\tRMSE= {rmse_train:.2f}\")\n",
    "        \n",
    "    \n",
    "    ## Test Data\n",
    "    y_pred_test = model.predict(X_test)\n",
    "    r2_test = metrics.r2_score(y_test, y_pred_test)\n",
    "    rmse_test = metrics.mean_squared_error(y_test, y_pred_test, \n",
    "                                            squared=False)\n",
    "    \n",
    "    print(f\"Test Data:\\tR^2= {r2_test:.2f}\\tRMSE= {rmse_test:.2f}\")"
   ]
  },
  {
   "cell_type": "code",
   "execution_count": 32,
   "id": "dfcc24a6",
   "metadata": {},
   "outputs": [],
   "source": [
    "def plot_coeffs(coeffs, top_n=None, figsize=(4,5), \n",
    "                intercept=False, intercept_name=\"intercept\", \n",
    "                annotate=False, ha='left', va='center', size=12, \n",
    "                xytext=(4,0), textcoords='offset points'):\n",
    "    \"\"\" Plots the top_n coefficients from a Series, with optional annotations.\n",
    "    \"\"\"\n",
    "    # Drop intercept if intercept=False and \n",
    "    if (intercept == False) & (intercept_name in coeffs.index):\n",
    "        coeffs = coeffs.drop(intercept_name)\n",
    "    if top_n == None:\n",
    "        ## sort all features and set title\n",
    "        plot_vals = coeffs.sort_values()\n",
    "        title = \"All Coefficients - Ranked by Magnitude\"\n",
    "    else:\n",
    "        ## rank the coeffs and select the top_n\n",
    "        coeff_rank = coeffs.abs().rank().sort_values(ascending=False)\n",
    "        top_n_features = coeff_rank.head(top_n)\n",
    "        \n",
    "        ## sort features and keep top_n and set title\n",
    "        plot_vals = coeffs.loc[top_n_features.index].sort_values()\n",
    "        title = f\"Top {top_n} Largest Coefficients\"\n",
    "    ## plotting top N importances\n",
    "    ax = plot_vals.plot(kind='barh', figsize=figsize)\n",
    "    ax.set(xlabel='Coefficient', \n",
    "            ylabel='Feature Names', \n",
    "            title=title)\n",
    "    ax.axvline(0, color='k')\n",
    "    if annotate == True:\n",
    "        annotate_hbars(ax, ha=ha, va=va, size=size, xytext=xytext, textcoords=textcoords)\n",
    "    return ax"
   ]
  },
  {
   "cell_type": "code",
   "execution_count": 33,
   "id": "e4d42100",
   "metadata": {},
   "outputs": [],
   "source": [
    "def annotate_hbars(ax, ha='left', va='center', size=12, xytext=(4,0),\n",
    "                  textcoords='offset points'):\n",
    "    for bar in ax.patches:\n",
    "    \n",
    "        ## calculate center of bar\n",
    "        bar_ax = bar.get_y() + bar.get_height() / 2\n",
    "        ## get the value to annotate\n",
    "        val = bar.get_width()\n",
    "        if val < 0:\n",
    "            val_pos = 0\n",
    "        else:\n",
    "            val_pos = val\n",
    "        # ha and va stand for the horizontal and vertical alignment\n",
    "        ax.annotate(f\"{val:.3f}\", (val_pos,bar_ax), ha=ha, va=va, size=size,\n",
    "                        xytext=xytext, textcoords=textcoords)"
   ]
  },
  {
   "cell_type": "code",
   "execution_count": 34,
   "id": "5b76d646",
   "metadata": {},
   "outputs": [],
   "source": [
    "def get_coeffs_linreg(lin_reg, feature_names = None, sort=True,ascending=True,\n",
    "                     name='LinearRegression Coefficients'):\n",
    "    if feature_names is None:\n",
    "        feature_names = lin_reg.feature_names_in_\n",
    "    ## Saving the coefficients\n",
    "    coeffs = pd.Series(lin_reg.coef_, index= feature_names)\n",
    "    coeffs['intercept'] = lin_reg.intercept_\n",
    "    if sort==True:\n",
    "        coeffs = coeffs.sort_values(ascending=ascending)\n",
    "    return coeffs"
   ]
  },
  {
   "cell_type": "code",
   "execution_count": 35,
   "id": "916881bf",
   "metadata": {},
   "outputs": [],
   "source": [
    "def get_importances(model, feature_names=None,name='Feature Importance',\n",
    "                   sort=False, ascending=True):\n",
    "    \n",
    "    ## checking for feature names\n",
    "    if feature_names == None:\n",
    "        feature_names = model.feature_names_in_\n",
    "        \n",
    "    ## Saving the feature importances\n",
    "    importances = pd.Series(model.feature_importances_, index= feature_names,\n",
    "                           name=name)\n",
    "    \n",
    "    # sort importances\n",
    "    if sort == True:\n",
    "        importances = importances.sort_values(ascending=ascending)\n",
    "        \n",
    "    return importances"
   ]
  },
  {
   "cell_type": "code",
   "execution_count": 36,
   "id": "6dab9816",
   "metadata": {},
   "outputs": [],
   "source": [
    "def plot_importance(importances, top_n=None,  figsize=(8,6)):\n",
    "    # sorting with asc=false for correct order of bars\n",
    "    if top_n==None:\n",
    "        ## sort all features and set title\n",
    "        plot_vals = importances.sort_values()\n",
    "        title = \"All Features - Ranked by Importance\"\n",
    "    else:\n",
    "        ## sort features and keep top_n and set title\n",
    "        plot_vals = importances.sort_values().tail(top_n)\n",
    "        title = f\"Top {top_n} Most Important Features\"\n",
    "    ## plotting top N importances\n",
    "    ax = plot_vals.plot(kind='barh', figsize=figsize)\n",
    "    ax.set(xlabel='Importance',\n",
    "            ylabel='Feature Names',\n",
    "            title=title)\n",
    "    ## return ax in case want to continue to update/modify figure\n",
    "    return ax"
   ]
  },
  {
   "cell_type": "code",
   "execution_count": 37,
   "id": "977db175",
   "metadata": {
    "id": "S9mGsdLhnyDL"
   },
   "outputs": [],
   "source": [
    "from sklearn import set_config\n",
    "from sklearn.preprocessing import StandardScaler, OneHotEncoder\n",
    "from sklearn.impute import SimpleImputer\n",
    "from sklearn.compose import make_column_transformer, make_column_selector\n",
    "from sklearn.pipeline import make_pipeline\n",
    "from sklearn.model_selection import train_test_split\n",
    "from sklearn.linear_model import LinearRegression\n",
    "from sklearn.metrics import r2_score, mean_squared_error,mean_absolute_error\n",
    "from sklearn.ensemble import RandomForestRegressor\n",
    "from sklearn.tree import DecisionTreeRegressor\n",
    "from sklearn.ensemble import BaggingRegressor\n",
    "from sklearn.dummy import DummyRegressor\n",
    "from sklearn import metrics\n",
    "import warnings\n",
    "warnings.simplefilter(action='ignore', category=FutureWarning)"
   ]
  },
  {
   "cell_type": "code",
   "execution_count": 38,
   "id": "a9df6d4b",
   "metadata": {
    "id": "a-l_VOWepG4E"
   },
   "outputs": [],
   "source": [
    "dfmachine='C:/Users/Mikey.Windows/Documents/GitHub/Prediction-of-Product-Sales/Data/sales_predictions.xlsx'\n",
    "df2 = pd.read_excel(dfmachine)"
   ]
  },
  {
   "cell_type": "code",
   "execution_count": 39,
   "id": "64791fab",
   "metadata": {
    "id": "udIXigYYrRRj"
   },
   "outputs": [],
   "source": [
    "#Fixing missing/typos.\n",
    "df2['Outlet_Size'].replace('High','Large',inplace=True)\n",
    "df2['Item_Fat_Content'] = df2['Item_Fat_Content'].replace('LF', 'Low Fat')\n",
    "df2['Item_Fat_Content'] = df2['Item_Fat_Content'].replace('low fat', 'Low Fat')\n",
    "df2['Item_Fat_Content'] = df2['Item_Fat_Content'].replace('reg', 'Regular')"
   ]
  },
  {
   "cell_type": "code",
   "execution_count": 40,
   "id": "dd72819b",
   "metadata": {
    "colab": {
     "base_uri": "https://localhost:8080/",
     "height": 357
    },
    "id": "j0IVNPQ5pwIJ",
    "outputId": "12800c51-4cd3-4391-c52c-1646f4bf957d"
   },
   "outputs": [
    {
     "data": {
      "text/html": [
       "<div>\n",
       "<style scoped>\n",
       "    .dataframe tbody tr th:only-of-type {\n",
       "        vertical-align: middle;\n",
       "    }\n",
       "\n",
       "    .dataframe tbody tr th {\n",
       "        vertical-align: top;\n",
       "    }\n",
       "\n",
       "    .dataframe thead th {\n",
       "        text-align: right;\n",
       "    }\n",
       "</style>\n",
       "<table border=\"1\" class=\"dataframe\">\n",
       "  <thead>\n",
       "    <tr style=\"text-align: right;\">\n",
       "      <th></th>\n",
       "      <th>Item_Identifier</th>\n",
       "      <th>Item_Weight</th>\n",
       "      <th>Item_Fat_Content</th>\n",
       "      <th>Item_Visibility</th>\n",
       "      <th>Item_Type</th>\n",
       "      <th>Item_MRP</th>\n",
       "      <th>Outlet_Identifier</th>\n",
       "      <th>Outlet_Establishment_Year</th>\n",
       "      <th>Outlet_Size</th>\n",
       "      <th>Outlet_Location_Type</th>\n",
       "      <th>Outlet_Type</th>\n",
       "      <th>Item_Outlet_Sales</th>\n",
       "    </tr>\n",
       "  </thead>\n",
       "  <tbody>\n",
       "    <tr>\n",
       "      <th>0</th>\n",
       "      <td>FDA15</td>\n",
       "      <td>9.30</td>\n",
       "      <td>Low Fat</td>\n",
       "      <td>0.016047</td>\n",
       "      <td>Dairy</td>\n",
       "      <td>249.8092</td>\n",
       "      <td>OUT049</td>\n",
       "      <td>1999</td>\n",
       "      <td>Medium</td>\n",
       "      <td>Tier 1</td>\n",
       "      <td>Supermarket Type1</td>\n",
       "      <td>3735.1380</td>\n",
       "    </tr>\n",
       "    <tr>\n",
       "      <th>1</th>\n",
       "      <td>DRC01</td>\n",
       "      <td>5.92</td>\n",
       "      <td>Regular</td>\n",
       "      <td>0.019278</td>\n",
       "      <td>Soft Drinks</td>\n",
       "      <td>48.2692</td>\n",
       "      <td>OUT018</td>\n",
       "      <td>2009</td>\n",
       "      <td>Medium</td>\n",
       "      <td>Tier 3</td>\n",
       "      <td>Supermarket Type2</td>\n",
       "      <td>443.4228</td>\n",
       "    </tr>\n",
       "    <tr>\n",
       "      <th>2</th>\n",
       "      <td>FDN15</td>\n",
       "      <td>17.50</td>\n",
       "      <td>Low Fat</td>\n",
       "      <td>0.016760</td>\n",
       "      <td>Meat</td>\n",
       "      <td>141.6180</td>\n",
       "      <td>OUT049</td>\n",
       "      <td>1999</td>\n",
       "      <td>Medium</td>\n",
       "      <td>Tier 1</td>\n",
       "      <td>Supermarket Type1</td>\n",
       "      <td>2097.2700</td>\n",
       "    </tr>\n",
       "    <tr>\n",
       "      <th>3</th>\n",
       "      <td>FDX07</td>\n",
       "      <td>19.20</td>\n",
       "      <td>Regular</td>\n",
       "      <td>0.000000</td>\n",
       "      <td>Fruits and Vegetables</td>\n",
       "      <td>182.0950</td>\n",
       "      <td>OUT010</td>\n",
       "      <td>1998</td>\n",
       "      <td>NaN</td>\n",
       "      <td>Tier 3</td>\n",
       "      <td>Grocery Store</td>\n",
       "      <td>732.3800</td>\n",
       "    </tr>\n",
       "    <tr>\n",
       "      <th>4</th>\n",
       "      <td>NCD19</td>\n",
       "      <td>8.93</td>\n",
       "      <td>Low Fat</td>\n",
       "      <td>0.000000</td>\n",
       "      <td>Household</td>\n",
       "      <td>53.8614</td>\n",
       "      <td>OUT013</td>\n",
       "      <td>1987</td>\n",
       "      <td>Large</td>\n",
       "      <td>Tier 3</td>\n",
       "      <td>Supermarket Type1</td>\n",
       "      <td>994.7052</td>\n",
       "    </tr>\n",
       "  </tbody>\n",
       "</table>\n",
       "</div>"
      ],
      "text/plain": [
       "  Item_Identifier  Item_Weight Item_Fat_Content  Item_Visibility  \\\n",
       "0           FDA15         9.30          Low Fat         0.016047   \n",
       "1           DRC01         5.92          Regular         0.019278   \n",
       "2           FDN15        17.50          Low Fat         0.016760   \n",
       "3           FDX07        19.20          Regular         0.000000   \n",
       "4           NCD19         8.93          Low Fat         0.000000   \n",
       "\n",
       "               Item_Type  Item_MRP Outlet_Identifier  \\\n",
       "0                  Dairy  249.8092            OUT049   \n",
       "1            Soft Drinks   48.2692            OUT018   \n",
       "2                   Meat  141.6180            OUT049   \n",
       "3  Fruits and Vegetables  182.0950            OUT010   \n",
       "4              Household   53.8614            OUT013   \n",
       "\n",
       "   Outlet_Establishment_Year Outlet_Size Outlet_Location_Type  \\\n",
       "0                       1999      Medium               Tier 1   \n",
       "1                       2009      Medium               Tier 3   \n",
       "2                       1999      Medium               Tier 1   \n",
       "3                       1998         NaN               Tier 3   \n",
       "4                       1987       Large               Tier 3   \n",
       "\n",
       "         Outlet_Type  Item_Outlet_Sales  \n",
       "0  Supermarket Type1          3735.1380  \n",
       "1  Supermarket Type2           443.4228  \n",
       "2  Supermarket Type1          2097.2700  \n",
       "3      Grocery Store           732.3800  \n",
       "4  Supermarket Type1           994.7052  "
      ]
     },
     "execution_count": 40,
     "metadata": {},
     "output_type": "execute_result"
    }
   ],
   "source": [
    "df2.head()"
   ]
  },
  {
   "cell_type": "code",
   "execution_count": 41,
   "id": "106f9bef",
   "metadata": {
    "id": "3yBkSqpapNXZ"
   },
   "outputs": [],
   "source": [
    "#Dropping columns that are unnecessary.\n",
    "df2.drop(columns=['Item_Identifier'],inplace=True);"
   ]
  },
  {
   "cell_type": "code",
   "execution_count": 42,
   "id": "49eeebe2",
   "metadata": {
    "id": "XG6qMt1GfL7k"
   },
   "outputs": [],
   "source": [
    "# Split X should only include the Manufacturer, cereal type, grams of fat, grams of sugars, and weight in ounces columns.\n",
    "X=df2.drop(['Item_Outlet_Sales'],axis=1)\n",
    "y=df2['Item_Outlet_Sales']\n",
    "X_train,X_test,y_train,y_test=train_test_split(X,y,random_state=42)"
   ]
  },
  {
   "cell_type": "code",
   "execution_count": 43,
   "id": "546dce22",
   "metadata": {},
   "outputs": [
    {
     "data": {
      "text/plain": [
       "['Item_Fat_Content',\n",
       " 'Item_Type',\n",
       " 'Outlet_Identifier',\n",
       " 'Outlet_Size',\n",
       " 'Outlet_Location_Type',\n",
       " 'Outlet_Type']"
      ]
     },
     "execution_count": 43,
     "metadata": {},
     "output_type": "execute_result"
    }
   ],
   "source": [
    "cat_sel=make_column_selector(dtype_include='object')\n",
    "cat_sel(X_train)"
   ]
  },
  {
   "cell_type": "code",
   "execution_count": 44,
   "id": "3a16c5f6",
   "metadata": {},
   "outputs": [
    {
     "data": {
      "text/plain": [
       "['Item_Weight', 'Item_Visibility', 'Item_MRP', 'Outlet_Establishment_Year']"
      ]
     },
     "execution_count": 44,
     "metadata": {},
     "output_type": "execute_result"
    }
   ],
   "source": [
    "num_sel=make_column_selector(dtype_include='number')\n",
    "num_sel(X_train)"
   ]
  },
  {
   "cell_type": "code",
   "execution_count": 45,
   "id": "93f36461",
   "metadata": {},
   "outputs": [],
   "source": [
    "cat_pipe=make_pipeline(SimpleImputer(strategy='constant',fill_value='MISSING'),\n",
    "                      OneHotEncoder(drop='first', sparse=False))\n",
    "num_pipe=make_pipeline(SimpleImputer(strategy='mean'))"
   ]
  },
  {
   "cell_type": "code",
   "execution_count": 46,
   "id": "1c7ddf52",
   "metadata": {},
   "outputs": [
    {
     "data": {
      "text/html": [
       "<style>#sk-container-id-1 {color: black;background-color: white;}#sk-container-id-1 pre{padding: 0;}#sk-container-id-1 div.sk-toggleable {background-color: white;}#sk-container-id-1 label.sk-toggleable__label {cursor: pointer;display: block;width: 100%;margin-bottom: 0;padding: 0.3em;box-sizing: border-box;text-align: center;}#sk-container-id-1 label.sk-toggleable__label-arrow:before {content: \"▸\";float: left;margin-right: 0.25em;color: #696969;}#sk-container-id-1 label.sk-toggleable__label-arrow:hover:before {color: black;}#sk-container-id-1 div.sk-estimator:hover label.sk-toggleable__label-arrow:before {color: black;}#sk-container-id-1 div.sk-toggleable__content {max-height: 0;max-width: 0;overflow: hidden;text-align: left;background-color: #f0f8ff;}#sk-container-id-1 div.sk-toggleable__content pre {margin: 0.2em;color: black;border-radius: 0.25em;background-color: #f0f8ff;}#sk-container-id-1 input.sk-toggleable__control:checked~div.sk-toggleable__content {max-height: 200px;max-width: 100%;overflow: auto;}#sk-container-id-1 input.sk-toggleable__control:checked~label.sk-toggleable__label-arrow:before {content: \"▾\";}#sk-container-id-1 div.sk-estimator input.sk-toggleable__control:checked~label.sk-toggleable__label {background-color: #d4ebff;}#sk-container-id-1 div.sk-label input.sk-toggleable__control:checked~label.sk-toggleable__label {background-color: #d4ebff;}#sk-container-id-1 input.sk-hidden--visually {border: 0;clip: rect(1px 1px 1px 1px);clip: rect(1px, 1px, 1px, 1px);height: 1px;margin: -1px;overflow: hidden;padding: 0;position: absolute;width: 1px;}#sk-container-id-1 div.sk-estimator {font-family: monospace;background-color: #f0f8ff;border: 1px dotted black;border-radius: 0.25em;box-sizing: border-box;margin-bottom: 0.5em;}#sk-container-id-1 div.sk-estimator:hover {background-color: #d4ebff;}#sk-container-id-1 div.sk-parallel-item::after {content: \"\";width: 100%;border-bottom: 1px solid gray;flex-grow: 1;}#sk-container-id-1 div.sk-label:hover label.sk-toggleable__label {background-color: #d4ebff;}#sk-container-id-1 div.sk-serial::before {content: \"\";position: absolute;border-left: 1px solid gray;box-sizing: border-box;top: 0;bottom: 0;left: 50%;z-index: 0;}#sk-container-id-1 div.sk-serial {display: flex;flex-direction: column;align-items: center;background-color: white;padding-right: 0.2em;padding-left: 0.2em;position: relative;}#sk-container-id-1 div.sk-item {position: relative;z-index: 1;}#sk-container-id-1 div.sk-parallel {display: flex;align-items: stretch;justify-content: center;background-color: white;position: relative;}#sk-container-id-1 div.sk-item::before, #sk-container-id-1 div.sk-parallel-item::before {content: \"\";position: absolute;border-left: 1px solid gray;box-sizing: border-box;top: 0;bottom: 0;left: 50%;z-index: -1;}#sk-container-id-1 div.sk-parallel-item {display: flex;flex-direction: column;z-index: 1;position: relative;background-color: white;}#sk-container-id-1 div.sk-parallel-item:first-child::after {align-self: flex-end;width: 50%;}#sk-container-id-1 div.sk-parallel-item:last-child::after {align-self: flex-start;width: 50%;}#sk-container-id-1 div.sk-parallel-item:only-child::after {width: 0;}#sk-container-id-1 div.sk-dashed-wrapped {border: 1px dashed gray;margin: 0 0.4em 0.5em 0.4em;box-sizing: border-box;padding-bottom: 0.4em;background-color: white;}#sk-container-id-1 div.sk-label label {font-family: monospace;font-weight: bold;display: inline-block;line-height: 1.2em;}#sk-container-id-1 div.sk-label-container {text-align: center;}#sk-container-id-1 div.sk-container {/* jupyter's `normalize.less` sets `[hidden] { display: none; }` but bootstrap.min.css set `[hidden] { display: none !important; }` so we also need the `!important` here to be able to override the default hidden behavior on the sphinx rendered scikit-learn.org. See: https://github.com/scikit-learn/scikit-learn/issues/21755 */display: inline-block !important;position: relative;}#sk-container-id-1 div.sk-text-repr-fallback {display: none;}</style><div id=\"sk-container-id-1\" class=\"sk-top-container\"><div class=\"sk-text-repr-fallback\"><pre>ColumnTransformer(transformers=[(&#x27;pipeline-1&#x27;,\n",
       "                                 Pipeline(steps=[(&#x27;simpleimputer&#x27;,\n",
       "                                                  SimpleImputer())]),\n",
       "                                 &lt;sklearn.compose._column_transformer.make_column_selector object at 0x0000023AFCC67580&gt;),\n",
       "                                (&#x27;pipeline-2&#x27;,\n",
       "                                 Pipeline(steps=[(&#x27;simpleimputer&#x27;,\n",
       "                                                  SimpleImputer(fill_value=&#x27;MISSING&#x27;,\n",
       "                                                                strategy=&#x27;constant&#x27;)),\n",
       "                                                 (&#x27;onehotencoder&#x27;,\n",
       "                                                  OneHotEncoder(drop=&#x27;first&#x27;,\n",
       "                                                                sparse=False))]),\n",
       "                                 &lt;sklearn.compose._column_transformer.make_column_selector object at 0x0000023AFCC67430&gt;)],\n",
       "                  verbose_feature_names_out=False)</pre><b>In a Jupyter environment, please rerun this cell to show the HTML representation or trust the notebook. <br />On GitHub, the HTML representation is unable to render, please try loading this page with nbviewer.org.</b></div><div class=\"sk-container\" hidden><div class=\"sk-item sk-dashed-wrapped\"><div class=\"sk-label-container\"><div class=\"sk-label sk-toggleable\"><input class=\"sk-toggleable__control sk-hidden--visually\" id=\"sk-estimator-id-1\" type=\"checkbox\" ><label for=\"sk-estimator-id-1\" class=\"sk-toggleable__label sk-toggleable__label-arrow\">ColumnTransformer</label><div class=\"sk-toggleable__content\"><pre>ColumnTransformer(transformers=[(&#x27;pipeline-1&#x27;,\n",
       "                                 Pipeline(steps=[(&#x27;simpleimputer&#x27;,\n",
       "                                                  SimpleImputer())]),\n",
       "                                 &lt;sklearn.compose._column_transformer.make_column_selector object at 0x0000023AFCC67580&gt;),\n",
       "                                (&#x27;pipeline-2&#x27;,\n",
       "                                 Pipeline(steps=[(&#x27;simpleimputer&#x27;,\n",
       "                                                  SimpleImputer(fill_value=&#x27;MISSING&#x27;,\n",
       "                                                                strategy=&#x27;constant&#x27;)),\n",
       "                                                 (&#x27;onehotencoder&#x27;,\n",
       "                                                  OneHotEncoder(drop=&#x27;first&#x27;,\n",
       "                                                                sparse=False))]),\n",
       "                                 &lt;sklearn.compose._column_transformer.make_column_selector object at 0x0000023AFCC67430&gt;)],\n",
       "                  verbose_feature_names_out=False)</pre></div></div></div><div class=\"sk-parallel\"><div class=\"sk-parallel-item\"><div class=\"sk-item\"><div class=\"sk-label-container\"><div class=\"sk-label sk-toggleable\"><input class=\"sk-toggleable__control sk-hidden--visually\" id=\"sk-estimator-id-2\" type=\"checkbox\" ><label for=\"sk-estimator-id-2\" class=\"sk-toggleable__label sk-toggleable__label-arrow\">pipeline-1</label><div class=\"sk-toggleable__content\"><pre>&lt;sklearn.compose._column_transformer.make_column_selector object at 0x0000023AFCC67580&gt;</pre></div></div></div><div class=\"sk-serial\"><div class=\"sk-item\"><div class=\"sk-serial\"><div class=\"sk-item\"><div class=\"sk-estimator sk-toggleable\"><input class=\"sk-toggleable__control sk-hidden--visually\" id=\"sk-estimator-id-3\" type=\"checkbox\" ><label for=\"sk-estimator-id-3\" class=\"sk-toggleable__label sk-toggleable__label-arrow\">SimpleImputer</label><div class=\"sk-toggleable__content\"><pre>SimpleImputer()</pre></div></div></div></div></div></div></div></div><div class=\"sk-parallel-item\"><div class=\"sk-item\"><div class=\"sk-label-container\"><div class=\"sk-label sk-toggleable\"><input class=\"sk-toggleable__control sk-hidden--visually\" id=\"sk-estimator-id-4\" type=\"checkbox\" ><label for=\"sk-estimator-id-4\" class=\"sk-toggleable__label sk-toggleable__label-arrow\">pipeline-2</label><div class=\"sk-toggleable__content\"><pre>&lt;sklearn.compose._column_transformer.make_column_selector object at 0x0000023AFCC67430&gt;</pre></div></div></div><div class=\"sk-serial\"><div class=\"sk-item\"><div class=\"sk-serial\"><div class=\"sk-item\"><div class=\"sk-estimator sk-toggleable\"><input class=\"sk-toggleable__control sk-hidden--visually\" id=\"sk-estimator-id-5\" type=\"checkbox\" ><label for=\"sk-estimator-id-5\" class=\"sk-toggleable__label sk-toggleable__label-arrow\">SimpleImputer</label><div class=\"sk-toggleable__content\"><pre>SimpleImputer(fill_value=&#x27;MISSING&#x27;, strategy=&#x27;constant&#x27;)</pre></div></div></div><div class=\"sk-item\"><div class=\"sk-estimator sk-toggleable\"><input class=\"sk-toggleable__control sk-hidden--visually\" id=\"sk-estimator-id-6\" type=\"checkbox\" ><label for=\"sk-estimator-id-6\" class=\"sk-toggleable__label sk-toggleable__label-arrow\">OneHotEncoder</label><div class=\"sk-toggleable__content\"><pre>OneHotEncoder(drop=&#x27;first&#x27;, sparse=False)</pre></div></div></div></div></div></div></div></div></div></div></div></div>"
      ],
      "text/plain": [
       "ColumnTransformer(transformers=[('pipeline-1',\n",
       "                                 Pipeline(steps=[('simpleimputer',\n",
       "                                                  SimpleImputer())]),\n",
       "                                 <sklearn.compose._column_transformer.make_column_selector object at 0x0000023AFCC67580>),\n",
       "                                ('pipeline-2',\n",
       "                                 Pipeline(steps=[('simpleimputer',\n",
       "                                                  SimpleImputer(fill_value='MISSING',\n",
       "                                                                strategy='constant')),\n",
       "                                                 ('onehotencoder',\n",
       "                                                  OneHotEncoder(drop='first',\n",
       "                                                                sparse=False))]),\n",
       "                                 <sklearn.compose._column_transformer.make_column_selector object at 0x0000023AFCC67430>)],\n",
       "                  verbose_feature_names_out=False)"
      ]
     },
     "execution_count": 46,
     "metadata": {},
     "output_type": "execute_result"
    }
   ],
   "source": [
    "preprocessor=make_column_transformer((num_pipe,num_sel),\n",
    "                                    (cat_pipe,cat_sel),\n",
    "                                    verbose_feature_names_out=False)\n",
    "preprocessor"
   ]
  },
  {
   "cell_type": "code",
   "execution_count": 47,
   "id": "7fa61045",
   "metadata": {},
   "outputs": [
    {
     "data": {
      "text/plain": [
       "array(['Item_Weight', 'Item_Visibility', 'Item_MRP',\n",
       "       'Outlet_Establishment_Year', 'Item_Fat_Content_Regular',\n",
       "       'Item_Type_Breads', 'Item_Type_Breakfast', 'Item_Type_Canned',\n",
       "       'Item_Type_Dairy', 'Item_Type_Frozen Foods',\n",
       "       'Item_Type_Fruits and Vegetables', 'Item_Type_Hard Drinks',\n",
       "       'Item_Type_Health and Hygiene', 'Item_Type_Household',\n",
       "       'Item_Type_Meat', 'Item_Type_Others', 'Item_Type_Seafood',\n",
       "       'Item_Type_Snack Foods', 'Item_Type_Soft Drinks',\n",
       "       'Item_Type_Starchy Foods', 'Outlet_Identifier_OUT013',\n",
       "       'Outlet_Identifier_OUT017', 'Outlet_Identifier_OUT018',\n",
       "       'Outlet_Identifier_OUT019', 'Outlet_Identifier_OUT027',\n",
       "       'Outlet_Identifier_OUT035', 'Outlet_Identifier_OUT045',\n",
       "       'Outlet_Identifier_OUT046', 'Outlet_Identifier_OUT049',\n",
       "       'Outlet_Size_MISSING', 'Outlet_Size_Medium', 'Outlet_Size_Small',\n",
       "       'Outlet_Location_Type_Tier 2', 'Outlet_Location_Type_Tier 3',\n",
       "       'Outlet_Type_Supermarket Type1', 'Outlet_Type_Supermarket Type2',\n",
       "       'Outlet_Type_Supermarket Type3'], dtype=object)"
      ]
     },
     "execution_count": 47,
     "metadata": {},
     "output_type": "execute_result"
    }
   ],
   "source": [
    "preprocessor.fit(X_train)\n",
    "feature_names=preprocessor.get_feature_names_out()\n",
    "feature_names"
   ]
  },
  {
   "cell_type": "code",
   "execution_count": 48,
   "id": "50c4e372",
   "metadata": {},
   "outputs": [
    {
     "data": {
      "text/html": [
       "<div>\n",
       "<style scoped>\n",
       "    .dataframe tbody tr th:only-of-type {\n",
       "        vertical-align: middle;\n",
       "    }\n",
       "\n",
       "    .dataframe tbody tr th {\n",
       "        vertical-align: top;\n",
       "    }\n",
       "\n",
       "    .dataframe thead th {\n",
       "        text-align: right;\n",
       "    }\n",
       "</style>\n",
       "<table border=\"1\" class=\"dataframe\">\n",
       "  <thead>\n",
       "    <tr style=\"text-align: right;\">\n",
       "      <th></th>\n",
       "      <th>Item_Weight</th>\n",
       "      <th>Item_Visibility</th>\n",
       "      <th>Item_MRP</th>\n",
       "      <th>Outlet_Establishment_Year</th>\n",
       "      <th>Item_Fat_Content_Regular</th>\n",
       "      <th>Item_Type_Breads</th>\n",
       "      <th>Item_Type_Breakfast</th>\n",
       "      <th>Item_Type_Canned</th>\n",
       "      <th>Item_Type_Dairy</th>\n",
       "      <th>Item_Type_Frozen Foods</th>\n",
       "      <th>...</th>\n",
       "      <th>Outlet_Identifier_OUT046</th>\n",
       "      <th>Outlet_Identifier_OUT049</th>\n",
       "      <th>Outlet_Size_MISSING</th>\n",
       "      <th>Outlet_Size_Medium</th>\n",
       "      <th>Outlet_Size_Small</th>\n",
       "      <th>Outlet_Location_Type_Tier 2</th>\n",
       "      <th>Outlet_Location_Type_Tier 3</th>\n",
       "      <th>Outlet_Type_Supermarket Type1</th>\n",
       "      <th>Outlet_Type_Supermarket Type2</th>\n",
       "      <th>Outlet_Type_Supermarket Type3</th>\n",
       "    </tr>\n",
       "  </thead>\n",
       "  <tbody>\n",
       "    <tr>\n",
       "      <th>4776</th>\n",
       "      <td>16.35</td>\n",
       "      <td>0.029565</td>\n",
       "      <td>256.4646</td>\n",
       "      <td>2009.0</td>\n",
       "      <td>0.0</td>\n",
       "      <td>0.0</td>\n",
       "      <td>0.0</td>\n",
       "      <td>0.0</td>\n",
       "      <td>0.0</td>\n",
       "      <td>0.0</td>\n",
       "      <td>...</td>\n",
       "      <td>0.0</td>\n",
       "      <td>0.0</td>\n",
       "      <td>0.0</td>\n",
       "      <td>1.0</td>\n",
       "      <td>0.0</td>\n",
       "      <td>0.0</td>\n",
       "      <td>1.0</td>\n",
       "      <td>0.0</td>\n",
       "      <td>1.0</td>\n",
       "      <td>0.0</td>\n",
       "    </tr>\n",
       "    <tr>\n",
       "      <th>7510</th>\n",
       "      <td>15.25</td>\n",
       "      <td>0.000000</td>\n",
       "      <td>179.7660</td>\n",
       "      <td>2009.0</td>\n",
       "      <td>1.0</td>\n",
       "      <td>0.0</td>\n",
       "      <td>0.0</td>\n",
       "      <td>0.0</td>\n",
       "      <td>0.0</td>\n",
       "      <td>0.0</td>\n",
       "      <td>...</td>\n",
       "      <td>0.0</td>\n",
       "      <td>0.0</td>\n",
       "      <td>0.0</td>\n",
       "      <td>1.0</td>\n",
       "      <td>0.0</td>\n",
       "      <td>0.0</td>\n",
       "      <td>1.0</td>\n",
       "      <td>0.0</td>\n",
       "      <td>1.0</td>\n",
       "      <td>0.0</td>\n",
       "    </tr>\n",
       "    <tr>\n",
       "      <th>5828</th>\n",
       "      <td>12.35</td>\n",
       "      <td>0.158716</td>\n",
       "      <td>157.2946</td>\n",
       "      <td>1999.0</td>\n",
       "      <td>1.0</td>\n",
       "      <td>0.0</td>\n",
       "      <td>0.0</td>\n",
       "      <td>0.0</td>\n",
       "      <td>0.0</td>\n",
       "      <td>0.0</td>\n",
       "      <td>...</td>\n",
       "      <td>0.0</td>\n",
       "      <td>1.0</td>\n",
       "      <td>0.0</td>\n",
       "      <td>1.0</td>\n",
       "      <td>0.0</td>\n",
       "      <td>0.0</td>\n",
       "      <td>0.0</td>\n",
       "      <td>1.0</td>\n",
       "      <td>0.0</td>\n",
       "      <td>0.0</td>\n",
       "    </tr>\n",
       "  </tbody>\n",
       "</table>\n",
       "<p>3 rows × 37 columns</p>\n",
       "</div>"
      ],
      "text/plain": [
       "      Item_Weight  Item_Visibility  Item_MRP  Outlet_Establishment_Year  \\\n",
       "4776        16.35         0.029565  256.4646                     2009.0   \n",
       "7510        15.25         0.000000  179.7660                     2009.0   \n",
       "5828        12.35         0.158716  157.2946                     1999.0   \n",
       "\n",
       "      Item_Fat_Content_Regular  Item_Type_Breads  Item_Type_Breakfast  \\\n",
       "4776                       0.0               0.0                  0.0   \n",
       "7510                       1.0               0.0                  0.0   \n",
       "5828                       1.0               0.0                  0.0   \n",
       "\n",
       "      Item_Type_Canned  Item_Type_Dairy  Item_Type_Frozen Foods  ...  \\\n",
       "4776               0.0              0.0                     0.0  ...   \n",
       "7510               0.0              0.0                     0.0  ...   \n",
       "5828               0.0              0.0                     0.0  ...   \n",
       "\n",
       "      Outlet_Identifier_OUT046  Outlet_Identifier_OUT049  Outlet_Size_MISSING  \\\n",
       "4776                       0.0                       0.0                  0.0   \n",
       "7510                       0.0                       0.0                  0.0   \n",
       "5828                       0.0                       1.0                  0.0   \n",
       "\n",
       "      Outlet_Size_Medium  Outlet_Size_Small  Outlet_Location_Type_Tier 2  \\\n",
       "4776                 1.0                0.0                          0.0   \n",
       "7510                 1.0                0.0                          0.0   \n",
       "5828                 1.0                0.0                          0.0   \n",
       "\n",
       "      Outlet_Location_Type_Tier 3  Outlet_Type_Supermarket Type1  \\\n",
       "4776                          1.0                            0.0   \n",
       "7510                          1.0                            0.0   \n",
       "5828                          0.0                            1.0   \n",
       "\n",
       "      Outlet_Type_Supermarket Type2  Outlet_Type_Supermarket Type3  \n",
       "4776                            1.0                            0.0  \n",
       "7510                            1.0                            0.0  \n",
       "5828                            0.0                            0.0  \n",
       "\n",
       "[3 rows x 37 columns]"
      ]
     },
     "execution_count": 48,
     "metadata": {},
     "output_type": "execute_result"
    }
   ],
   "source": [
    "X_train_df=pd.DataFrame(preprocessor.transform(X_train),\n",
    "                       columns=feature_names,index=X_train.index)\n",
    "X_train_df.head(3)"
   ]
  },
  {
   "cell_type": "code",
   "execution_count": 49,
   "id": "f5c11ba9",
   "metadata": {},
   "outputs": [
    {
     "data": {
      "text/html": [
       "<div>\n",
       "<style scoped>\n",
       "    .dataframe tbody tr th:only-of-type {\n",
       "        vertical-align: middle;\n",
       "    }\n",
       "\n",
       "    .dataframe tbody tr th {\n",
       "        vertical-align: top;\n",
       "    }\n",
       "\n",
       "    .dataframe thead th {\n",
       "        text-align: right;\n",
       "    }\n",
       "</style>\n",
       "<table border=\"1\" class=\"dataframe\">\n",
       "  <thead>\n",
       "    <tr style=\"text-align: right;\">\n",
       "      <th></th>\n",
       "      <th>Item_Weight</th>\n",
       "      <th>Item_Visibility</th>\n",
       "      <th>Item_MRP</th>\n",
       "      <th>Outlet_Establishment_Year</th>\n",
       "      <th>Item_Fat_Content_Regular</th>\n",
       "      <th>Item_Type_Breads</th>\n",
       "      <th>Item_Type_Breakfast</th>\n",
       "      <th>Item_Type_Canned</th>\n",
       "      <th>Item_Type_Dairy</th>\n",
       "      <th>Item_Type_Frozen Foods</th>\n",
       "      <th>...</th>\n",
       "      <th>Outlet_Identifier_OUT046</th>\n",
       "      <th>Outlet_Identifier_OUT049</th>\n",
       "      <th>Outlet_Size_MISSING</th>\n",
       "      <th>Outlet_Size_Medium</th>\n",
       "      <th>Outlet_Size_Small</th>\n",
       "      <th>Outlet_Location_Type_Tier 2</th>\n",
       "      <th>Outlet_Location_Type_Tier 3</th>\n",
       "      <th>Outlet_Type_Supermarket Type1</th>\n",
       "      <th>Outlet_Type_Supermarket Type2</th>\n",
       "      <th>Outlet_Type_Supermarket Type3</th>\n",
       "    </tr>\n",
       "  </thead>\n",
       "  <tbody>\n",
       "    <tr>\n",
       "      <th>7503</th>\n",
       "      <td>14.30</td>\n",
       "      <td>0.026300</td>\n",
       "      <td>79.4302</td>\n",
       "      <td>1987.0</td>\n",
       "      <td>0.0</td>\n",
       "      <td>0.0</td>\n",
       "      <td>0.0</td>\n",
       "      <td>0.0</td>\n",
       "      <td>0.0</td>\n",
       "      <td>1.0</td>\n",
       "      <td>...</td>\n",
       "      <td>0.0</td>\n",
       "      <td>0.0</td>\n",
       "      <td>0.0</td>\n",
       "      <td>0.0</td>\n",
       "      <td>0.0</td>\n",
       "      <td>0.0</td>\n",
       "      <td>1.0</td>\n",
       "      <td>1.0</td>\n",
       "      <td>0.0</td>\n",
       "      <td>0.0</td>\n",
       "    </tr>\n",
       "    <tr>\n",
       "      <th>2957</th>\n",
       "      <td>7.93</td>\n",
       "      <td>0.071136</td>\n",
       "      <td>42.7086</td>\n",
       "      <td>1997.0</td>\n",
       "      <td>0.0</td>\n",
       "      <td>0.0</td>\n",
       "      <td>0.0</td>\n",
       "      <td>0.0</td>\n",
       "      <td>0.0</td>\n",
       "      <td>0.0</td>\n",
       "      <td>...</td>\n",
       "      <td>1.0</td>\n",
       "      <td>0.0</td>\n",
       "      <td>0.0</td>\n",
       "      <td>0.0</td>\n",
       "      <td>1.0</td>\n",
       "      <td>0.0</td>\n",
       "      <td>0.0</td>\n",
       "      <td>1.0</td>\n",
       "      <td>0.0</td>\n",
       "      <td>0.0</td>\n",
       "    </tr>\n",
       "    <tr>\n",
       "      <th>7031</th>\n",
       "      <td>14.50</td>\n",
       "      <td>0.041313</td>\n",
       "      <td>42.0454</td>\n",
       "      <td>1999.0</td>\n",
       "      <td>1.0</td>\n",
       "      <td>0.0</td>\n",
       "      <td>0.0</td>\n",
       "      <td>1.0</td>\n",
       "      <td>0.0</td>\n",
       "      <td>0.0</td>\n",
       "      <td>...</td>\n",
       "      <td>0.0</td>\n",
       "      <td>1.0</td>\n",
       "      <td>0.0</td>\n",
       "      <td>1.0</td>\n",
       "      <td>0.0</td>\n",
       "      <td>0.0</td>\n",
       "      <td>0.0</td>\n",
       "      <td>1.0</td>\n",
       "      <td>0.0</td>\n",
       "      <td>0.0</td>\n",
       "    </tr>\n",
       "  </tbody>\n",
       "</table>\n",
       "<p>3 rows × 37 columns</p>\n",
       "</div>"
      ],
      "text/plain": [
       "      Item_Weight  Item_Visibility  Item_MRP  Outlet_Establishment_Year  \\\n",
       "7503        14.30         0.026300   79.4302                     1987.0   \n",
       "2957         7.93         0.071136   42.7086                     1997.0   \n",
       "7031        14.50         0.041313   42.0454                     1999.0   \n",
       "\n",
       "      Item_Fat_Content_Regular  Item_Type_Breads  Item_Type_Breakfast  \\\n",
       "7503                       0.0               0.0                  0.0   \n",
       "2957                       0.0               0.0                  0.0   \n",
       "7031                       1.0               0.0                  0.0   \n",
       "\n",
       "      Item_Type_Canned  Item_Type_Dairy  Item_Type_Frozen Foods  ...  \\\n",
       "7503               0.0              0.0                     1.0  ...   \n",
       "2957               0.0              0.0                     0.0  ...   \n",
       "7031               1.0              0.0                     0.0  ...   \n",
       "\n",
       "      Outlet_Identifier_OUT046  Outlet_Identifier_OUT049  Outlet_Size_MISSING  \\\n",
       "7503                       0.0                       0.0                  0.0   \n",
       "2957                       1.0                       0.0                  0.0   \n",
       "7031                       0.0                       1.0                  0.0   \n",
       "\n",
       "      Outlet_Size_Medium  Outlet_Size_Small  Outlet_Location_Type_Tier 2  \\\n",
       "7503                 0.0                0.0                          0.0   \n",
       "2957                 0.0                1.0                          0.0   \n",
       "7031                 1.0                0.0                          0.0   \n",
       "\n",
       "      Outlet_Location_Type_Tier 3  Outlet_Type_Supermarket Type1  \\\n",
       "7503                          1.0                            1.0   \n",
       "2957                          0.0                            1.0   \n",
       "7031                          0.0                            1.0   \n",
       "\n",
       "      Outlet_Type_Supermarket Type2  Outlet_Type_Supermarket Type3  \n",
       "7503                            0.0                            0.0  \n",
       "2957                            0.0                            0.0  \n",
       "7031                            0.0                            0.0  \n",
       "\n",
       "[3 rows x 37 columns]"
      ]
     },
     "execution_count": 49,
     "metadata": {},
     "output_type": "execute_result"
    }
   ],
   "source": [
    "X_test_df=pd.DataFrame(preprocessor.transform(X_test),\n",
    "                      columns=feature_names,index=X_test.index)\n",
    "X_test_df.head(3)"
   ]
  },
  {
   "cell_type": "code",
   "execution_count": 50,
   "id": "ce222744",
   "metadata": {
    "scrolled": true
   },
   "outputs": [
    {
     "data": {
      "text/plain": [
       "7503    1743.0644\n",
       "2957     356.8688\n",
       "7031     377.5086\n",
       "Name: Item_Outlet_Sales, dtype: float64"
      ]
     },
     "execution_count": 50,
     "metadata": {},
     "output_type": "execute_result"
    }
   ],
   "source": [
    "y_test.head(3)"
   ]
  },
  {
   "cell_type": "markdown",
   "id": "974daedd",
   "metadata": {},
   "source": [
    "# Linear Regression"
   ]
  },
  {
   "cell_type": "code",
   "execution_count": 51,
   "id": "e6179a84",
   "metadata": {},
   "outputs": [
    {
     "name": "stdout",
     "output_type": "stream",
     "text": [
      "Training Data:\tR^2= 0.56\tRMSE= 1139.10\n",
      "Test Data:\tR^2= 0.57\tRMSE= 1092.86\n"
     ]
    }
   ],
   "source": [
    "linreg=LinearRegression()\n",
    "linreg.fit(X_train_df,y_train)\n",
    "evaluate_regression(linreg,X_train_df,y_train,X_test_df,y_test)"
   ]
  },
  {
   "cell_type": "code",
   "execution_count": 52,
   "id": "66c3425d",
   "metadata": {
    "scrolled": true
   },
   "outputs": [
    {
     "data": {
      "text/plain": [
       "array([  -1.94181707, -423.39017971,   15.72092418,  -10.74046984,\n",
       "         62.6252336 ,  -28.64831812,   45.36106369,   27.51619423,\n",
       "       -106.33501436,   -1.7706262 ,   45.7540295 ,   13.89489912,\n",
       "         27.02541373,    5.50974637,  -11.86488664,  -26.81372575,\n",
       "        327.50113616,  -21.93239257,  -39.48573523,   42.08886467,\n",
       "        232.81837736,  436.84498243,  182.12508475, -642.01571839,\n",
       "        907.23913042,  -16.00005806,  241.59423372,  424.25963679,\n",
       "       -382.93168631, -705.49476657,  706.43252886, -233.75613966,\n",
       "        662.43915809,  -61.75139018,  936.58548593,  182.12508475,\n",
       "        907.23913042])"
      ]
     },
     "execution_count": 52,
     "metadata": {},
     "output_type": "execute_result"
    }
   ],
   "source": [
    "linreg.coef_"
   ]
  },
  {
   "cell_type": "code",
   "execution_count": 53,
   "id": "59b16711",
   "metadata": {},
   "outputs": [
    {
     "name": "stdout",
     "output_type": "stream",
     "text": [
      "37\n"
     ]
    },
    {
     "data": {
      "text/plain": [
       "37"
      ]
     },
     "execution_count": 53,
     "metadata": {},
     "output_type": "execute_result"
    }
   ],
   "source": [
    "print(len(linreg.coef_))\n",
    "len(feature_names)"
   ]
  },
  {
   "cell_type": "code",
   "execution_count": 54,
   "id": "6d444a13",
   "metadata": {
    "scrolled": true
   },
   "outputs": [
    {
     "data": {
      "text/plain": [
       "Item_Weight                         -1.941817\n",
       "Item_Visibility                   -423.390180\n",
       "Item_MRP                            15.720924\n",
       "Outlet_Establishment_Year          -10.740470\n",
       "Item_Fat_Content_Regular            62.625234\n",
       "Item_Type_Breads                   -28.648318\n",
       "Item_Type_Breakfast                 45.361064\n",
       "Item_Type_Canned                    27.516194\n",
       "Item_Type_Dairy                   -106.335014\n",
       "Item_Type_Frozen Foods              -1.770626\n",
       "Item_Type_Fruits and Vegetables     45.754029\n",
       "Item_Type_Hard Drinks               13.894899\n",
       "Item_Type_Health and Hygiene        27.025414\n",
       "Item_Type_Household                  5.509746\n",
       "Item_Type_Meat                     -11.864887\n",
       "Item_Type_Others                   -26.813726\n",
       "Item_Type_Seafood                  327.501136\n",
       "Item_Type_Snack Foods              -21.932393\n",
       "Item_Type_Soft Drinks              -39.485735\n",
       "Item_Type_Starchy Foods             42.088865\n",
       "Outlet_Identifier_OUT013           232.818377\n",
       "Outlet_Identifier_OUT017           436.844982\n",
       "Outlet_Identifier_OUT018           182.125085\n",
       "Outlet_Identifier_OUT019          -642.015718\n",
       "Outlet_Identifier_OUT027           907.239130\n",
       "Outlet_Identifier_OUT035           -16.000058\n",
       "Outlet_Identifier_OUT045           241.594234\n",
       "Outlet_Identifier_OUT046           424.259637\n",
       "Outlet_Identifier_OUT049          -382.931686\n",
       "Outlet_Size_MISSING               -705.494767\n",
       "Outlet_Size_Medium                 706.432529\n",
       "Outlet_Size_Small                 -233.756140\n",
       "Outlet_Location_Type_Tier 2        662.439158\n",
       "Outlet_Location_Type_Tier 3        -61.751390\n",
       "Outlet_Type_Supermarket Type1      936.585486\n",
       "Outlet_Type_Supermarket Type2      182.125085\n",
       "Outlet_Type_Supermarket Type3      907.239130\n",
       "dtype: float64"
      ]
     },
     "execution_count": 54,
     "metadata": {},
     "output_type": "execute_result"
    }
   ],
   "source": [
    "coeffs=pd.Series(linreg.coef_,index=feature_names)\n",
    "coeffs"
   ]
  },
  {
   "cell_type": "code",
   "execution_count": 55,
   "id": "ab82484f",
   "metadata": {},
   "outputs": [
    {
     "data": {
      "text/plain": [
       "Item_Weight                           -1.941817\n",
       "Item_Visibility                     -423.390180\n",
       "Item_MRP                              15.720924\n",
       "Outlet_Establishment_Year            -10.740470\n",
       "Item_Fat_Content_Regular              62.625234\n",
       "Item_Type_Breads                     -28.648318\n",
       "Item_Type_Breakfast                   45.361064\n",
       "Item_Type_Canned                      27.516194\n",
       "Item_Type_Dairy                     -106.335014\n",
       "Item_Type_Frozen Foods                -1.770626\n",
       "Item_Type_Fruits and Vegetables       45.754029\n",
       "Item_Type_Hard Drinks                 13.894899\n",
       "Item_Type_Health and Hygiene          27.025414\n",
       "Item_Type_Household                    5.509746\n",
       "Item_Type_Meat                       -11.864887\n",
       "Item_Type_Others                     -26.813726\n",
       "Item_Type_Seafood                    327.501136\n",
       "Item_Type_Snack Foods                -21.932393\n",
       "Item_Type_Soft Drinks                -39.485735\n",
       "Item_Type_Starchy Foods               42.088865\n",
       "Outlet_Identifier_OUT013             232.818377\n",
       "Outlet_Identifier_OUT017             436.844982\n",
       "Outlet_Identifier_OUT018             182.125085\n",
       "Outlet_Identifier_OUT019            -642.015718\n",
       "Outlet_Identifier_OUT027             907.239130\n",
       "Outlet_Identifier_OUT035             -16.000058\n",
       "Outlet_Identifier_OUT045             241.594234\n",
       "Outlet_Identifier_OUT046             424.259637\n",
       "Outlet_Identifier_OUT049            -382.931686\n",
       "Outlet_Size_MISSING                 -705.494767\n",
       "Outlet_Size_Medium                   706.432529\n",
       "Outlet_Size_Small                   -233.756140\n",
       "Outlet_Location_Type_Tier 2          662.439158\n",
       "Outlet_Location_Type_Tier 3          -61.751390\n",
       "Outlet_Type_Supermarket Type1        936.585486\n",
       "Outlet_Type_Supermarket Type2        182.125085\n",
       "Outlet_Type_Supermarket Type3        907.239130\n",
       "intercept                          20386.177734\n",
       "dtype: float64"
      ]
     },
     "execution_count": 55,
     "metadata": {},
     "output_type": "execute_result"
    }
   ],
   "source": [
    "coeffs.loc['intercept']=linreg.intercept_\n",
    "coeffs"
   ]
  },
  {
   "cell_type": "code",
   "execution_count": 56,
   "id": "13277a8d",
   "metadata": {},
   "outputs": [
    {
     "data": {
      "text/plain": [
       "Item_Weight                           -1.94\n",
       "Item_Visibility                     -423.39\n",
       "Item_MRP                              15.72\n",
       "Outlet_Establishment_Year            -10.74\n",
       "Item_Fat_Content_Regular              62.63\n",
       "Item_Type_Breads                     -28.65\n",
       "Item_Type_Breakfast                   45.36\n",
       "Item_Type_Canned                      27.52\n",
       "Item_Type_Dairy                     -106.34\n",
       "Item_Type_Frozen Foods                -1.77\n",
       "Item_Type_Fruits and Vegetables       45.75\n",
       "Item_Type_Hard Drinks                 13.89\n",
       "Item_Type_Health and Hygiene          27.03\n",
       "Item_Type_Household                    5.51\n",
       "Item_Type_Meat                       -11.86\n",
       "Item_Type_Others                     -26.81\n",
       "Item_Type_Seafood                    327.50\n",
       "Item_Type_Snack Foods                -21.93\n",
       "Item_Type_Soft Drinks                -39.49\n",
       "Item_Type_Starchy Foods               42.09\n",
       "Outlet_Identifier_OUT013             232.82\n",
       "Outlet_Identifier_OUT017             436.84\n",
       "Outlet_Identifier_OUT018             182.13\n",
       "Outlet_Identifier_OUT019            -642.02\n",
       "Outlet_Identifier_OUT027             907.24\n",
       "Outlet_Identifier_OUT035             -16.00\n",
       "Outlet_Identifier_OUT045             241.59\n",
       "Outlet_Identifier_OUT046             424.26\n",
       "Outlet_Identifier_OUT049            -382.93\n",
       "Outlet_Size_MISSING                 -705.49\n",
       "Outlet_Size_Medium                   706.43\n",
       "Outlet_Size_Small                   -233.76\n",
       "Outlet_Location_Type_Tier 2          662.44\n",
       "Outlet_Location_Type_Tier 3          -61.75\n",
       "Outlet_Type_Supermarket Type1        936.59\n",
       "Outlet_Type_Supermarket Type2        182.13\n",
       "Outlet_Type_Supermarket Type3        907.24\n",
       "intercept                         20,386.18\n",
       "dtype: float64"
      ]
     },
     "execution_count": 56,
     "metadata": {},
     "output_type": "execute_result"
    }
   ],
   "source": [
    "pd.set_option('display.float_format', lambda x: f\"{x:,.2f}\")\n",
    "coeffs"
   ]
  },
  {
   "cell_type": "code",
   "execution_count": 57,
   "id": "a0dae0c7",
   "metadata": {
    "scrolled": true
   },
   "outputs": [
    {
     "data": {
      "text/plain": [
       "Item_Identifier         1559\n",
       "Item_Fat_Content           2\n",
       "Item_Type                 16\n",
       "Outlet_Identifier         10\n",
       "Outlet_Size                3\n",
       "Outlet_Location_Type       3\n",
       "Outlet_Type                4\n",
       "dtype: int64"
      ]
     },
     "execution_count": 57,
     "metadata": {},
     "output_type": "execute_result"
    }
   ],
   "source": [
    "df.select_dtypes('object').nunique()"
   ]
  },
  {
   "cell_type": "code",
   "execution_count": 58,
   "id": "fca3acef",
   "metadata": {},
   "outputs": [
    {
     "data": {
      "text/plain": [
       "['Item_Fat_Content',\n",
       " 'Item_Type',\n",
       " 'Outlet_Identifier',\n",
       " 'Outlet_Size',\n",
       " 'Outlet_Location_Type',\n",
       " 'Outlet_Type']"
      ]
     },
     "execution_count": 58,
     "metadata": {},
     "output_type": "execute_result"
    }
   ],
   "source": [
    "cat_sel(X)"
   ]
  },
  {
   "cell_type": "code",
   "execution_count": 59,
   "id": "7692ebb4",
   "metadata": {
    "scrolled": true
   },
   "outputs": [
    {
     "name": "stdout",
     "output_type": "stream",
     "text": [
      "For Item_Fat_Content:\n",
      "['Low Fat' 'Regular']\n",
      "\n",
      "For Item_Type:\n",
      "['Dairy' 'Soft Drinks' 'Meat' 'Fruits and Vegetables' 'Household'\n",
      " 'Baking Goods' 'Snack Foods' 'Frozen Foods' 'Breakfast'\n",
      " 'Health and Hygiene' 'Hard Drinks' 'Canned' 'Breads' 'Starchy Foods'\n",
      " 'Others' 'Seafood']\n",
      "\n",
      "For Outlet_Identifier:\n",
      "['OUT049' 'OUT018' 'OUT010' 'OUT013' 'OUT027' 'OUT045' 'OUT017' 'OUT046'\n",
      " 'OUT035' 'OUT019']\n",
      "\n",
      "For Outlet_Size:\n",
      "['Medium' nan 'Large' 'Small']\n",
      "\n",
      "For Outlet_Location_Type:\n",
      "['Tier 1' 'Tier 3' 'Tier 2']\n",
      "\n",
      "For Outlet_Type:\n",
      "['Supermarket Type1' 'Supermarket Type2' 'Grocery Store'\n",
      " 'Supermarket Type3']\n",
      "\n"
     ]
    }
   ],
   "source": [
    "for col in cat_sel(X):\n",
    "    print(f\"For {col}:\\n{X[col].unique()}\\n\")"
   ]
  },
  {
   "cell_type": "code",
   "execution_count": 60,
   "id": "04bc8c46",
   "metadata": {},
   "outputs": [
    {
     "data": {
      "text/plain": [
       "OUT027    935\n",
       "OUT013    932\n",
       "OUT049    930\n",
       "OUT046    930\n",
       "OUT035    930\n",
       "OUT045    929\n",
       "OUT018    928\n",
       "OUT017    926\n",
       "OUT010    555\n",
       "OUT019    528\n",
       "Name: Outlet_Identifier, dtype: int64"
      ]
     },
     "execution_count": 60,
     "metadata": {},
     "output_type": "execute_result"
    }
   ],
   "source": [
    "df['Outlet_Identifier'].value_counts()"
   ]
  },
  {
   "cell_type": "code",
   "execution_count": 61,
   "id": "1cce1c4d",
   "metadata": {},
   "outputs": [
    {
     "data": {
      "text/plain": [
       "Tier 3    3350\n",
       "Tier 2    2785\n",
       "Tier 1    2388\n",
       "Name: Outlet_Location_Type, dtype: int64"
      ]
     },
     "execution_count": 61,
     "metadata": {},
     "output_type": "execute_result"
    }
   ],
   "source": [
    "df['Outlet_Location_Type'].value_counts()"
   ]
  },
  {
   "cell_type": "code",
   "execution_count": 62,
   "id": "62478939",
   "metadata": {},
   "outputs": [
    {
     "data": {
      "text/plain": [
       "Supermarket Type1    5577\n",
       "Grocery Store        1083\n",
       "Supermarket Type3     935\n",
       "Supermarket Type2     928\n",
       "Name: Outlet_Type, dtype: int64"
      ]
     },
     "execution_count": 62,
     "metadata": {},
     "output_type": "execute_result"
    }
   ],
   "source": [
    "df['Outlet_Type'].value_counts()"
   ]
  },
  {
   "cell_type": "code",
   "execution_count": 63,
   "id": "91cbd3aa",
   "metadata": {},
   "outputs": [],
   "source": [
    "drop_cat=['Low Fat','Others', 'OUT019', 'MISSING', 'Tier 1', 'Supermarket Type2']"
   ]
  },
  {
   "cell_type": "code",
   "execution_count": 64,
   "id": "6316ca05",
   "metadata": {},
   "outputs": [],
   "source": [
    "cat_pipe=make_pipeline(SimpleImputer(strategy='constant',fill_value='MISSING'),\n",
    "                      OneHotEncoder(drop=drop_cat, sparse=False))\n",
    "num_pipe=make_pipeline(SimpleImputer(strategy='mean'))"
   ]
  },
  {
   "cell_type": "code",
   "execution_count": 65,
   "id": "071f999f",
   "metadata": {},
   "outputs": [
    {
     "data": {
      "text/html": [
       "<style>#sk-container-id-2 {color: black;background-color: white;}#sk-container-id-2 pre{padding: 0;}#sk-container-id-2 div.sk-toggleable {background-color: white;}#sk-container-id-2 label.sk-toggleable__label {cursor: pointer;display: block;width: 100%;margin-bottom: 0;padding: 0.3em;box-sizing: border-box;text-align: center;}#sk-container-id-2 label.sk-toggleable__label-arrow:before {content: \"▸\";float: left;margin-right: 0.25em;color: #696969;}#sk-container-id-2 label.sk-toggleable__label-arrow:hover:before {color: black;}#sk-container-id-2 div.sk-estimator:hover label.sk-toggleable__label-arrow:before {color: black;}#sk-container-id-2 div.sk-toggleable__content {max-height: 0;max-width: 0;overflow: hidden;text-align: left;background-color: #f0f8ff;}#sk-container-id-2 div.sk-toggleable__content pre {margin: 0.2em;color: black;border-radius: 0.25em;background-color: #f0f8ff;}#sk-container-id-2 input.sk-toggleable__control:checked~div.sk-toggleable__content {max-height: 200px;max-width: 100%;overflow: auto;}#sk-container-id-2 input.sk-toggleable__control:checked~label.sk-toggleable__label-arrow:before {content: \"▾\";}#sk-container-id-2 div.sk-estimator input.sk-toggleable__control:checked~label.sk-toggleable__label {background-color: #d4ebff;}#sk-container-id-2 div.sk-label input.sk-toggleable__control:checked~label.sk-toggleable__label {background-color: #d4ebff;}#sk-container-id-2 input.sk-hidden--visually {border: 0;clip: rect(1px 1px 1px 1px);clip: rect(1px, 1px, 1px, 1px);height: 1px;margin: -1px;overflow: hidden;padding: 0;position: absolute;width: 1px;}#sk-container-id-2 div.sk-estimator {font-family: monospace;background-color: #f0f8ff;border: 1px dotted black;border-radius: 0.25em;box-sizing: border-box;margin-bottom: 0.5em;}#sk-container-id-2 div.sk-estimator:hover {background-color: #d4ebff;}#sk-container-id-2 div.sk-parallel-item::after {content: \"\";width: 100%;border-bottom: 1px solid gray;flex-grow: 1;}#sk-container-id-2 div.sk-label:hover label.sk-toggleable__label {background-color: #d4ebff;}#sk-container-id-2 div.sk-serial::before {content: \"\";position: absolute;border-left: 1px solid gray;box-sizing: border-box;top: 0;bottom: 0;left: 50%;z-index: 0;}#sk-container-id-2 div.sk-serial {display: flex;flex-direction: column;align-items: center;background-color: white;padding-right: 0.2em;padding-left: 0.2em;position: relative;}#sk-container-id-2 div.sk-item {position: relative;z-index: 1;}#sk-container-id-2 div.sk-parallel {display: flex;align-items: stretch;justify-content: center;background-color: white;position: relative;}#sk-container-id-2 div.sk-item::before, #sk-container-id-2 div.sk-parallel-item::before {content: \"\";position: absolute;border-left: 1px solid gray;box-sizing: border-box;top: 0;bottom: 0;left: 50%;z-index: -1;}#sk-container-id-2 div.sk-parallel-item {display: flex;flex-direction: column;z-index: 1;position: relative;background-color: white;}#sk-container-id-2 div.sk-parallel-item:first-child::after {align-self: flex-end;width: 50%;}#sk-container-id-2 div.sk-parallel-item:last-child::after {align-self: flex-start;width: 50%;}#sk-container-id-2 div.sk-parallel-item:only-child::after {width: 0;}#sk-container-id-2 div.sk-dashed-wrapped {border: 1px dashed gray;margin: 0 0.4em 0.5em 0.4em;box-sizing: border-box;padding-bottom: 0.4em;background-color: white;}#sk-container-id-2 div.sk-label label {font-family: monospace;font-weight: bold;display: inline-block;line-height: 1.2em;}#sk-container-id-2 div.sk-label-container {text-align: center;}#sk-container-id-2 div.sk-container {/* jupyter's `normalize.less` sets `[hidden] { display: none; }` but bootstrap.min.css set `[hidden] { display: none !important; }` so we also need the `!important` here to be able to override the default hidden behavior on the sphinx rendered scikit-learn.org. See: https://github.com/scikit-learn/scikit-learn/issues/21755 */display: inline-block !important;position: relative;}#sk-container-id-2 div.sk-text-repr-fallback {display: none;}</style><div id=\"sk-container-id-2\" class=\"sk-top-container\"><div class=\"sk-text-repr-fallback\"><pre>ColumnTransformer(transformers=[(&#x27;pipeline-1&#x27;,\n",
       "                                 Pipeline(steps=[(&#x27;simpleimputer&#x27;,\n",
       "                                                  SimpleImputer())]),\n",
       "                                 &lt;sklearn.compose._column_transformer.make_column_selector object at 0x0000023AFCC67580&gt;),\n",
       "                                (&#x27;pipeline-2&#x27;,\n",
       "                                 Pipeline(steps=[(&#x27;simpleimputer&#x27;,\n",
       "                                                  SimpleImputer(fill_value=&#x27;MISSING&#x27;,\n",
       "                                                                strategy=&#x27;constant&#x27;)),\n",
       "                                                 (&#x27;onehotencoder&#x27;,\n",
       "                                                  OneHotEncoder(drop=[&#x27;Low Fat&#x27;,\n",
       "                                                                      &#x27;Others&#x27;,\n",
       "                                                                      &#x27;OUT019&#x27;,\n",
       "                                                                      &#x27;MISSING&#x27;,\n",
       "                                                                      &#x27;Tier 1&#x27;,\n",
       "                                                                      &#x27;Supermarket &#x27;\n",
       "                                                                      &#x27;Type2&#x27;],\n",
       "                                                                sparse=False))]),\n",
       "                                 &lt;sklearn.compose._column_transformer.make_column_selector object at 0x0000023AFCC67430&gt;)],\n",
       "                  verbose_feature_names_out=False)</pre><b>In a Jupyter environment, please rerun this cell to show the HTML representation or trust the notebook. <br />On GitHub, the HTML representation is unable to render, please try loading this page with nbviewer.org.</b></div><div class=\"sk-container\" hidden><div class=\"sk-item sk-dashed-wrapped\"><div class=\"sk-label-container\"><div class=\"sk-label sk-toggleable\"><input class=\"sk-toggleable__control sk-hidden--visually\" id=\"sk-estimator-id-7\" type=\"checkbox\" ><label for=\"sk-estimator-id-7\" class=\"sk-toggleable__label sk-toggleable__label-arrow\">ColumnTransformer</label><div class=\"sk-toggleable__content\"><pre>ColumnTransformer(transformers=[(&#x27;pipeline-1&#x27;,\n",
       "                                 Pipeline(steps=[(&#x27;simpleimputer&#x27;,\n",
       "                                                  SimpleImputer())]),\n",
       "                                 &lt;sklearn.compose._column_transformer.make_column_selector object at 0x0000023AFCC67580&gt;),\n",
       "                                (&#x27;pipeline-2&#x27;,\n",
       "                                 Pipeline(steps=[(&#x27;simpleimputer&#x27;,\n",
       "                                                  SimpleImputer(fill_value=&#x27;MISSING&#x27;,\n",
       "                                                                strategy=&#x27;constant&#x27;)),\n",
       "                                                 (&#x27;onehotencoder&#x27;,\n",
       "                                                  OneHotEncoder(drop=[&#x27;Low Fat&#x27;,\n",
       "                                                                      &#x27;Others&#x27;,\n",
       "                                                                      &#x27;OUT019&#x27;,\n",
       "                                                                      &#x27;MISSING&#x27;,\n",
       "                                                                      &#x27;Tier 1&#x27;,\n",
       "                                                                      &#x27;Supermarket &#x27;\n",
       "                                                                      &#x27;Type2&#x27;],\n",
       "                                                                sparse=False))]),\n",
       "                                 &lt;sklearn.compose._column_transformer.make_column_selector object at 0x0000023AFCC67430&gt;)],\n",
       "                  verbose_feature_names_out=False)</pre></div></div></div><div class=\"sk-parallel\"><div class=\"sk-parallel-item\"><div class=\"sk-item\"><div class=\"sk-label-container\"><div class=\"sk-label sk-toggleable\"><input class=\"sk-toggleable__control sk-hidden--visually\" id=\"sk-estimator-id-8\" type=\"checkbox\" ><label for=\"sk-estimator-id-8\" class=\"sk-toggleable__label sk-toggleable__label-arrow\">pipeline-1</label><div class=\"sk-toggleable__content\"><pre>&lt;sklearn.compose._column_transformer.make_column_selector object at 0x0000023AFCC67580&gt;</pre></div></div></div><div class=\"sk-serial\"><div class=\"sk-item\"><div class=\"sk-serial\"><div class=\"sk-item\"><div class=\"sk-estimator sk-toggleable\"><input class=\"sk-toggleable__control sk-hidden--visually\" id=\"sk-estimator-id-9\" type=\"checkbox\" ><label for=\"sk-estimator-id-9\" class=\"sk-toggleable__label sk-toggleable__label-arrow\">SimpleImputer</label><div class=\"sk-toggleable__content\"><pre>SimpleImputer()</pre></div></div></div></div></div></div></div></div><div class=\"sk-parallel-item\"><div class=\"sk-item\"><div class=\"sk-label-container\"><div class=\"sk-label sk-toggleable\"><input class=\"sk-toggleable__control sk-hidden--visually\" id=\"sk-estimator-id-10\" type=\"checkbox\" ><label for=\"sk-estimator-id-10\" class=\"sk-toggleable__label sk-toggleable__label-arrow\">pipeline-2</label><div class=\"sk-toggleable__content\"><pre>&lt;sklearn.compose._column_transformer.make_column_selector object at 0x0000023AFCC67430&gt;</pre></div></div></div><div class=\"sk-serial\"><div class=\"sk-item\"><div class=\"sk-serial\"><div class=\"sk-item\"><div class=\"sk-estimator sk-toggleable\"><input class=\"sk-toggleable__control sk-hidden--visually\" id=\"sk-estimator-id-11\" type=\"checkbox\" ><label for=\"sk-estimator-id-11\" class=\"sk-toggleable__label sk-toggleable__label-arrow\">SimpleImputer</label><div class=\"sk-toggleable__content\"><pre>SimpleImputer(fill_value=&#x27;MISSING&#x27;, strategy=&#x27;constant&#x27;)</pre></div></div></div><div class=\"sk-item\"><div class=\"sk-estimator sk-toggleable\"><input class=\"sk-toggleable__control sk-hidden--visually\" id=\"sk-estimator-id-12\" type=\"checkbox\" ><label for=\"sk-estimator-id-12\" class=\"sk-toggleable__label sk-toggleable__label-arrow\">OneHotEncoder</label><div class=\"sk-toggleable__content\"><pre>OneHotEncoder(drop=[&#x27;Low Fat&#x27;, &#x27;Others&#x27;, &#x27;OUT019&#x27;, &#x27;MISSING&#x27;, &#x27;Tier 1&#x27;,\n",
       "                    &#x27;Supermarket Type2&#x27;],\n",
       "              sparse=False)</pre></div></div></div></div></div></div></div></div></div></div></div></div>"
      ],
      "text/plain": [
       "ColumnTransformer(transformers=[('pipeline-1',\n",
       "                                 Pipeline(steps=[('simpleimputer',\n",
       "                                                  SimpleImputer())]),\n",
       "                                 <sklearn.compose._column_transformer.make_column_selector object at 0x0000023AFCC67580>),\n",
       "                                ('pipeline-2',\n",
       "                                 Pipeline(steps=[('simpleimputer',\n",
       "                                                  SimpleImputer(fill_value='MISSING',\n",
       "                                                                strategy='constant')),\n",
       "                                                 ('onehotencoder',\n",
       "                                                  OneHotEncoder(drop=['Low Fat',\n",
       "                                                                      'Others',\n",
       "                                                                      'OUT019',\n",
       "                                                                      'MISSING',\n",
       "                                                                      'Tier 1',\n",
       "                                                                      'Supermarket '\n",
       "                                                                      'Type2'],\n",
       "                                                                sparse=False))]),\n",
       "                                 <sklearn.compose._column_transformer.make_column_selector object at 0x0000023AFCC67430>)],\n",
       "                  verbose_feature_names_out=False)"
      ]
     },
     "execution_count": 65,
     "metadata": {},
     "output_type": "execute_result"
    }
   ],
   "source": [
    "preprocessor=make_column_transformer((num_pipe,num_sel),\n",
    "                                    (cat_pipe,cat_sel),\n",
    "                                    verbose_feature_names_out=False)\n",
    "preprocessor"
   ]
  },
  {
   "cell_type": "code",
   "execution_count": 66,
   "id": "629c7703",
   "metadata": {},
   "outputs": [
    {
     "data": {
      "text/plain": [
       "array(['Item_Weight', 'Item_Visibility', 'Item_MRP',\n",
       "       'Outlet_Establishment_Year', 'Item_Fat_Content_Regular',\n",
       "       'Item_Type_Baking Goods', 'Item_Type_Breads',\n",
       "       'Item_Type_Breakfast', 'Item_Type_Canned', 'Item_Type_Dairy',\n",
       "       'Item_Type_Frozen Foods', 'Item_Type_Fruits and Vegetables',\n",
       "       'Item_Type_Hard Drinks', 'Item_Type_Health and Hygiene',\n",
       "       'Item_Type_Household', 'Item_Type_Meat', 'Item_Type_Seafood',\n",
       "       'Item_Type_Snack Foods', 'Item_Type_Soft Drinks',\n",
       "       'Item_Type_Starchy Foods', 'Outlet_Identifier_OUT010',\n",
       "       'Outlet_Identifier_OUT013', 'Outlet_Identifier_OUT017',\n",
       "       'Outlet_Identifier_OUT018', 'Outlet_Identifier_OUT027',\n",
       "       'Outlet_Identifier_OUT035', 'Outlet_Identifier_OUT045',\n",
       "       'Outlet_Identifier_OUT046', 'Outlet_Identifier_OUT049',\n",
       "       'Outlet_Size_Large', 'Outlet_Size_Medium', 'Outlet_Size_Small',\n",
       "       'Outlet_Location_Type_Tier 2', 'Outlet_Location_Type_Tier 3',\n",
       "       'Outlet_Type_Grocery Store', 'Outlet_Type_Supermarket Type1',\n",
       "       'Outlet_Type_Supermarket Type3'], dtype=object)"
      ]
     },
     "execution_count": 66,
     "metadata": {},
     "output_type": "execute_result"
    }
   ],
   "source": [
    "preprocessor.fit(X_train)\n",
    "feature_names=preprocessor.get_feature_names_out()\n",
    "feature_names"
   ]
  },
  {
   "cell_type": "code",
   "execution_count": 67,
   "id": "a90b910e",
   "metadata": {},
   "outputs": [
    {
     "data": {
      "text/html": [
       "<div>\n",
       "<style scoped>\n",
       "    .dataframe tbody tr th:only-of-type {\n",
       "        vertical-align: middle;\n",
       "    }\n",
       "\n",
       "    .dataframe tbody tr th {\n",
       "        vertical-align: top;\n",
       "    }\n",
       "\n",
       "    .dataframe thead th {\n",
       "        text-align: right;\n",
       "    }\n",
       "</style>\n",
       "<table border=\"1\" class=\"dataframe\">\n",
       "  <thead>\n",
       "    <tr style=\"text-align: right;\">\n",
       "      <th></th>\n",
       "      <th>Item_Weight</th>\n",
       "      <th>Item_Visibility</th>\n",
       "      <th>Item_MRP</th>\n",
       "      <th>Outlet_Establishment_Year</th>\n",
       "      <th>Item_Fat_Content_Regular</th>\n",
       "      <th>Item_Type_Breads</th>\n",
       "      <th>Item_Type_Breakfast</th>\n",
       "      <th>Item_Type_Canned</th>\n",
       "      <th>Item_Type_Dairy</th>\n",
       "      <th>Item_Type_Frozen Foods</th>\n",
       "      <th>...</th>\n",
       "      <th>Outlet_Identifier_OUT046</th>\n",
       "      <th>Outlet_Identifier_OUT049</th>\n",
       "      <th>Outlet_Size_MISSING</th>\n",
       "      <th>Outlet_Size_Medium</th>\n",
       "      <th>Outlet_Size_Small</th>\n",
       "      <th>Outlet_Location_Type_Tier 2</th>\n",
       "      <th>Outlet_Location_Type_Tier 3</th>\n",
       "      <th>Outlet_Type_Supermarket Type1</th>\n",
       "      <th>Outlet_Type_Supermarket Type2</th>\n",
       "      <th>Outlet_Type_Supermarket Type3</th>\n",
       "    </tr>\n",
       "  </thead>\n",
       "  <tbody>\n",
       "    <tr>\n",
       "      <th>4776</th>\n",
       "      <td>16.35</td>\n",
       "      <td>0.03</td>\n",
       "      <td>256.46</td>\n",
       "      <td>2,009.00</td>\n",
       "      <td>0.00</td>\n",
       "      <td>0.00</td>\n",
       "      <td>0.00</td>\n",
       "      <td>0.00</td>\n",
       "      <td>0.00</td>\n",
       "      <td>0.00</td>\n",
       "      <td>...</td>\n",
       "      <td>0.00</td>\n",
       "      <td>0.00</td>\n",
       "      <td>0.00</td>\n",
       "      <td>1.00</td>\n",
       "      <td>0.00</td>\n",
       "      <td>0.00</td>\n",
       "      <td>1.00</td>\n",
       "      <td>0.00</td>\n",
       "      <td>1.00</td>\n",
       "      <td>0.00</td>\n",
       "    </tr>\n",
       "    <tr>\n",
       "      <th>7510</th>\n",
       "      <td>15.25</td>\n",
       "      <td>0.00</td>\n",
       "      <td>179.77</td>\n",
       "      <td>2,009.00</td>\n",
       "      <td>1.00</td>\n",
       "      <td>0.00</td>\n",
       "      <td>0.00</td>\n",
       "      <td>0.00</td>\n",
       "      <td>0.00</td>\n",
       "      <td>0.00</td>\n",
       "      <td>...</td>\n",
       "      <td>0.00</td>\n",
       "      <td>0.00</td>\n",
       "      <td>0.00</td>\n",
       "      <td>1.00</td>\n",
       "      <td>0.00</td>\n",
       "      <td>0.00</td>\n",
       "      <td>1.00</td>\n",
       "      <td>0.00</td>\n",
       "      <td>1.00</td>\n",
       "      <td>0.00</td>\n",
       "    </tr>\n",
       "    <tr>\n",
       "      <th>5828</th>\n",
       "      <td>12.35</td>\n",
       "      <td>0.16</td>\n",
       "      <td>157.29</td>\n",
       "      <td>1,999.00</td>\n",
       "      <td>1.00</td>\n",
       "      <td>0.00</td>\n",
       "      <td>0.00</td>\n",
       "      <td>0.00</td>\n",
       "      <td>0.00</td>\n",
       "      <td>0.00</td>\n",
       "      <td>...</td>\n",
       "      <td>0.00</td>\n",
       "      <td>1.00</td>\n",
       "      <td>0.00</td>\n",
       "      <td>1.00</td>\n",
       "      <td>0.00</td>\n",
       "      <td>0.00</td>\n",
       "      <td>0.00</td>\n",
       "      <td>1.00</td>\n",
       "      <td>0.00</td>\n",
       "      <td>0.00</td>\n",
       "    </tr>\n",
       "  </tbody>\n",
       "</table>\n",
       "<p>3 rows × 37 columns</p>\n",
       "</div>"
      ],
      "text/plain": [
       "      Item_Weight  Item_Visibility  Item_MRP  Outlet_Establishment_Year  \\\n",
       "4776        16.35             0.03    256.46                   2,009.00   \n",
       "7510        15.25             0.00    179.77                   2,009.00   \n",
       "5828        12.35             0.16    157.29                   1,999.00   \n",
       "\n",
       "      Item_Fat_Content_Regular  Item_Type_Breads  Item_Type_Breakfast  \\\n",
       "4776                      0.00              0.00                 0.00   \n",
       "7510                      1.00              0.00                 0.00   \n",
       "5828                      1.00              0.00                 0.00   \n",
       "\n",
       "      Item_Type_Canned  Item_Type_Dairy  Item_Type_Frozen Foods  ...  \\\n",
       "4776              0.00             0.00                    0.00  ...   \n",
       "7510              0.00             0.00                    0.00  ...   \n",
       "5828              0.00             0.00                    0.00  ...   \n",
       "\n",
       "      Outlet_Identifier_OUT046  Outlet_Identifier_OUT049  Outlet_Size_MISSING  \\\n",
       "4776                      0.00                      0.00                 0.00   \n",
       "7510                      0.00                      0.00                 0.00   \n",
       "5828                      0.00                      1.00                 0.00   \n",
       "\n",
       "      Outlet_Size_Medium  Outlet_Size_Small  Outlet_Location_Type_Tier 2  \\\n",
       "4776                1.00               0.00                         0.00   \n",
       "7510                1.00               0.00                         0.00   \n",
       "5828                1.00               0.00                         0.00   \n",
       "\n",
       "      Outlet_Location_Type_Tier 3  Outlet_Type_Supermarket Type1  \\\n",
       "4776                         1.00                           0.00   \n",
       "7510                         1.00                           0.00   \n",
       "5828                         0.00                           1.00   \n",
       "\n",
       "      Outlet_Type_Supermarket Type2  Outlet_Type_Supermarket Type3  \n",
       "4776                           1.00                           0.00  \n",
       "7510                           1.00                           0.00  \n",
       "5828                           0.00                           0.00  \n",
       "\n",
       "[3 rows x 37 columns]"
      ]
     },
     "execution_count": 67,
     "metadata": {},
     "output_type": "execute_result"
    }
   ],
   "source": [
    "X_train_df2=pd.DataFrame(preprocessor.transform(X_train),\n",
    "                       columns=feature_names,index=X_train.index)\n",
    "X_train_df.head(3)"
   ]
  },
  {
   "cell_type": "code",
   "execution_count": 68,
   "id": "bd7fd0d1",
   "metadata": {
    "scrolled": false
   },
   "outputs": [
    {
     "data": {
      "text/html": [
       "<div>\n",
       "<style scoped>\n",
       "    .dataframe tbody tr th:only-of-type {\n",
       "        vertical-align: middle;\n",
       "    }\n",
       "\n",
       "    .dataframe tbody tr th {\n",
       "        vertical-align: top;\n",
       "    }\n",
       "\n",
       "    .dataframe thead th {\n",
       "        text-align: right;\n",
       "    }\n",
       "</style>\n",
       "<table border=\"1\" class=\"dataframe\">\n",
       "  <thead>\n",
       "    <tr style=\"text-align: right;\">\n",
       "      <th></th>\n",
       "      <th>Item_Weight</th>\n",
       "      <th>Item_Visibility</th>\n",
       "      <th>Item_MRP</th>\n",
       "      <th>Outlet_Establishment_Year</th>\n",
       "      <th>Item_Fat_Content_Regular</th>\n",
       "      <th>Item_Type_Breads</th>\n",
       "      <th>Item_Type_Breakfast</th>\n",
       "      <th>Item_Type_Canned</th>\n",
       "      <th>Item_Type_Dairy</th>\n",
       "      <th>Item_Type_Frozen Foods</th>\n",
       "      <th>...</th>\n",
       "      <th>Outlet_Identifier_OUT046</th>\n",
       "      <th>Outlet_Identifier_OUT049</th>\n",
       "      <th>Outlet_Size_MISSING</th>\n",
       "      <th>Outlet_Size_Medium</th>\n",
       "      <th>Outlet_Size_Small</th>\n",
       "      <th>Outlet_Location_Type_Tier 2</th>\n",
       "      <th>Outlet_Location_Type_Tier 3</th>\n",
       "      <th>Outlet_Type_Supermarket Type1</th>\n",
       "      <th>Outlet_Type_Supermarket Type2</th>\n",
       "      <th>Outlet_Type_Supermarket Type3</th>\n",
       "    </tr>\n",
       "  </thead>\n",
       "  <tbody>\n",
       "    <tr>\n",
       "      <th>7503</th>\n",
       "      <td>14.30</td>\n",
       "      <td>0.03</td>\n",
       "      <td>79.43</td>\n",
       "      <td>1,987.00</td>\n",
       "      <td>0.00</td>\n",
       "      <td>0.00</td>\n",
       "      <td>0.00</td>\n",
       "      <td>0.00</td>\n",
       "      <td>0.00</td>\n",
       "      <td>1.00</td>\n",
       "      <td>...</td>\n",
       "      <td>0.00</td>\n",
       "      <td>0.00</td>\n",
       "      <td>0.00</td>\n",
       "      <td>0.00</td>\n",
       "      <td>0.00</td>\n",
       "      <td>0.00</td>\n",
       "      <td>1.00</td>\n",
       "      <td>1.00</td>\n",
       "      <td>0.00</td>\n",
       "      <td>0.00</td>\n",
       "    </tr>\n",
       "    <tr>\n",
       "      <th>2957</th>\n",
       "      <td>7.93</td>\n",
       "      <td>0.07</td>\n",
       "      <td>42.71</td>\n",
       "      <td>1,997.00</td>\n",
       "      <td>0.00</td>\n",
       "      <td>0.00</td>\n",
       "      <td>0.00</td>\n",
       "      <td>0.00</td>\n",
       "      <td>0.00</td>\n",
       "      <td>0.00</td>\n",
       "      <td>...</td>\n",
       "      <td>1.00</td>\n",
       "      <td>0.00</td>\n",
       "      <td>0.00</td>\n",
       "      <td>0.00</td>\n",
       "      <td>1.00</td>\n",
       "      <td>0.00</td>\n",
       "      <td>0.00</td>\n",
       "      <td>1.00</td>\n",
       "      <td>0.00</td>\n",
       "      <td>0.00</td>\n",
       "    </tr>\n",
       "    <tr>\n",
       "      <th>7031</th>\n",
       "      <td>14.50</td>\n",
       "      <td>0.04</td>\n",
       "      <td>42.05</td>\n",
       "      <td>1,999.00</td>\n",
       "      <td>1.00</td>\n",
       "      <td>0.00</td>\n",
       "      <td>0.00</td>\n",
       "      <td>1.00</td>\n",
       "      <td>0.00</td>\n",
       "      <td>0.00</td>\n",
       "      <td>...</td>\n",
       "      <td>0.00</td>\n",
       "      <td>1.00</td>\n",
       "      <td>0.00</td>\n",
       "      <td>1.00</td>\n",
       "      <td>0.00</td>\n",
       "      <td>0.00</td>\n",
       "      <td>0.00</td>\n",
       "      <td>1.00</td>\n",
       "      <td>0.00</td>\n",
       "      <td>0.00</td>\n",
       "    </tr>\n",
       "  </tbody>\n",
       "</table>\n",
       "<p>3 rows × 37 columns</p>\n",
       "</div>"
      ],
      "text/plain": [
       "      Item_Weight  Item_Visibility  Item_MRP  Outlet_Establishment_Year  \\\n",
       "7503        14.30             0.03     79.43                   1,987.00   \n",
       "2957         7.93             0.07     42.71                   1,997.00   \n",
       "7031        14.50             0.04     42.05                   1,999.00   \n",
       "\n",
       "      Item_Fat_Content_Regular  Item_Type_Breads  Item_Type_Breakfast  \\\n",
       "7503                      0.00              0.00                 0.00   \n",
       "2957                      0.00              0.00                 0.00   \n",
       "7031                      1.00              0.00                 0.00   \n",
       "\n",
       "      Item_Type_Canned  Item_Type_Dairy  Item_Type_Frozen Foods  ...  \\\n",
       "7503              0.00             0.00                    1.00  ...   \n",
       "2957              0.00             0.00                    0.00  ...   \n",
       "7031              1.00             0.00                    0.00  ...   \n",
       "\n",
       "      Outlet_Identifier_OUT046  Outlet_Identifier_OUT049  Outlet_Size_MISSING  \\\n",
       "7503                      0.00                      0.00                 0.00   \n",
       "2957                      1.00                      0.00                 0.00   \n",
       "7031                      0.00                      1.00                 0.00   \n",
       "\n",
       "      Outlet_Size_Medium  Outlet_Size_Small  Outlet_Location_Type_Tier 2  \\\n",
       "7503                0.00               0.00                         0.00   \n",
       "2957                0.00               1.00                         0.00   \n",
       "7031                1.00               0.00                         0.00   \n",
       "\n",
       "      Outlet_Location_Type_Tier 3  Outlet_Type_Supermarket Type1  \\\n",
       "7503                         1.00                           1.00   \n",
       "2957                         0.00                           1.00   \n",
       "7031                         0.00                           1.00   \n",
       "\n",
       "      Outlet_Type_Supermarket Type2  Outlet_Type_Supermarket Type3  \n",
       "7503                           0.00                           0.00  \n",
       "2957                           0.00                           0.00  \n",
       "7031                           0.00                           0.00  \n",
       "\n",
       "[3 rows x 37 columns]"
      ]
     },
     "execution_count": 68,
     "metadata": {},
     "output_type": "execute_result"
    }
   ],
   "source": [
    "X_test_df2=pd.DataFrame(preprocessor.transform(X_test),\n",
    "                      columns=feature_names,index=X_test.index)\n",
    "X_test_df.head(3)"
   ]
  },
  {
   "cell_type": "code",
   "execution_count": 69,
   "id": "185a9541",
   "metadata": {
    "scrolled": false
   },
   "outputs": [
    {
     "name": "stdout",
     "output_type": "stream",
     "text": [
      "Training Data:\tR^2= 0.56\tRMSE= 1139.10\n",
      "Test Data:\tR^2= 0.57\tRMSE= 1092.86\n"
     ]
    },
    {
     "data": {
      "image/png": "[encoded data removed]",
      "text/plain": [
       "<Figure size 400x500 with 1 Axes>"
      ]
     },
     "metadata": {},
     "output_type": "display_data"
    }
   ],
   "source": [
    "lin_reg = LinearRegression()\n",
    "lin_reg.fit(X_train_df2,y_train)\n",
    "evaluate_regression(lin_reg, X_train_df2, y_train, X_test_df2,y_test)\n",
    "coeffs = get_coeffs_linreg(lin_reg)\n",
    "plot_coeffs(coeffs,top_n=3,annotate=True)\n",
    "plt.savefig('coefficients.png', bbox_inches='tight');"
   ]
  },
  {
   "cell_type": "code",
   "execution_count": 70,
   "id": "824f0bd4",
   "metadata": {},
   "outputs": [],
   "source": [
    "# 3 Most impactful features\n",
    "top3=coeffs.abs().nlargest(3).index"
   ]
  },
  {
   "cell_type": "code",
   "execution_count": 71,
   "id": "6440bb43",
   "metadata": {},
   "outputs": [
    {
     "name": "stdout",
     "output_type": "stream",
     "text": [
      "This Feature intercept has a postivie impact on the target variable.\n",
      "This Feature Outlet_Type_Grocery Store has a negative impact on the target variable.\n",
      "This Feature Outlet_Identifier_OUT027 has a postivie impact on the target variable.\n"
     ]
    }
   ],
   "source": [
    "# interpret them in plain english.\n",
    "for feature in top3:\n",
    "        coefficient=coeffs[feature]\n",
    "        if coefficient >= 0:\n",
    "            print(f'This Feature {feature} has a postivie impact on the target variable.')\n",
    "        else:\n",
    "            print(f'This Feature {feature} has a negative impact on the target variable.')"
   ]
  },
  {
   "cell_type": "markdown",
   "id": "5cf771d3",
   "metadata": {},
   "source": [
    "# Random Forest"
   ]
  },
  {
   "cell_type": "code",
   "execution_count": 72,
   "id": "4ea0d1bb",
   "metadata": {
    "scrolled": false
   },
   "outputs": [
    {
     "name": "stdout",
     "output_type": "stream",
     "text": [
      "Training Data:\tR^2= 0.94\tRMSE= 428.57\n",
      "Test Data:\tR^2= 0.56\tRMSE= 1102.12\n"
     ]
    },
    {
     "data": {
      "image/png": "[encoded data removed]",
      "text/plain": [
       "<Figure size 800x600 with 1 Axes>"
      ]
     },
     "metadata": {},
     "output_type": "display_data"
    }
   ],
   "source": [
    "reg = RandomForestRegressor()\n",
    "reg.fit(X_train_df,y_train)\n",
    "evaluate_regression(reg, X_train_df, y_train, X_test_df,y_test)\n",
    "## Saving the feature importances\n",
    "importances = get_importances(reg)\n",
    "plot_importance(importances, top_n=10);\n",
    "plt.savefig('importances.png', bbox_inches='tight');"
   ]
  },
  {
   "cell_type": "markdown",
   "id": "ea771d64",
   "metadata": {},
   "source": [
    "# JobLib"
   ]
  },
  {
   "cell_type": "code",
   "execution_count": 73,
   "id": "d1d05ace",
   "metadata": {},
   "outputs": [
    {
     "data": {
      "text/plain": [
       "['linreg.joblib']"
      ]
     },
     "execution_count": 73,
     "metadata": {},
     "output_type": "execute_result"
    }
   ],
   "source": [
    "import joblib\n",
    "export = {'preprocessor':preprocessor,\n",
    "         'X_train':X_train_df2,\n",
    "         'y_train': y_train,\n",
    "         'X_test':X_test_df2,\n",
    "         'y_test': y_test,\n",
    "         'LinearRegression':lin_reg}\n",
    "joblib.dump(export, 'linreg.joblib')"
   ]
  },
  {
   "cell_type": "code",
   "execution_count": 74,
   "id": "8851b8b0",
   "metadata": {},
   "outputs": [
    {
     "data": {
      "text/plain": [
       "['rfreg.joblib']"
      ]
     },
     "execution_count": 74,
     "metadata": {},
     "output_type": "execute_result"
    }
   ],
   "source": [
    "export = {'preprocessor':preprocessor,\n",
    "         'X_train':X_train_df2,\n",
    "         'y_train': y_train,\n",
    "         'X_test':X_test_df2,\n",
    "         'y_test': y_test,\n",
    "         'RandomForestRegressor':reg}\n",
    "joblib.dump(export, 'rfreg.joblib')"
   ]
  }
 ],
 "metadata": {
  "kernelspec": {
   "display_name": "Python (dojo-env)",
   "language": "python",
   "name": "dojo-env"
  },
  "language_info": {
   "codemirror_mode": {
    "name": "ipython",
    "version": 3
   },
   "file_extension": ".py",
   "mimetype": "text/x-python",
   "name": "python",
   "nbconvert_exporter": "python",
   "pygments_lexer": "ipython3",
   "version": "3.9.15"
  },
  "toc": {
   "base_numbering": 1,
   "nav_menu": {},
   "number_sections": true,
   "sideBar": true,
   "skip_h1_title": false,
   "title_cell": "Table of Contents",
   "title_sidebar": "Contents",
   "toc_cell": false,
   "toc_position": {},
   "toc_section_display": true,
   "toc_window_display": false
  }
 },
 "nbformat": 4,
 "nbformat_minor": 5
}
