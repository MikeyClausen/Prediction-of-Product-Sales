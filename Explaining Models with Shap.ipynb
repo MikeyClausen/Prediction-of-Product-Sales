{
 "cells": [
  {
   "cell_type": "code",
   "execution_count": 1,
   "id": "174e6a4d",
   "metadata": {},
   "outputs": [],
   "source": [
    "#Imports\n",
    "import os\n",
    "os.environ[\"OMP_NUM_THREADS\"] = '1'\n",
    "import pandas as pd\n",
    "import numpy as np\n",
    "import joblib\n",
    "import shap\n",
    "import matplotlib.pyplot as plt"
   ]
  },
  {
   "cell_type": "code",
   "execution_count": 2,
   "id": "7046b5fb",
   "metadata": {},
   "outputs": [
    {
     "data": {
      "text/plain": [
       "dict_keys(['preprocessor', 'X_train', 'y_train', 'X_test', 'y_test', 'LinearRegression'])"
      ]
     },
     "execution_count": 2,
     "metadata": {},
     "output_type": "execute_result"
    }
   ],
   "source": [
    "loaded_joblib=joblib.load('linreg.joblib')\n",
    "loaded_joblib.keys()"
   ]
  },
  {
   "cell_type": "code",
   "execution_count": 3,
   "id": "b116d0c7",
   "metadata": {},
   "outputs": [
    {
     "data": {
      "text/plain": [
       "dict_keys(['preprocessor', 'X_train', 'y_train', 'X_test', 'y_test', 'RandomForest'])"
      ]
     },
     "execution_count": 3,
     "metadata": {},
     "output_type": "execute_result"
    }
   ],
   "source": [
    "loaded_joblib2=joblib.load('rfreg.joblib')\n",
    "loaded_joblib2.keys()"
   ]
  },
  {
   "cell_type": "code",
   "execution_count": 4,
   "id": "8ac34fcb",
   "metadata": {},
   "outputs": [],
   "source": [
    "X_train=loaded_joblib2['X_train']\n",
    "X_test=loaded_joblib2['X_test']\n",
    "y_train=loaded_joblib2['y_train']\n",
    "y_test=loaded_joblib2['y_test']\n",
    "preprocessor=loaded_joblib2['preprocessor']\n",
    "loaded_model=loaded_joblib2['RandomForest']"
   ]
  },
  {
   "cell_type": "code",
   "execution_count": 5,
   "id": "85672a43",
   "metadata": {},
   "outputs": [
    {
     "data": {
      "text/plain": [
       "6392"
      ]
     },
     "execution_count": 5,
     "metadata": {},
     "output_type": "execute_result"
    }
   ],
   "source": [
    "len(X_train)"
   ]
  },
  {
   "cell_type": "code",
   "execution_count": 6,
   "id": "7d1d168b",
   "metadata": {},
   "outputs": [
    {
     "data": {
      "text/html": [
       "<div>\n",
       "<style scoped>\n",
       "    .dataframe tbody tr th:only-of-type {\n",
       "        vertical-align: middle;\n",
       "    }\n",
       "\n",
       "    .dataframe tbody tr th {\n",
       "        vertical-align: top;\n",
       "    }\n",
       "\n",
       "    .dataframe thead th {\n",
       "        text-align: right;\n",
       "    }\n",
       "</style>\n",
       "<table border=\"1\" class=\"dataframe\">\n",
       "  <thead>\n",
       "    <tr style=\"text-align: right;\">\n",
       "      <th></th>\n",
       "      <th>Item_Weight</th>\n",
       "      <th>Item_Visibility</th>\n",
       "      <th>Item_MRP</th>\n",
       "      <th>Outlet_Establishment_Year</th>\n",
       "      <th>Item_Fat_Content_Regular</th>\n",
       "      <th>Item_Type_Baking Goods</th>\n",
       "      <th>Item_Type_Breads</th>\n",
       "      <th>Item_Type_Breakfast</th>\n",
       "      <th>Item_Type_Canned</th>\n",
       "      <th>Item_Type_Dairy</th>\n",
       "      <th>...</th>\n",
       "      <th>Outlet_Identifier_OUT046</th>\n",
       "      <th>Outlet_Identifier_OUT049</th>\n",
       "      <th>Outlet_Size_Large</th>\n",
       "      <th>Outlet_Size_Medium</th>\n",
       "      <th>Outlet_Size_Small</th>\n",
       "      <th>Outlet_Location_Type_Tier 2</th>\n",
       "      <th>Outlet_Location_Type_Tier 3</th>\n",
       "      <th>Outlet_Type_Grocery Store</th>\n",
       "      <th>Outlet_Type_Supermarket Type1</th>\n",
       "      <th>Outlet_Type_Supermarket Type3</th>\n",
       "    </tr>\n",
       "  </thead>\n",
       "  <tbody>\n",
       "    <tr>\n",
       "      <th>2937</th>\n",
       "      <td>8.365</td>\n",
       "      <td>0.039811</td>\n",
       "      <td>191.3188</td>\n",
       "      <td>1987.0</td>\n",
       "      <td>1.0</td>\n",
       "      <td>0.0</td>\n",
       "      <td>0.0</td>\n",
       "      <td>0.0</td>\n",
       "      <td>0.0</td>\n",
       "      <td>0.0</td>\n",
       "      <td>...</td>\n",
       "      <td>0.0</td>\n",
       "      <td>0.0</td>\n",
       "      <td>1.0</td>\n",
       "      <td>0.0</td>\n",
       "      <td>0.0</td>\n",
       "      <td>0.0</td>\n",
       "      <td>1.0</td>\n",
       "      <td>0.0</td>\n",
       "      <td>1.0</td>\n",
       "      <td>0.0</td>\n",
       "    </tr>\n",
       "    <tr>\n",
       "      <th>6371</th>\n",
       "      <td>9.695</td>\n",
       "      <td>0.030414</td>\n",
       "      <td>221.3114</td>\n",
       "      <td>2009.0</td>\n",
       "      <td>1.0</td>\n",
       "      <td>0.0</td>\n",
       "      <td>0.0</td>\n",
       "      <td>0.0</td>\n",
       "      <td>0.0</td>\n",
       "      <td>0.0</td>\n",
       "      <td>...</td>\n",
       "      <td>0.0</td>\n",
       "      <td>0.0</td>\n",
       "      <td>0.0</td>\n",
       "      <td>1.0</td>\n",
       "      <td>0.0</td>\n",
       "      <td>0.0</td>\n",
       "      <td>1.0</td>\n",
       "      <td>0.0</td>\n",
       "      <td>0.0</td>\n",
       "      <td>0.0</td>\n",
       "    </tr>\n",
       "  </tbody>\n",
       "</table>\n",
       "<p>2 rows × 37 columns</p>\n",
       "</div>"
      ],
      "text/plain": [
       "      Item_Weight  Item_Visibility  Item_MRP  Outlet_Establishment_Year  \\\n",
       "2937        8.365         0.039811  191.3188                     1987.0   \n",
       "6371        9.695         0.030414  221.3114                     2009.0   \n",
       "\n",
       "      Item_Fat_Content_Regular  Item_Type_Baking Goods  Item_Type_Breads  \\\n",
       "2937                       1.0                     0.0               0.0   \n",
       "6371                       1.0                     0.0               0.0   \n",
       "\n",
       "      Item_Type_Breakfast  Item_Type_Canned  Item_Type_Dairy  ...  \\\n",
       "2937                  0.0               0.0              0.0  ...   \n",
       "6371                  0.0               0.0              0.0  ...   \n",
       "\n",
       "      Outlet_Identifier_OUT046  Outlet_Identifier_OUT049  Outlet_Size_Large  \\\n",
       "2937                       0.0                       0.0                1.0   \n",
       "6371                       0.0                       0.0                0.0   \n",
       "\n",
       "      Outlet_Size_Medium  Outlet_Size_Small  Outlet_Location_Type_Tier 2  \\\n",
       "2937                 0.0                0.0                          0.0   \n",
       "6371                 1.0                0.0                          0.0   \n",
       "\n",
       "      Outlet_Location_Type_Tier 3  Outlet_Type_Grocery Store  \\\n",
       "2937                          1.0                        0.0   \n",
       "6371                          1.0                        0.0   \n",
       "\n",
       "      Outlet_Type_Supermarket Type1  Outlet_Type_Supermarket Type3  \n",
       "2937                            1.0                            0.0  \n",
       "6371                            0.0                            0.0  \n",
       "\n",
       "[2 rows x 37 columns]"
      ]
     },
     "execution_count": 6,
     "metadata": {},
     "output_type": "execute_result"
    }
   ],
   "source": [
    "X_shap=shap.sample(X_train,random_state=42,nsamples=3000)\n",
    "X_shap.head(2)"
   ]
  },
  {
   "cell_type": "code",
   "execution_count": 7,
   "id": "a0aba085",
   "metadata": {},
   "outputs": [
    {
     "data": {
      "text/plain": [
       "2937    2285.0256\n",
       "6371    2217.1140\n",
       "3762     196.4110\n",
       "419     2940.1728\n",
       "8475     378.1744\n",
       "          ...    \n",
       "3097    3427.5384\n",
       "6466     689.7688\n",
       "7220    3946.8624\n",
       "5591     317.5866\n",
       "3880     182.4292\n",
       "Name: Item_Outlet_Sales, Length: 3000, dtype: float64"
      ]
     },
     "execution_count": 7,
     "metadata": {},
     "output_type": "execute_result"
    }
   ],
   "source": [
    "y_shap=y_train.loc[X_shap.index]\n",
    "y_shap"
   ]
  },
  {
   "cell_type": "code",
   "execution_count": 8,
   "id": "46fcd424",
   "metadata": {},
   "outputs": [
    {
     "data": {
      "text/plain": [
       "<shap.explainers._tree.Tree at 0x2161f3ef310>"
      ]
     },
     "execution_count": 8,
     "metadata": {},
     "output_type": "execute_result"
    }
   ],
   "source": [
    "explainer=shap.Explainer(loaded_model)\n",
    "explainer"
   ]
  },
  {
   "cell_type": "code",
   "execution_count": null,
   "id": "05cef457",
   "metadata": {
    "scrolled": true
   },
   "outputs": [],
   "source": [
    "shap_values=explainer(X_shap,y_shap)\n",
    "type(shap_values)"
   ]
  },
  {
   "cell_type": "code",
   "execution_count": null,
   "id": "adbb020b",
   "metadata": {},
   "outputs": [],
   "source": [
    "X_shap.shape"
   ]
  },
  {
   "cell_type": "code",
   "execution_count": null,
   "id": "c57058aa",
   "metadata": {},
   "outputs": [],
   "source": [
    "shap_values.shape"
   ]
  },
  {
   "cell_type": "code",
   "execution_count": null,
   "id": "9abf90fb",
   "metadata": {
    "scrolled": true
   },
   "outputs": [],
   "source": [
    "shap_values[0]"
   ]
  },
  {
   "cell_type": "code",
   "execution_count": null,
   "id": "9c44cf3b",
   "metadata": {
    "scrolled": false
   },
   "outputs": [],
   "source": [
    "pd.DataFrame(shap_values.values, columns = X_shap.columns)"
   ]
  },
  {
   "cell_type": "code",
   "execution_count": null,
   "id": "db506f8f",
   "metadata": {
    "scrolled": true
   },
   "outputs": [],
   "source": [
    "shap.summary_plot(shap_values,features= X_shap, plot_type='bar')\n",
    "plt.savefig('shap.png', bbox_inches='tight');"
   ]
  },
  {
   "cell_type": "markdown",
   "id": "153ff2c8",
   "metadata": {},
   "source": [
    "# Comparing to Importance with SHAP\n",
    "\n",
    "   * Item_MRP: Both Shap and our Random Forest model this is a very important feature in our predictions.\n",
    "   * Item_Visibility: This shows on both, but seems to have a very low impact according to SHAP.\n",
    "   * Outlet_Type: Is shown as important in both scorings."
   ]
  },
  {
   "cell_type": "markdown",
   "id": "703af7ad",
   "metadata": {},
   "source": [
    "![importance](importances.png)"
   ]
  },
  {
   "cell_type": "markdown",
   "id": "38dcb955",
   "metadata": {},
   "source": []
  },
  {
   "cell_type": "code",
   "execution_count": null,
   "id": "04859bee",
   "metadata": {},
   "outputs": [],
   "source": [
    "shap.summary_plot(shap_values,features= X_shap, plot_type='dot')\n",
    "plt.savefig('shapdot.png', bbox_inches='tight');"
   ]
  },
  {
   "cell_type": "markdown",
   "id": "e5afa36a",
   "metadata": {},
   "source": [
    "# Evalute 'dot' plot"
   ]
  },
  {
   "cell_type": "markdown",
   "id": "5622bf8f",
   "metadata": {},
   "source": [
    "* Outlet_Type_Grocery store: Grocery store type has the best sales.\n",
    "* Item_MRP: Effects the model in both ways. \n",
    "* Outlet_Identifier_OUT027: Highest selling store."
   ]
  }
 ],
 "metadata": {
  "kernelspec": {
   "display_name": "Python (dojo-env)",
   "language": "python",
   "name": "dojo-env"
  },
  "language_info": {
   "codemirror_mode": {
    "name": "ipython",
    "version": 3
   },
   "file_extension": ".py",
   "mimetype": "text/x-python",
   "name": "python",
   "nbconvert_exporter": "python",
   "pygments_lexer": "ipython3",
   "version": "3.9.15"
  },
  "toc": {
   "base_numbering": 1,
   "nav_menu": {},
   "number_sections": true,
   "sideBar": true,
   "skip_h1_title": false,
   "title_cell": "Table of Contents",
   "title_sidebar": "Contents",
   "toc_cell": false,
   "toc_position": {},
   "toc_section_display": true,
   "toc_window_display": false
  }
 },
 "nbformat": 4,
 "nbformat_minor": 5
}
