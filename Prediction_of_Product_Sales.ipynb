{
  "nbformat": 4,
  "nbformat_minor": 0,
  "metadata": {
    "colab": {
      "provenance": [],
      "authorship_tag": "ABX9TyMIDuAvHh6lq1JznNeWYIyr",
      "include_colab_link": true
    },
    "kernelspec": {
      "name": "python3",
      "display_name": "Python 3"
    },
    "language_info": {
      "name": "python"
    }
  },
  "cells": [
    {
      "cell_type": "markdown",
      "metadata": {
        "id": "view-in-github",
        "colab_type": "text"
      },
      "source": [
        "<a href=\"https://colab.research.google.com/github/MikeyClausen/Prediction-of-Product-Sales/blob/main/Prediction_of_Product_Sales.ipynb\" target=\"_parent\"><img src=\"https://colab.research.google.com/assets/colab-badge.svg\" alt=\"Open In Colab\"/></a>"
      ]
    },
    {
      "cell_type": "markdown",
      "source": [
        "# Prediction-of-Product-Sales \n",
        "- Mikey Clausen"
      ],
      "metadata": {
        "id": "ig5jBLWY5lHJ"
      }
    },
    {
      "cell_type": "markdown",
      "source": [
        "## Project Overview"
      ],
      "metadata": {
        "id": "pSK0ChKK5nYv"
      }
    },
    {
      "cell_type": "markdown",
      "source": [
        "## Load and Inspect Data"
      ],
      "metadata": {
        "id": "HBYcSqFM5pZg"
      }
    },
    {
      "cell_type": "code",
      "source": [
        "#yourcodehere"
      ],
      "metadata": {
        "id": "DIHzfQW85pis"
      },
      "execution_count": null,
      "outputs": []
    },
    {
      "cell_type": "markdown",
      "source": [
        "## Clean Data"
      ],
      "metadata": {
        "id": "VV3C_EJ05pr9"
      }
    },
    {
      "cell_type": "code",
      "source": [
        "#yourcodehere"
      ],
      "metadata": {
        "id": "M7kLHk9S5p2Z"
      },
      "execution_count": null,
      "outputs": []
    },
    {
      "cell_type": "markdown",
      "source": [
        "## Exploratory Data Analysis\n",
        "\n"
      ],
      "metadata": {
        "id": "IQKsKOxt5p83"
      }
    },
    {
      "cell_type": "code",
      "source": [
        "#yourcodehere"
      ],
      "metadata": {
        "id": "goL8GMPT5qEK"
      },
      "execution_count": null,
      "outputs": []
    },
    {
      "cell_type": "markdown",
      "source": [
        "## Explanatory Data Analysis"
      ],
      "metadata": {
        "id": "rT-Kn_3v5qKO"
      }
    },
    {
      "cell_type": "code",
      "source": [
        "#yourcodehere"
      ],
      "metadata": {
        "id": "Q_-8SFOf531w"
      },
      "execution_count": null,
      "outputs": []
    }
  ]
}