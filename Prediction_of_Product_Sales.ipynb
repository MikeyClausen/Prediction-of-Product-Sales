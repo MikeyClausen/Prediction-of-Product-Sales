{
  "nbformat": 4,
  "nbformat_minor": 0,
  "metadata": {
    "colab": {
      "provenance": [],
      "authorship_tag": "ABX9TyNUE9cidF0BKnT24PXl/Lcb",
      "include_colab_link": true
    },
    "kernelspec": {
      "name": "python3",
      "display_name": "Python 3"
    },
    "language_info": {
      "name": "python"
    }
  },
  "cells": [
    {
      "cell_type": "markdown",
      "metadata": {
        "id": "view-in-github",
        "colab_type": "text"
      },
      "source": [
        "<a href=\"https://colab.research.google.com/github/MikeyClausen/Prediction-of-Product-Sales/blob/main/Prediction_of_Product_Sales.ipynb\" target=\"_parent\"><img src=\"https://colab.research.google.com/assets/colab-badge.svg\" alt=\"Open In Colab\"/></a>"
      ]
    },
    {
      "cell_type": "code",
      "execution_count": 8,
      "metadata": {
        "id": "u_m9zxg_oheX"
      },
      "outputs": [],
      "source": [
        "# Prediction-of-Product-Sales \n",
        "- Mikey Clausen"
      ]
    },
    {
      "cell_type": "code",
      "source": [
        "## Project Overview"
      ],
      "metadata": {
        "id": "SZQikm6NzLE3"
      },
      "execution_count": 1,
      "outputs": []
    },
    {
      "cell_type": "code",
      "source": [
        "## Load and Inspect Data"
      ],
      "metadata": {
        "id": "xKQ9F-cozMi4"
      },
      "execution_count": 2,
      "outputs": []
    },
    {
      "cell_type": "code",
      "source": [
        "## Clean Data"
      ],
      "metadata": {
        "id": "yNvNJeKDzNsd"
      },
      "execution_count": 3,
      "outputs": []
    },
    {
      "cell_type": "code",
      "source": [
        "## Exploratory Data Analysis"
      ],
      "metadata": {
        "id": "i7cRQy7XzPTk"
      },
      "execution_count": 4,
      "outputs": []
    },
    {
      "cell_type": "code",
      "source": [
        "## Explanatory Data Analysis"
      ],
      "metadata": {
        "id": "TkfiluG2zQv6"
      },
      "execution_count": 5,
      "outputs": []
    }
  ]
}